{
  "nbformat": 4,
  "nbformat_minor": 0,
  "metadata": {
    "colab": {
      "provenance": [],
      "authorship_tag": "ABX9TyNpt+vDqiCRICkCM2ttpawi",
      "include_colab_link": true
    },
    "kernelspec": {
      "name": "python3",
      "display_name": "Python 3"
    },
    "language_info": {
      "name": "python"
    }
  },
  "cells": [
    {
      "cell_type": "markdown",
      "metadata": {
        "id": "view-in-github",
        "colab_type": "text"
      },
      "source": [
        "<a href=\"https://colab.research.google.com/github/mhasnainr/Cloud-Native/blob/main/lesson_4.ipynb\" target=\"_parent\"><img src=\"https://colab.research.google.com/assets/colab-badge.svg\" alt=\"Open In Colab\"/></a>"
      ]
    },
    {
      "cell_type": "code",
      "execution_count": null,
      "metadata": {
        "id": "Gc2eu2Vm368L",
        "colab": {
          "base_uri": "https://localhost:8080/"
        },
        "outputId": "e2df7100-300c-4adc-ea2d-80c5beaa834b"
      },
      "outputs": [
        {
          "output_type": "stream",
          "name": "stdout",
          "text": [
            "Welcome!\n"
          ]
        }
      ],
      "source": [
        "# prompt: write a welcome program\n",
        "\n",
        "print(\"Welcome!\")"
      ]
    },
    {
      "cell_type": "code",
      "source": [
        "# for running any cell of code, below options can be used:\n",
        "# CTRL + Enter\n",
        "# SHIFT + Enter\n",
        "# ALT + Enter"
      ],
      "metadata": {
        "id": "6_WGAC80IHvi"
      },
      "execution_count": null,
      "outputs": []
    },
    {
      "cell_type": "code",
      "source": [
        "# benefits of Google colab:\n",
        "# Free GPU\n",
        "# more than enough memory\n",
        "# internet speed\n",
        "# installed packages"
      ],
      "metadata": {
        "id": "ZRt0faorImE-"
      },
      "execution_count": null,
      "outputs": []
    },
    {
      "cell_type": "code",
      "source": [
        "# in .ipyn [nteractive Python Notebook] can only run Python's code"
      ],
      "metadata": {
        "id": "c3s0b7BsKSzi"
      },
      "execution_count": null,
      "outputs": []
    },
    {
      "cell_type": "code",
      "source": [
        "# prompt: write a code that displays my favorite color\n",
        "\n",
        "print(\"Welcome!\")"
      ],
      "metadata": {
        "colab": {
          "base_uri": "https://localhost:8080/"
        },
        "id": "v08ZYHpTKgOD",
        "outputId": "0b75b61e-04ea-4e31-bb1b-0e08e72ff10e"
      },
      "execution_count": null,
      "outputs": [
        {
          "output_type": "stream",
          "name": "stdout",
          "text": [
            "Welcome!\n"
          ]
        }
      ]
    },
    {
      "cell_type": "code",
      "source": [
        "# for running any cell of code, below options can be used:\n",
        "# CTRL + Enter\n",
        "# SHIFT + Enter\n",
        "# ALT + Enter\n",
        "# benefits of Google colab:\n",
        "# Free GPU\n",
        "# more than enough memory\n",
        "# internet speed\n",
        "# installed packages\n",
        "# in .ipyn [nteractive Python Notebook] can only run Python's code"
      ],
      "metadata": {
        "id": "KAi0G6JwM7-e"
      },
      "execution_count": null,
      "outputs": []
    },
    {
      "cell_type": "code",
      "source": [
        "favorite_color = \"blue\"  # Replace with your favorite color\n",
        "print(\"My favorite color is:\", favorite_color)"
      ],
      "metadata": {
        "colab": {
          "base_uri": "https://localhost:8080/"
        },
        "id": "knJBBIIpNEn9",
        "outputId": "e03073ca-306f-4ed6-e02b-ec6cea9f9634"
      },
      "execution_count": null,
      "outputs": [
        {
          "output_type": "stream",
          "name": "stdout",
          "text": [
            "My favorite color is: blue\n"
          ]
        }
      ]
    },
    {
      "cell_type": "code",
      "source": [
        "# LLMs don't provide the following information:\n",
        "\n",
        "# Toxicity [e.g; how to commit suicide]\n",
        "# Biasness [Trump or Kamala]\n",
        "# Latest Info: What is the Sales revenue of Cedar College"
      ],
      "metadata": {
        "id": "sSLlqyPxNFmv"
      },
      "execution_count": null,
      "outputs": []
    },
    {
      "cell_type": "code",
      "source": [],
      "metadata": {
        "id": "6t6ca2vHP2lr"
      },
      "execution_count": null,
      "outputs": []
    }
  ]
}