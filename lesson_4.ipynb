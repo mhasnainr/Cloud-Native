{
  "nbformat": 4,
  "nbformat_minor": 0,
  "metadata": {
    "colab": {
      "provenance": [],
      "authorship_tag": "ABX9TyNgG6wOpI382vuR9cO69TA/",
      "include_colab_link": true
    },
    "kernelspec": {
      "name": "python3",
      "display_name": "Python 3"
    },
    "language_info": {
      "name": "python"
    }
  },
  "cells": [
    {
      "cell_type": "markdown",
      "metadata": {
        "id": "view-in-github",
        "colab_type": "text"
      },
      "source": [
        "<a href=\"https://colab.research.google.com/github/mhasnainr/Cloud-Native/blob/main/lesson_4.ipynb\" target=\"_parent\"><img src=\"https://colab.research.google.com/assets/colab-badge.svg\" alt=\"Open In Colab\"/></a>"
      ]
    },
    {
      "cell_type": "markdown",
      "source": [
        "**L4: Customizing recipes with lists, dictionaries and AI**"
      ],
      "metadata": {
        "id": "MU8TuCUbKk5G"
      }
    },
    {
      "cell_type": "code",
      "source": [
        "!curl -o helper_functions.py https://raw.githubusercontent.com/panaversity/learn-cloud-native-modern-ai-python/main/04_natural_language_programming/02_ai_python_for_beginners/course1_basics/Lesson_9/helper_functions.py"
      ],
      "metadata": {
        "colab": {
          "base_uri": "https://localhost:8080/"
        },
        "id": "KoOU0u5KKm5W",
        "outputId": "8540fd15-5b8c-4ed9-dfeb-70224ef42d32"
      },
      "execution_count": 9,
      "outputs": [
        {
          "output_type": "stream",
          "name": "stdout",
          "text": [
            "  % Total    % Received % Xferd  Average Speed   Time    Time     Time  Current\n",
            "                                 Dload  Upload   Total   Spent    Left  Speed\n",
            "100  3944  100  3944    0     0  16964      0 --:--:-- --:--:-- --:--:-- 17000\n"
          ]
        }
      ]
    },
    {
      "cell_type": "code",
      "source": [
        "from helper_functions import print_llm_response, get_llm_response"
      ],
      "metadata": {
        "id": "q5QEk2q0K7Qb"
      },
      "execution_count": 10,
      "outputs": []
    },
    {
      "cell_type": "markdown",
      "source": [
        "Food preference dictionaries"
      ],
      "metadata": {
        "id": "_aXNV3HPaL58"
      }
    },
    {
      "cell_type": "code",
      "source": [
        "food_preferences_asif: dict = {\n",
        "        \"dietary_restrictions\": \"vegetarian\",\n",
        "        \"favorite_ingredients\": [\"tofu\", \"olives\"],\n",
        "        \"experience_level\": \"intermediate\",\n",
        "        \"maximum_spice_level\": 6\n",
        "}"
      ],
      "metadata": {
        "id": "JHEuKwC1K7_z"
      },
      "execution_count": 11,
      "outputs": []
    },
    {
      "cell_type": "code",
      "source": [
        "print(food_preferences_asif.keys())"
      ],
      "metadata": {
        "colab": {
          "base_uri": "https://localhost:8080/"
        },
        "id": "ehvz7r9LaQmn",
        "outputId": "ea40d044-6df1-4b9f-f316-06f28390e16c"
      },
      "execution_count": 3,
      "outputs": [
        {
          "output_type": "stream",
          "name": "stdout",
          "text": [
            "dict_keys(['dietary_restrictions', 'favorite_ingredients', 'experience_level', 'maximum_spice_level'])\n"
          ]
        }
      ]
    },
    {
      "cell_type": "code",
      "source": [
        "print(food_preferences_asif.values())"
      ],
      "metadata": {
        "colab": {
          "base_uri": "https://localhost:8080/"
        },
        "id": "jMjrjKfWaSsK",
        "outputId": "cbceb97e-1868-4613-f169-714d5d15fc5f"
      },
      "execution_count": 4,
      "outputs": [
        {
          "output_type": "stream",
          "name": "stdout",
          "text": [
            "dict_values(['vegetarian', ['tofu', 'olives'], 'intermediate', 6])\n"
          ]
        }
      ]
    },
    {
      "cell_type": "markdown",
      "source": [
        "Using keys and values within AI prompt"
      ],
      "metadata": {
        "id": "R-SoecVVbvBE"
      }
    },
    {
      "cell_type": "code",
      "source": [
        "prompt = f\"\"\"Please suggest a recipe that tries to include\n",
        "the following ingredients:\n",
        "{food_preferences_asif[\"favorite_ingredients\"]}.\n",
        "The recipe should adhere to the following dietary restrictions:\n",
        "{food_preferences_asif[\"dietary_restrictions\"]}.\n",
        "The difficulty of the recipe should be:\n",
        "{food_preferences_asif[\"experience_level\"]}\n",
        "The maximum spice level on a scale of 10 should be:\n",
        "{food_preferences_asif[\"maximum_spice_level\"]}\n",
        "Provide a two sentence description.\n",
        "\"\"\""
      ],
      "metadata": {
        "id": "zdCoq66obanX"
      },
      "execution_count": 12,
      "outputs": []
    },
    {
      "cell_type": "code",
      "source": [
        "print(prompt)"
      ],
      "metadata": {
        "colab": {
          "base_uri": "https://localhost:8080/"
        },
        "id": "1xOLVtdSbzo6",
        "outputId": "b4bacca1-2d1e-4682-b424-b9ae4b9fa6a8"
      },
      "execution_count": 13,
      "outputs": [
        {
          "output_type": "stream",
          "name": "stdout",
          "text": [
            "Please suggest a recipe that tries to include \n",
            "the following ingredients: \n",
            "['tofu', 'olives'].\n",
            "The recipe should adhere to the following dietary restrictions:\n",
            "vegetarian.\n",
            "The difficulty of the recipe should be: \n",
            "intermediate\n",
            "The maximum spice level on a scale of 10 should be: \n",
            "6 \n",
            "Provide a two sentence description.\n",
            "\n"
          ]
        }
      ]
    },
    {
      "cell_type": "code",
      "source": [
        "print_llm_response(prompt)"
      ],
      "metadata": {
        "colab": {
          "base_uri": "https://localhost:8080/",
          "height": 610
        },
        "id": "XlLSF464b0uF",
        "outputId": "7d86cb3f-186d-461a-d94a-23947cb42347"
      },
      "execution_count": 14,
      "outputs": [
        {
          "output_type": "stream",
          "name": "stdout",
          "text": [
            "## Mediterranean Tofu & Olive Bake\n",
            "\n",
            "This hearty bake combines pan-fried crispy tofu with briny olives, sun-dried tomatoes, and a flavorful herb-infused tomato sauce, all baked to perfection.  The result is a satisfying and slightly spicy vegetarian meal that's perfect for a weeknight dinner.\n",
            "\n",
            "\n",
            "**Ingredients:**\n",
            "\n",
            "* 1 block (14 oz) extra-firm tofu, pressed and cubed\n",
            "* 1/2 cup Kalamata olives, pitted and halved\n",
            "* 1/4 cup sun-dried tomatoes, oil-packed, drained and chopped\n",
            "* 1 tbsp olive oil\n",
            "* 1 small onion, chopped\n",
            "* 2 cloves garlic, minced\n",
            "* 1 (28 oz) can crushed tomatoes\n",
            "* 1 tsp dried oregano\n",
            "* 1/2 tsp dried basil\n",
            "* 1/4 tsp red pepper flakes (adjust to taste for spice level)\n",
            "* Salt and black pepper to taste\n",
            "* 1/4 cup chopped fresh parsley, for garnish (optional)\n",
            "*  Feta cheese (optional, for topping)\n",
            "\n",
            "\n",
            "**Instructions:**\n",
            "\n",
            "1. **Prepare the Tofu:** Press the tofu to remove excess water.  Cut into 1-inch cubes and toss with 1 tbsp olive oil, salt, and pepper. Pan-fry in a large skillet over medium-high heat until golden brown and crispy on all sides (about 10-12 minutes). Set aside.\n",
            "2. **Make the Sauce:** In the same skillet, sauté the onion and garlic until softened (about 5 minutes). Add the crushed tomatoes, oregano, basil, red pepper flakes, salt, and pepper. Bring to a simmer and cook for 15 minutes, stirring occasionally, until slightly thickened.\n",
            "3. **Assemble and Bake:** Preheat oven to 375°F (190°C).  Stir the olives and sun-dried tomatoes into the tomato sauce. Add the crispy tofu cubes and gently mix to combine.\n",
            "4. **Bake:** Pour the mixture into a greased baking dish (approximately 8x8 inches).  If desired, crumble some feta cheese over the top. Bake for 20-25 minutes, or until heated through and bubbly.\n",
            "5. **Garnish & Serve:** Garnish with fresh parsley, if desired, and serve hot.  Enjoy!\n",
            "\n",
            "\n",
            "**Spice Level:**  The recipe's spice level can be adjusted by adding more or less red pepper flakes.  As written, it sits around a 4-6 on a scale of 10.\n",
            "\n"
          ]
        }
      ]
    },
    {
      "cell_type": "markdown",
      "source": [
        "Refining the prompt with available ingredients"
      ],
      "metadata": {
        "id": "WKuv2KW9pP47"
      }
    },
    {
      "cell_type": "code",
      "source": [
        "available_spices: list[str] = [\"cumin\", \"turmeric\", \"oregano\", \"paprika\"]"
      ],
      "metadata": {
        "id": "BY-cWnEncVwe"
      },
      "execution_count": 15,
      "outputs": []
    },
    {
      "cell_type": "code",
      "source": [
        "prompt = f\"\"\"Please suggest a recipe that tries to include\n",
        "the following ingredients:\n",
        "{food_preferences_asif[\"favorite_ingredients\"]}.\n",
        "The recipe should adhere to the following dietary restrictions:\n",
        "{food_preferences_asif[\"dietary_restrictions\"]}.\n",
        "The difficulty of the recipe should be:\n",
        "{food_preferences_asif[\"experience_level\"]}\n",
        "The maximum spice level on a scale of 10 should be:\n",
        "{food_preferences_asif[\"maximum_spice_level\"]}\n",
        "Provide a two sentence description.\n",
        "\n",
        "The recipe should not include spices outside of this list:\n",
        "Spices: {available_spices}\n",
        "\"\"\"\n",
        "print(prompt)"
      ],
      "metadata": {
        "colab": {
          "base_uri": "https://localhost:8080/"
        },
        "id": "qQFHQP0dpSxh",
        "outputId": "de2d6179-be2f-4502-8205-033be5f349c0"
      },
      "execution_count": 16,
      "outputs": [
        {
          "output_type": "stream",
          "name": "stdout",
          "text": [
            "Please suggest a recipe that tries to include \n",
            "the following ingredients: \n",
            "['tofu', 'olives'].\n",
            "The recipe should adhere to the following dietary restrictions:\n",
            "vegetarian.\n",
            "The difficulty of the recipe should be: \n",
            "intermediate\n",
            "The maximum spice level on a scale of 10 should be: \n",
            "6 \n",
            "Provide a two sentence description.\n",
            "\n",
            "The recipe should not include spices outside of this list:\n",
            "Spices: ['cumin', 'turmeric', 'oregano', 'paprika']\n",
            "\n"
          ]
        }
      ]
    },
    {
      "cell_type": "code",
      "source": [
        "recipe = get_llm_response(prompt)\n",
        "print(recipe)"
      ],
      "metadata": {
        "colab": {
          "base_uri": "https://localhost:8080/",
          "height": 939
        },
        "id": "U4Am6xbwpXD3",
        "outputId": "de0b7b67-8ec1-4561-cedd-1ef5c0751221"
      },
      "execution_count": 18,
      "outputs": [
        {
          "output_type": "stream",
          "name": "stdout",
          "text": [
            "## Mediterranean Baked Tofu with Olives and Herbs\n",
            "\n",
            "This recipe features pan-fried tofu cubes baked with Kalamata olives, creating a flavorful and satisfying vegetarian dish. The combination of herbs and spices provides a warm, earthy taste without overwhelming the palate.\n",
            "\n",
            "\n",
            "**Yields:** 4 servings\n",
            "**Prep time:** 20 minutes\n",
            "**Cook time:** 35 minutes\n",
            "\n",
            "\n",
            "**Ingredients:**\n",
            "\n",
            "* 1 block (14 oz) extra-firm tofu, pressed and cubed\n",
            "* 1 cup Kalamata olives, pitted and halved\n",
            "* 1/2 cup sun-dried tomatoes (oil-packed, drained)\n",
            "* 1/4 cup chopped fresh oregano\n",
            "* 2 tbsp olive oil\n",
            "* 1 tbsp cumin\n",
            "* 1 tbsp turmeric\n",
            "* 1 tbsp paprika\n",
            "* 1 tsp garlic powder\n",
            "* Salt and pepper to taste\n",
            "\n",
            "\n",
            "**Equipment:**\n",
            "* Baking sheet\n",
            "* Large bowl\n",
            "\n",
            "\n",
            "**Instructions**\n",
            "\n",
            "**Get started:**\n",
            "\n",
            "1. Preheat oven to 400°F (200°C).\n",
            "\n",
            "**Prepare the tofu:**\n",
            "\n",
            "1.  In a large bowl, toss the cubed tofu with 1 tablespoon of olive oil, cumin, turmeric, paprika, garlic powder, salt, and pepper. Make sure the tofu is evenly coated.\n",
            "\n",
            "**Assemble and bake:**\n",
            "\n",
            "1. Spread the tofu in a single layer on a baking sheet.\n",
            "2. Scatter the Kalamata olives and sun-dried tomatoes evenly over the tofu.\n",
            "3. Drizzle the remaining olive oil over the mixture.\n",
            "4. Sprinkle with fresh oregano.\n",
            "5. Bake for 30-35 minutes, or until the tofu is golden brown and slightly crispy, flipping halfway through.\n",
            "\n",
            "\n",
            "**Serve:**\n",
            "\n",
            "Serve immediately as a main course or side dish.  It pairs well with couscous, quinoa, or a simple green salad.\n",
            "\n"
          ]
        }
      ]
    },
    {
      "cell_type": "markdown",
      "source": [
        "Looking ahead"
      ],
      "metadata": {
        "id": "QFWTKw9zqIKV"
      }
    },
    {
      "cell_type": "code",
      "source": [
        "print(food_preferences_asif[\"dietary_restrictions\"])"
      ],
      "metadata": {
        "colab": {
          "base_uri": "https://localhost:8080/"
        },
        "id": "Iz9A4NhipZcp",
        "outputId": "b938e78e-2201-44d4-a82f-2cb1ff009336"
      },
      "execution_count": 19,
      "outputs": [
        {
          "output_type": "stream",
          "name": "stdout",
          "text": [
            "vegetarian\n"
          ]
        }
      ]
    },
    {
      "cell_type": "code",
      "source": [
        "food_preferences_asif[\"is_vegetarian\"] = True\n",
        "print(food_preferences_asif)"
      ],
      "metadata": {
        "colab": {
          "base_uri": "https://localhost:8080/"
        },
        "id": "OFXRFpZtqNN9",
        "outputId": "0525bfd8-0b55-4d38-aef5-f10ce75a4b58"
      },
      "execution_count": 20,
      "outputs": [
        {
          "output_type": "stream",
          "name": "stdout",
          "text": [
            "{'dietary_restrictions': 'vegetarian', 'favorite_ingredients': ['tofu', 'olives'], 'experience_level': 'intermediate', 'maximum_spice_level': 6, 'is_vegetarian': True}\n"
          ]
        }
      ]
    },
    {
      "cell_type": "markdown",
      "source": [
        "Theory"
      ],
      "metadata": {
        "id": "RW353UG3rldN"
      }
    },
    {
      "cell_type": "code",
      "source": [
        "# prompt: show all dictionary methods using list comprehension\n",
        "\n",
        "[method for method in dir(dict) if not method.startswith(\"__\")]"
      ],
      "metadata": {
        "colab": {
          "base_uri": "https://localhost:8080/"
        },
        "id": "sTIcxpOZrnX1",
        "outputId": "39e50f7d-b24a-4f9a-8c79-b46500d1c576"
      },
      "execution_count": 21,
      "outputs": [
        {
          "output_type": "execute_result",
          "data": {
            "text/plain": [
              "['clear',\n",
              " 'copy',\n",
              " 'fromkeys',\n",
              " 'get',\n",
              " 'items',\n",
              " 'keys',\n",
              " 'pop',\n",
              " 'popitem',\n",
              " 'setdefault',\n",
              " 'update',\n",
              " 'values']"
            ]
          },
          "metadata": {},
          "execution_count": 21
        }
      ]
    },
    {
      "cell_type": "code",
      "source": [
        "new_product: dict = {\n",
        "    'title': 'Blackwell GPU',\n",
        "    'Provider': 'Nvidea'\n",
        "}"
      ],
      "metadata": {
        "id": "7-rV3SEnshOx"
      },
      "execution_count": 22,
      "outputs": []
    },
    {
      "cell_type": "code",
      "source": [
        "new_product.values()"
      ],
      "metadata": {
        "colab": {
          "base_uri": "https://localhost:8080/"
        },
        "id": "M4XrsnAGsyIT",
        "outputId": "f64f8c2e-ffa2-45b1-c371-57ecb459d751"
      },
      "execution_count": 24,
      "outputs": [
        {
          "output_type": "execute_result",
          "data": {
            "text/plain": [
              "dict_values(['Blackwell GPU', 'Nvidea'])"
            ]
          },
          "metadata": {},
          "execution_count": 24
        }
      ]
    },
    {
      "cell_type": "code",
      "source": [
        "new_product.update({'Price': 2300})\n",
        "print(new_product)"
      ],
      "metadata": {
        "colab": {
          "base_uri": "https://localhost:8080/"
        },
        "id": "L5J1DhNGs33G",
        "outputId": "0a9ed961-3f92-4113-ba8e-d3e7ec6fbdf9"
      },
      "execution_count": 27,
      "outputs": [
        {
          "output_type": "stream",
          "name": "stdout",
          "text": [
            "{'title': 'Blackwell GPU', 'Provider': 'Nvidea', 'Price': 2300}\n"
          ]
        }
      ]
    },
    {
      "cell_type": "code",
      "source": [
        "# using pop()\n",
        "# since pop returns a value\n",
        "# so it's better to save it in a new variable for further usage\n",
        "\n",
        "pop_data = new_product.pop('Price')\n",
        "print(new_product)\n",
        "print(pop_data)"
      ],
      "metadata": {
        "colab": {
          "base_uri": "https://localhost:8080/"
        },
        "id": "PeRR6hyDtohY",
        "outputId": "4e232944-051c-4e16-f9d1-8ea456cdf959"
      },
      "execution_count": 28,
      "outputs": [
        {
          "output_type": "stream",
          "name": "stdout",
          "text": [
            "{'title': 'Blackwell GPU', 'Provider': 'Nvidea'}\n",
            "2300\n"
          ]
        }
      ]
    },
    {
      "cell_type": "code",
      "source": [
        "print(food_preferences_asif.items())"
      ],
      "metadata": {
        "colab": {
          "base_uri": "https://localhost:8080/"
        },
        "id": "UeRt6VnjuZYv",
        "outputId": "677f60cf-2c68-42e6-904a-1b4e67beb8a7"
      },
      "execution_count": 29,
      "outputs": [
        {
          "output_type": "stream",
          "name": "stdout",
          "text": [
            "dict_items([('dietary_restrictions', 'vegetarian'), ('favorite_ingredients', ['tofu', 'olives']), ('experience_level', 'intermediate'), ('maximum_spice_level', 6), ('is_vegetarian', True)])\n"
          ]
        }
      ]
    },
    {
      "cell_type": "code",
      "source": [
        "brand_name: str = new_product.get('Provider', 'tech')\n",
        "print(brand_name)"
      ],
      "metadata": {
        "colab": {
          "base_uri": "https://localhost:8080/"
        },
        "id": "qRQwku3auuz9",
        "outputId": "c72271ce-aeb1-411e-bf4e-258395248cf7"
      },
      "execution_count": 39,
      "outputs": [
        {
          "output_type": "stream",
          "name": "stdout",
          "text": [
            "Nvidea\n"
          ]
        }
      ]
    },
    {
      "cell_type": "code",
      "source": [
        "brand_name: str = new_product.get('provider', 'default value')\n",
        "print(brand_name)"
      ],
      "metadata": {
        "colab": {
          "base_uri": "https://localhost:8080/"
        },
        "id": "S3ral8dvwdAy",
        "outputId": "997f0d42-96dc-4a92-9c76-75a59c955903"
      },
      "execution_count": 40,
      "outputs": [
        {
          "output_type": "stream",
          "name": "stdout",
          "text": [
            "default value\n"
          ]
        }
      ]
    },
    {
      "cell_type": "code",
      "source": [
        "# prompt: provide examples to try each with an explaination\n",
        "\n",
        "from helper_functions import print_llm_response, get_llm_response\n",
        "# **L4: Customizing recipes with lists, dictionaries and AI**\n",
        "!curl -o helper_functions.py https://raw.githubusercontent.com/panaversity/learn-cloud-native-modern-ai-python/main/04_natural_language_programming/02_ai_python_for_beginners/course1_basics/Lesson_9/helper_functions.py\n",
        "\n",
        "# Example 1: Basic food preferences and recipe generation\n",
        "food_preferences_asif: dict = {\n",
        "    \"dietary_restrictions\": \"vegetarian\",\n",
        "    \"favorite_ingredients\": [\"tofu\", \"olives\"],\n",
        "    \"experience_level\": \"intermediate\",\n",
        "    \"maximum_spice_level\": 6\n",
        "}\n",
        "\n",
        "print(\"Example 1: Basic recipe generation\")\n",
        "print(food_preferences_asif.keys()) # Output: dict_keys(['dietary_restrictions', 'favorite_ingredients', 'experience_level', 'maximum_spice_level'])\n",
        "print(food_preferences_asif.values()) # Output: dict_values(['vegetarian', ['tofu', 'olives'], 'intermediate', 6])\n",
        "\n",
        "prompt1 = f\"\"\"Please suggest a recipe that tries to include\n",
        "the following ingredients:\n",
        "{food_preferences_asif[\"favorite_ingredients\"]}.\n",
        "The recipe should adhere to the following dietary restrictions:\n",
        "{food_preferences_asif[\"dietary_restrictions\"]}.\n",
        "The difficulty of the recipe should be:\n",
        "{food_preferences_asif[\"experience_level\"]}\n",
        "The maximum spice level on a scale of 10 should be:\n",
        "{food_preferences_asif[\"maximum_spice_level\"]}\n",
        "Provide a two sentence description.\n",
        "\"\"\"\n",
        "print(prompt1)\n",
        "print_llm_response(prompt1)\n",
        "\n",
        "\n",
        "# Example 2: Refining the prompt with available ingredients\n",
        "print(\"\\nExample 2: Recipe generation with ingredient constraints\")\n",
        "available_spices: list[str] = [\"cumin\", \"turmeric\", \"oregano\", \"paprika\"]\n",
        "prompt2 = f\"\"\"Please suggest a recipe that tries to include\n",
        "the following ingredients:\n",
        "{food_preferences_asif[\"favorite_ingredients\"]}.\n",
        "The recipe should adhere to the following dietary restrictions:\n",
        "{food_preferences_asif[\"dietary_restrictions\"]}.\n",
        "The difficulty of the recipe should be:\n",
        "{food_preferences_asif[\"experience_level\"]}\n",
        "The maximum spice level on a scale of 10 should be:\n",
        "{food_preferences_asif[\"maximum_spice_level\"]}\n",
        "Provide a two sentence description.\n",
        "\n",
        "The recipe should not include spices outside of this list:\n",
        "Spices: {available_spices}\n",
        "\"\"\"\n",
        "print(prompt2)\n",
        "recipe = get_llm_response(prompt2)\n",
        "print(recipe)\n",
        "\n",
        "\n",
        "# Example 3: Modifying the dictionary\n",
        "print(\"\\nExample 3: Modifying the dictionary\")\n",
        "print(food_preferences_asif[\"dietary_restrictions\"]) # Output: vegetarian\n",
        "food_preferences_asif[\"is_vegetarian\"] = True\n",
        "print(food_preferences_asif) # Output: {'dietary_restrictions': 'vegetarian', 'favorite_ingredients': ['tofu', 'olives'], 'experience_level': 'intermediate', 'maximum_spice_level': 6, 'is_vegetarian': True}\n",
        "\n",
        "\n",
        "# Example 4: Exploring dictionary methods\n",
        "print(\"\\nExample 4: Exploring dictionary methods\")\n",
        "print([method for method in dir(dict) if not method.startswith(\"__\")])\n",
        "#This will output a list of all available methods for dictionaries."
      ],
      "metadata": {
        "id": "_1geIRi4sHKK"
      },
      "execution_count": null,
      "outputs": []
    },
    {
      "cell_type": "markdown",
      "source": [
        "Extra practice"
      ],
      "metadata": {
        "id": "vXJlp2aoqci4"
      }
    },
    {
      "cell_type": "code",
      "source": [
        "# Update the following dictionary\n",
        "# with your own preferences\n",
        "\n",
        "### EDIT THE FOLLOWING CODE ###\n",
        "my_food_preferences: dict = {\n",
        "        \"dietary_restrictions\": [], #List with dietary restrictions\n",
        "        \"favorite_ingredients\": [], #List with top three favorite ingredients\n",
        "        \"experience_level\": \"\", #Experience level\n",
        "        \"maximum_spice_level\": 0 #Spice level in a scale from 1 to 10\n",
        "}\n",
        "### --------------- ###\n",
        "\n",
        "print(my_food_preferences)"
      ],
      "metadata": {
        "id": "DxgQGCHpqUAW"
      },
      "execution_count": null,
      "outputs": []
    },
    {
      "cell_type": "code",
      "source": [
        "# Modify the following prompt,\n",
        "# without adding more than two sentences,\n",
        "# so that the provided recipe includes detailed instructions.\n",
        "\n",
        "### EDIT THE FOLLOWING CODE ###\n",
        "#Hint: look at the last sentence in this prompt\n",
        "prompt = f\"\"\"Please suggest a recipe that tries to include\n",
        "the following ingredients:\n",
        "{food_preferences_tommy[\"favorite_ingredients\"]}.\n",
        "The recipe should adhere to the following dietary restrictions:\n",
        "{food_preferences_tommy[\"dietary_restrictions\"]}.\n",
        "The difficulty of the recipe should be:\n",
        "{food_preferences_tommy[\"experience_level\"]}\n",
        "The maximum spice level on a scale of 10 should be:\n",
        "{food_preferences_tommy[\"maximum_spice_level\"]}\n",
        "Provide a two sentence description.\n",
        "\"\"\"\n",
        "### --------------- ###\n",
        "\n",
        "print_llm_response(prompt)"
      ],
      "metadata": {
        "id": "7zTNPuMnrBxs"
      },
      "execution_count": null,
      "outputs": []
    }
  ]
}