{
  "nbformat": 4,
  "nbformat_minor": 0,
  "metadata": {
    "colab": {
      "provenance": [],
      "authorship_tag": "ABX9TyMxeNg4M4JolhZbX1XTwpYk",
      "include_colab_link": true
    },
    "kernelspec": {
      "name": "python3",
      "display_name": "Python 3"
    },
    "language_info": {
      "name": "python"
    }
  },
  "cells": [
    {
      "cell_type": "markdown",
      "metadata": {
        "id": "view-in-github",
        "colab_type": "text"
      },
      "source": [
        "<a href=\"https://colab.research.google.com/github/mhasnainr/Cloud-Native/blob/main/lesson_1.ipynb\" target=\"_parent\"><img src=\"https://colab.research.google.com/assets/colab-badge.svg\" alt=\"Open In Colab\"/></a>"
      ]
    },
    {
      "cell_type": "markdown",
      "source": [
        "**L1: Completing a task list with AI**"
      ],
      "metadata": {
        "id": "HwbY0Zwx0wWp"
      }
    },
    {
      "cell_type": "code",
      "source": [
        "!curl -o helper_functions.py https://raw.githubusercontent.com/panaversity/learn-cloud-native-modern-ai-python/main/04_natural_language_programming/02_ai_python_for_beginners/course1_basics/Lesson_9/helper_functions.py"
      ],
      "metadata": {
        "colab": {
          "base_uri": "https://localhost:8080/"
        },
        "id": "QoJ_mOZK00k2",
        "outputId": "0676d3c6-bb61-4f9f-ad4f-f3f51c90ff1b"
      },
      "execution_count": 10,
      "outputs": [
        {
          "output_type": "stream",
          "name": "stdout",
          "text": [
            "  % Total    % Received % Xferd  Average Speed   Time    Time     Time  Current\n",
            "                                 Dload  Upload   Total   Spent    Left  Speed\n",
            "\r  0     0    0     0    0     0      0      0 --:--:-- --:--:-- --:--:--     0\r100  3944  100  3944    0     0  19175      0 --:--:-- --:--:-- --:--:-- 19239\n"
          ]
        }
      ]
    },
    {
      "cell_type": "code",
      "source": [
        "from helper_functions import print_llm_response, get_llm_response"
      ],
      "metadata": {
        "id": "03XDDLB91KN3"
      },
      "execution_count": 11,
      "outputs": []
    },
    {
      "cell_type": "markdown",
      "source": [
        "What are lists?\n",
        "\n",
        "- They are somewhat arrays\n",
        "- e.g; in next cell\n",
        "\n",
        "Schema:\n",
        "\n",
        "- Data should be placed in a structure way"
      ],
      "metadata": {
        "id": "B-6SH9NCzFu2"
      }
    },
    {
      "cell_type": "code",
      "source": [
        "name: str = \"Abid\"\n",
        "\n",
        "all_students: list = ['Ali', 'Kashif']\n",
        "print(all_students)\n",
        "print(len(all_students))"
      ],
      "metadata": {
        "colab": {
          "base_uri": "https://localhost:8080/"
        },
        "id": "E7Mlv1y90Ofl",
        "outputId": "78c3c6d5-c45e-4e6b-ba60-af5e1e023ad3"
      },
      "execution_count": 7,
      "outputs": [
        {
          "output_type": "stream",
          "name": "stdout",
          "text": [
            "['Ali', 'Kashif']\n",
            "2\n"
          ]
        }
      ]
    },
    {
      "cell_type": "code",
      "source": [
        "name : str = \"Tommy\"\n",
        "prompt = f\"\"\"\n",
        "Write a four line birthday poem for my friend {name}.\n",
        "The poem should be inspired by the first letter of my friend's name.\n",
        "\"\"\"\n",
        "print_llm_response(prompt)"
      ],
      "metadata": {
        "colab": {
          "base_uri": "https://localhost:8080/",
          "height": 104
        },
        "id": "TdlSVNMqy1hb",
        "outputId": "8c828ac3-ae7e-4ca8-8eff-077cf9843f53"
      },
      "execution_count": 12,
      "outputs": [
        {
          "output_type": "stream",
          "name": "stdout",
          "text": [
            "Triumphant spirit, bright and bold,\n",
            "Tommy, a story to be told.\n",
            "Tenacious heart, a loyal friend,\n",
            "May joy and laughter never end!\n",
            "\n"
          ]
        }
      ]
    },
    {
      "cell_type": "markdown",
      "source": [
        "Creating a list\n",
        "\n",
        "- Index [Position] = [0, 1, 2, 3]\n",
        "- it can include both strings and integers\n",
        "\n",
        "Best Practise: one list should include one data type"
      ],
      "metadata": {
        "id": "1Hx3iMBb3Aae"
      }
    },
    {
      "cell_type": "code",
      "source": [
        "friends_list: list = [\"Tommy\", \"Isabel\", \"Daniel\"]\n",
        "print(friends_list)"
      ],
      "metadata": {
        "colab": {
          "base_uri": "https://localhost:8080/"
        },
        "id": "DWhJViTWzOTb",
        "outputId": "8331d5a1-97e6-4f71-8ef9-4c02d60b931b"
      },
      "execution_count": 17,
      "outputs": [
        {
          "output_type": "stream",
          "name": "stdout",
          "text": [
            "['Tommy', 'Isabel', 'Daniel']\n"
          ]
        }
      ]
    },
    {
      "cell_type": "code",
      "source": [
        "type(friends_list)"
      ],
      "metadata": {
        "colab": {
          "base_uri": "https://localhost:8080/"
        },
        "id": "kuJI9x7R3-SK",
        "outputId": "2a71f897-e7f6-48e2-8a21-82bb008789b8"
      },
      "execution_count": 16,
      "outputs": [
        {
          "output_type": "execute_result",
          "data": {
            "text/plain": [
              "list"
            ]
          },
          "metadata": {},
          "execution_count": 16
        }
      ]
    },
    {
      "cell_type": "code",
      "source": [
        "len(friends_list)"
      ],
      "metadata": {
        "colab": {
          "base_uri": "https://localhost:8080/"
        },
        "id": "6rfc59Dl4CpC",
        "outputId": "99e620d6-b597-4d6c-efe9-212a95150165"
      },
      "execution_count": 18,
      "outputs": [
        {
          "output_type": "execute_result",
          "data": {
            "text/plain": [
              "3"
            ]
          },
          "metadata": {},
          "execution_count": 18
        }
      ]
    },
    {
      "cell_type": "code",
      "source": [
        "prompt = f\"\"\"\n",
        "Write a set of four line birthday poems for my friends {friends_list}.\n",
        "The poems should be insipred by the first letter of each friend's name.\n",
        "\"\"\"\n",
        "print(prompt)\n",
        "print_llm_response(prompt)"
      ],
      "metadata": {
        "colab": {
          "base_uri": "https://localhost:8080/",
          "height": 486
        },
        "id": "hV48gp9Z3O9z",
        "outputId": "ab5d0008-cd23-476e-9f3e-9551e62e7038"
      },
      "execution_count": 15,
      "outputs": [
        {
          "output_type": "stream",
          "name": "stdout",
          "text": [
            "\n",
            "Write a set of four line birthday poems for my friends ['Tommy', 'Isabel', 'Daniel']. \n",
            "The poems should be insipred by the first letter of each friend's name.\n",
            "\n",
            "**For Tommy:**\n",
            "\n",
            "Triumphant spirit, bright and bold,\n",
            "Optimistic tales you've told.\n",
            "Many blessings on your day,\n",
            "May joy light up your path alway.\n",
            "\n",
            "\n",
            "**For Isabel:**\n",
            "\n",
            "Imagination, a vibrant hue,\n",
            "Soaring spirits, strong and true.\n",
            "Blessings endless, wishes sweet,\n",
            "A birthday joy, oh so complete!\n",
            "\n",
            "\n",
            "**For Daniel:**\n",
            "\n",
            "Dearest friend, a heart of gold,\n",
            "Adventures brave, a story told.\n",
            "Noble deeds and kindness shown,\n",
            "Happy birthday, you're well known!\n",
            "\n"
          ]
        }
      ]
    },
    {
      "cell_type": "markdown",
      "source": [
        "Accessing individual elements of a list"
      ],
      "metadata": {
        "id": "PcuuQW_w4Z2Z"
      }
    },
    {
      "cell_type": "code",
      "source": [
        "first_friend = friends_list[0]\n",
        "print(first_friend)"
      ],
      "metadata": {
        "colab": {
          "base_uri": "https://localhost:8080/"
        },
        "id": "7_dLwnek3eoq",
        "outputId": "bd8ebe09-f7c9-4c33-eba9-2e0dbba9b530"
      },
      "execution_count": 19,
      "outputs": [
        {
          "output_type": "stream",
          "name": "stdout",
          "text": [
            "Tommy\n"
          ]
        }
      ]
    },
    {
      "cell_type": "code",
      "source": [
        "print(friends_list[1])"
      ],
      "metadata": {
        "colab": {
          "base_uri": "https://localhost:8080/"
        },
        "id": "-xHs4DgT4jZQ",
        "outputId": "224314ad-5fc5-4cbc-a276-d54f5403d093"
      },
      "execution_count": 20,
      "outputs": [
        {
          "output_type": "stream",
          "name": "stdout",
          "text": [
            "Isabel\n"
          ]
        }
      ]
    },
    {
      "cell_type": "code",
      "source": [
        "print(friends_list[3]) # Gives an error"
      ],
      "metadata": {
        "colab": {
          "base_uri": "https://localhost:8080/",
          "height": 141
        },
        "id": "20Ho61744oiC",
        "outputId": "010c9bfa-84b5-45aa-aa75-dfb1810e6bd9"
      },
      "execution_count": 21,
      "outputs": [
        {
          "output_type": "error",
          "ename": "IndexError",
          "evalue": "list index out of range",
          "traceback": [
            "\u001b[0;31m---------------------------------------------------------------------------\u001b[0m",
            "\u001b[0;31mIndexError\u001b[0m                                Traceback (most recent call last)",
            "\u001b[0;32m<ipython-input-21-93b7e852eef3>\u001b[0m in \u001b[0;36m<cell line: 1>\u001b[0;34m()\u001b[0m\n\u001b[0;32m----> 1\u001b[0;31m \u001b[0mprint\u001b[0m\u001b[0;34m(\u001b[0m\u001b[0mfriends_list\u001b[0m\u001b[0;34m[\u001b[0m\u001b[0;36m3\u001b[0m\u001b[0;34m]\u001b[0m\u001b[0;34m)\u001b[0m \u001b[0;31m# Gives an error\u001b[0m\u001b[0;34m\u001b[0m\u001b[0;34m\u001b[0m\u001b[0m\n\u001b[0m",
            "\u001b[0;31mIndexError\u001b[0m: list index out of range"
          ]
        }
      ]
    },
    {
      "cell_type": "markdown",
      "source": [
        "Adding another element to the list\n",
        "\n",
        "- .append('')"
      ],
      "metadata": {
        "id": "t_hPMsJX4tna"
      }
    },
    {
      "cell_type": "code",
      "source": [
        "print(friends_list)"
      ],
      "metadata": {
        "colab": {
          "base_uri": "https://localhost:8080/"
        },
        "id": "etEK23RX4q8w",
        "outputId": "22e9a0e8-a754-4c8c-990c-cb2dacb5a349"
      },
      "execution_count": 22,
      "outputs": [
        {
          "output_type": "stream",
          "name": "stdout",
          "text": [
            "['Tommy', 'Isabel', 'Daniel']\n"
          ]
        }
      ]
    },
    {
      "cell_type": "code",
      "source": [
        "# add single element to list\n",
        "friends_list.append(\"Otto\")\n",
        "print(friends_list)"
      ],
      "metadata": {
        "colab": {
          "base_uri": "https://localhost:8080/"
        },
        "id": "1vgp8hW14xZK",
        "outputId": "7e6a7889-b79f-4cea-b1f0-a9cccc68b7db"
      },
      "execution_count": 23,
      "outputs": [
        {
          "output_type": "stream",
          "name": "stdout",
          "text": [
            "['Tommy', 'Isabel', 'Daniel', 'Otto']\n"
          ]
        }
      ]
    },
    {
      "cell_type": "markdown",
      "source": [
        "Deleting elements\n",
        "\n",
        "- .remove('')"
      ],
      "metadata": {
        "id": "4ou2PG_o5AyD"
      }
    },
    {
      "cell_type": "code",
      "source": [
        "#using remove\n",
        "friends_list.remove(\"Tommy\")\n",
        "print(friends_list)"
      ],
      "metadata": {
        "colab": {
          "base_uri": "https://localhost:8080/"
        },
        "id": "dFdZ-9C245yH",
        "outputId": "0b6b190b-0dbb-45a3-a237-a7debdf69230"
      },
      "execution_count": 24,
      "outputs": [
        {
          "output_type": "stream",
          "name": "stdout",
          "text": [
            "['Isabel', 'Daniel', 'Otto']\n"
          ]
        }
      ]
    },
    {
      "cell_type": "markdown",
      "source": [
        "Lists with other data types"
      ],
      "metadata": {
        "id": "58PKNj4z5X22"
      }
    },
    {
      "cell_type": "code",
      "source": [
        "list_ages: int = [42, 28, 30]\n",
        "print(list_ages)"
      ],
      "metadata": {
        "colab": {
          "base_uri": "https://localhost:8080/"
        },
        "id": "ZfGbr_9V5UQo",
        "outputId": "bdc0df5d-6408-4b43-8153-c4acb08fbc05"
      },
      "execution_count": 38,
      "outputs": [
        {
          "output_type": "stream",
          "name": "stdout",
          "text": [
            "[42, 28, 30]\n"
          ]
        }
      ]
    },
    {
      "cell_type": "code",
      "source": [
        "#list of tasks in priority order. Multi-line lists are allowed in python!\n",
        "list_of_tasks: list = [\n",
        "    \"Compose a brief email to my boss explaining that I will be late for tomorrow's meeting.\",\n",
        "    \"Write a birthday poem for Otto, celebrating his 28th birthday.\",\n",
        "    \"Write a 300-word review of the movie 'The Arrival'.\"\n",
        "]"
      ],
      "metadata": {
        "id": "M-Zz41CC5b-I"
      },
      "execution_count": 39,
      "outputs": []
    },
    {
      "cell_type": "code",
      "source": [
        "task = list_of_tasks[0]\n",
        "print_llm_response(task)"
      ],
      "metadata": {
        "colab": {
          "base_uri": "https://localhost:8080/",
          "height": 211
        },
        "id": "LiHa9sPm6I6M",
        "outputId": "ec083bf0-f5c3-445b-dfa9-4a738cfd4575"
      },
      "execution_count": 29,
      "outputs": [
        {
          "output_type": "stream",
          "name": "stdout",
          "text": [
            "Subject: Late to Tomorrow's Meeting\n",
            "\n",
            "Hi [Boss's name],\n",
            "\n",
            "This email is to let you know that I will be late to tomorrow's meeting. I expect to arrive by [Time].  I apologize for any inconvenience.\n",
            "\n",
            "Thanks,\n",
            "\n",
            "[Your Name]\n",
            "\n"
          ]
        }
      ]
    },
    {
      "cell_type": "code",
      "source": [
        "task = list_of_tasks[1]\n",
        "print_llm_response(task)"
      ],
      "metadata": {
        "colab": {
          "base_uri": "https://localhost:8080/",
          "height": 312
        },
        "id": "TH3W-A7U5wQ5",
        "outputId": "b9bddcf4-1421-411d-90b2-83c54e6a1efb"
      },
      "execution_count": 30,
      "outputs": [
        {
          "output_type": "stream",
          "name": "stdout",
          "text": [
            "Twenty-eight years have spun their thread,\n",
            "A tapestry of life you've spread.\n",
            "With laughter bright and spirit bold,\n",
            "A story waiting to unfold.\n",
            "\n",
            "Through sunshine days and stormy nights,\n",
            "You've conquered fears and shone your lights.\n",
            "May this new year bring joy untold,\n",
            "And memories richer than pure gold.\n",
            "\n",
            "So raise a glass, let music play,\n",
            "And celebrate this special day.\n",
            "For Otto dear, we wish you well,\n",
            "May happiness your life compel.\n",
            "Happy Birthday, friend so true,\n",
            "May all your dreams come shining through!\n",
            "\n"
          ]
        }
      ]
    },
    {
      "cell_type": "code",
      "source": [
        "task = list_of_tasks[2]\n",
        "print_llm_response(task)"
      ],
      "metadata": {
        "colab": {
          "base_uri": "https://localhost:8080/",
          "height": 176
        },
        "id": "0juPNkDT6AVZ",
        "outputId": "d0bf0195-0ab9-472d-f4e9-83e30bcfc9c9"
      },
      "execution_count": 31,
      "outputs": [
        {
          "output_type": "stream",
          "name": "stdout",
          "text": [
            "Denis Villeneuve's \"Arrival\" isn't just a science fiction film; it's a profound meditation on time, communication, and the human experience.  The narrative unfolds with a deliberate pace, mirroring the painstaking process of deciphering the alien language and understanding the intentions of the enigmatic Heptapods.  Amy Adams delivers a powerhouse performance as Dr. Louise Banks, a linguist tasked with bridging the communication gap between humanity and these extraterrestrial visitors. Her quiet strength and intellectual curiosity are captivating, allowing the audience to fully invest in her emotional journey.\n",
            "\n",
            "The film's visual aesthetic is breathtaking.  The design of the Heptapods themselves, their ships, and the overall atmosphere of mystery and awe are meticulously crafted, enhancing the sense of wonder and unease.  The soundtrack, composed by Jóhann Jóhannsson, perfectly complements the visuals, creating a soundscape that is both haunting and beautiful.  It underscores the film's themes of uncertainty and the vastness of the unknown.\n",
            "\n",
            "\"Arrival\" cleverly subverts typical alien invasion narratives.  It's less interested in explosions and action sequences and more focused on the intricate process of understanding, the complexities of communication, and the profound impact of choice.  The film’s exploration of language as a shaping force in perception and experience is arguably its most compelling element. The non-linear storytelling, revealed through flashbacks interwoven with the present, adds another layer of complexity, challenging the audience to piece together the puzzle of Louise's life and the aliens' purpose.\n",
            "\n",
            "While the pacing might feel slow for some viewers, it's crucial to the film's deliberate build-up of suspense and the gradual unveiling of its emotional core.  \"Arrival\" is not a film that offers easy answers; it's a thought-provoking masterpiece that lingers in the mind long after the credits roll, prompting reflection on the nature of time, communication, and the choices that shape our lives.  It's a film that rewards patience and careful observation, ultimately leaving the viewer with a profound sense of wonder and a lingering question: what if we could truly understand?\n",
            "\n"
          ]
        }
      ]
    },
    {
      "cell_type": "markdown",
      "source": [
        "Extra practice"
      ],
      "metadata": {
        "id": "iIXrO6a36VNY"
      }
    },
    {
      "cell_type": "code",
      "source": [
        "# Create a list with the titles\n",
        "# of five of your favorite movies\n",
        "\n",
        "### WRITE CODE HERE ###\n",
        "\n",
        "movie_list: list = ['A', 'B', 'C', 'D', 'E']\n",
        "print(movie_list)\n",
        "\n",
        "### --------------- ###"
      ],
      "metadata": {
        "colab": {
          "base_uri": "https://localhost:8080/"
        },
        "id": "IJE27FI86Oaw",
        "outputId": "e6091c9e-d016-4bf8-e682-5deeb31b62d2"
      },
      "execution_count": 40,
      "outputs": [
        {
          "output_type": "stream",
          "name": "stdout",
          "text": [
            "['A', 'B', 'C', 'D', 'E']\n"
          ]
        }
      ]
    },
    {
      "cell_type": "code",
      "source": [
        "# Display the fourth element of\n",
        "# the following list using print()\n",
        "\n",
        "prime_numbers: int = [2, 3, 5, 7, 11]\n",
        "\n",
        "### WRITE CODE HERE ###\n",
        "\n",
        "print(prime_numbers[3])\n",
        "\n",
        "### --------------- ###"
      ],
      "metadata": {
        "colab": {
          "base_uri": "https://localhost:8080/"
        },
        "id": "OvX5ceBh65PT",
        "outputId": "ba09d603-e63a-4260-c9ba-76985120e3d7"
      },
      "execution_count": 41,
      "outputs": [
        {
          "output_type": "stream",
          "name": "stdout",
          "text": [
            "7\n"
          ]
        }
      ]
    },
    {
      "cell_type": "code",
      "source": [
        "# Fix the bug in the following code\n",
        "\n",
        "prime_numbers = [2, 3, 5, 7, 11]\n",
        "\n",
        "### FIX THIS CODE ###\n",
        "print(prime_numbers(3)) #access and print() the fourth element\n",
        "### --------------- ###"
      ],
      "metadata": {
        "colab": {
          "base_uri": "https://localhost:8080/",
          "height": 193
        },
        "id": "GO6-MX2v7FmH",
        "outputId": "15751fe7-02b7-466e-c864-064d0d791941"
      },
      "execution_count": 34,
      "outputs": [
        {
          "output_type": "error",
          "ename": "TypeError",
          "evalue": "'list' object is not callable",
          "traceback": [
            "\u001b[0;31m---------------------------------------------------------------------------\u001b[0m",
            "\u001b[0;31mTypeError\u001b[0m                                 Traceback (most recent call last)",
            "\u001b[0;32m<ipython-input-34-c5a9ace8185a>\u001b[0m in \u001b[0;36m<cell line: 6>\u001b[0;34m()\u001b[0m\n\u001b[1;32m      4\u001b[0m \u001b[0;34m\u001b[0m\u001b[0m\n\u001b[1;32m      5\u001b[0m \u001b[0;31m### FIX THIS CODE ###\u001b[0m\u001b[0;34m\u001b[0m\u001b[0;34m\u001b[0m\u001b[0m\n\u001b[0;32m----> 6\u001b[0;31m \u001b[0mprint\u001b[0m\u001b[0;34m(\u001b[0m\u001b[0mprime_numbers\u001b[0m\u001b[0;34m(\u001b[0m\u001b[0;36m3\u001b[0m\u001b[0;34m)\u001b[0m\u001b[0;34m)\u001b[0m \u001b[0;31m#access and print() the fourth element\u001b[0m\u001b[0;34m\u001b[0m\u001b[0;34m\u001b[0m\u001b[0m\n\u001b[0m\u001b[1;32m      7\u001b[0m \u001b[0;31m### --------------- ###\u001b[0m\u001b[0;34m\u001b[0m\u001b[0;34m\u001b[0m\u001b[0m\n",
            "\u001b[0;31mTypeError\u001b[0m: 'list' object is not callable"
          ]
        }
      ]
    },
    {
      "cell_type": "code",
      "source": [
        "prime_numbers: int = [2, 3, 5, 7, 11]\n",
        "print(prime_numbers[3])"
      ],
      "metadata": {
        "colab": {
          "base_uri": "https://localhost:8080/"
        },
        "id": "XFHRTQmy7Om1",
        "outputId": "d41b7492-d84c-404b-d991-015530e59ab3"
      },
      "execution_count": 42,
      "outputs": [
        {
          "output_type": "stream",
          "name": "stdout",
          "text": [
            "7\n"
          ]
        }
      ]
    },
    {
      "cell_type": "code",
      "source": [
        "# Add one name to friends_list using append\n",
        "\n",
        "friends_list: list = [\"Tommy\", \"Isabel\", \"Daniel\", \"Otto\"]\n",
        "\n",
        "### WRITE CODE HERE ###\n",
        "\n",
        "friends_list.append('Abbot')\n",
        "\n",
        "### --------------- ###\n",
        "\n",
        "print(friends_list)"
      ],
      "metadata": {
        "colab": {
          "base_uri": "https://localhost:8080/"
        },
        "id": "LkroKdnZ7VcM",
        "outputId": "1b7b49c5-dda4-4b1f-b61b-66c04994696f"
      },
      "execution_count": 43,
      "outputs": [
        {
          "output_type": "stream",
          "name": "stdout",
          "text": [
            "['Tommy', 'Isabel', 'Daniel', 'Otto', 'Abbot']\n"
          ]
        }
      ]
    },
    {
      "cell_type": "code",
      "source": [
        "# In the following code, remove the country\n",
        "# that is not in South America\n",
        "\n",
        "countries_in_south_america: list = [\"Colombia\", \"Peru\",\n",
        "                              \"Brasil\", \"Japan\",\n",
        "                              \"Argentina\"]\n",
        "\n",
        "### WRITE CODE HERE ###\n",
        "\n",
        "countries_in_south_america.remove('Japan')\n",
        "\n",
        "### --------------- ###\n",
        "\n",
        "print(countries_in_south_america)"
      ],
      "metadata": {
        "colab": {
          "base_uri": "https://localhost:8080/"
        },
        "id": "brZtCmEy7j8C",
        "outputId": "9bb2a0ec-7604-408f-f25d-9d240e51ea4c"
      },
      "execution_count": 44,
      "outputs": [
        {
          "output_type": "stream",
          "name": "stdout",
          "text": [
            "['Colombia', 'Peru', 'Brasil', 'Argentina']\n"
          ]
        }
      ]
    },
    {
      "cell_type": "code",
      "source": [],
      "metadata": {
        "id": "LKoFz2oG7tt4"
      },
      "execution_count": null,
      "outputs": []
    }
  ]
}