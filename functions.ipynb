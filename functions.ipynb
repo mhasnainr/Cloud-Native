{
  "nbformat": 4,
  "nbformat_minor": 0,
  "metadata": {
    "colab": {
      "provenance": [],
      "authorship_tag": "ABX9TyOlKMI9x5d0zWXA9pXqhsa+",
      "include_colab_link": true
    },
    "kernelspec": {
      "name": "python3",
      "display_name": "Python 3"
    },
    "language_info": {
      "name": "python"
    }
  },
  "cells": [
    {
      "cell_type": "markdown",
      "metadata": {
        "id": "view-in-github",
        "colab_type": "text"
      },
      "source": [
        "<a href=\"https://colab.research.google.com/github/mhasnainr/Cloud-Native/blob/main/functions.ipynb\" target=\"_parent\"><img src=\"https://colab.research.google.com/assets/colab-badge.svg\" alt=\"Open In Colab\"/></a>"
      ]
    },
    {
      "cell_type": "markdown",
      "source": [
        "**Class: 14**"
      ],
      "metadata": {
        "id": "r9mY0Zt4D7Dc"
      }
    },
    {
      "cell_type": "markdown",
      "source": [
        "**Topics**:\n",
        "\n",
        "- if else recap\n",
        "- Functions"
      ],
      "metadata": {
        "id": "GXHma6Rg1vwz"
      }
    },
    {
      "cell_type": "markdown",
      "source": [
        "**if else recap**"
      ],
      "metadata": {
        "id": "FtU7JX2H12NH"
      }
    },
    {
      "cell_type": "code",
      "execution_count": 12,
      "metadata": {
        "colab": {
          "base_uri": "https://localhost:8080/"
        },
        "id": "FhHSBAKWzaVG",
        "outputId": "1b03a974-3b1a-4bff-ce56-158bc611c7dd"
      },
      "outputs": [
        {
          "output_type": "stream",
          "name": "stdout",
          "text": [
            "Sir Zia is elder\n"
          ]
        }
      ],
      "source": [
        "sir_zia_age: int = 53\n",
        "sir_qasim_age: int = 36\n",
        "\n",
        "# Option 1: Common style\n",
        "\n",
        "if sir_zia_age > sir_qasim_age:\n",
        "    print(\"Sir Zia is elder\")\n",
        "\n",
        "elif sir_zia_age < sir_qasim_age:\n",
        "    print(\"Sir Qasim is elder\")\n",
        "\n",
        "elif sir_zia_age == sir_qasim_age:\n",
        "    print(\"Both are of same age\")\n",
        "\n",
        "else:\n",
        "  print(\"Invalid input\")"
      ]
    },
    {
      "cell_type": "code",
      "source": [
        "# next cell's code is also not recommended\n",
        "# but in DS, you'll see this type of code at multiple places"
      ],
      "metadata": {
        "id": "q_SY4zyF2l6H"
      },
      "execution_count": 10,
      "outputs": []
    },
    {
      "cell_type": "code",
      "source": [
        "# Option 2: Comprehensive Style\n",
        "\n",
        "print('True') if sir_zia_age > sir_qasim_age else print('False')"
      ],
      "metadata": {
        "colab": {
          "base_uri": "https://localhost:8080/"
        },
        "id": "DQ5nHqjB2KFw",
        "outputId": "f0f5eee4-4885-43d9-f0f3-dc941c734384"
      },
      "execution_count": 11,
      "outputs": [
        {
          "output_type": "stream",
          "name": "stdout",
          "text": [
            "True\n"
          ]
        }
      ]
    },
    {
      "cell_type": "markdown",
      "source": [
        "**Functions**"
      ],
      "metadata": {
        "id": "k0j2jgJ315sO"
      }
    },
    {
      "cell_type": "markdown",
      "source": [
        "- in Python, 'def' is used for making functions\n",
        "\n",
        "- **syntax: def function_name():**\n",
        "\n",
        "- () are paranthesis\n",
        "- : is semi-colon\n",
        "\n",
        "**Criteria**:\n",
        "\n",
        "def function_name():\n",
        "  <!-- Body -->\n",
        "  print('equal')\n",
        "  <!-- function calling -->\n",
        "  function_name()"
      ],
      "metadata": {
        "id": "zPt2vUWe3pu_"
      }
    },
    {
      "cell_type": "code",
      "source": [
        "def compare_age():\n",
        "  # Body\n",
        "  print(\"True\") if sir_zia_age > sir_qasim_age else print(\"False\")\n",
        "  # Body end\n",
        "\n",
        "# function calling\n",
        "compare_age()"
      ],
      "metadata": {
        "colab": {
          "base_uri": "https://localhost:8080/"
        },
        "id": "6ay_ODpt0zhM",
        "outputId": "47831074-60cd-4763-a628-8b2218198be2"
      },
      "execution_count": 31,
      "outputs": [
        {
          "output_type": "stream",
          "name": "stdout",
          "text": [
            "True\n"
          ]
        }
      ]
    },
    {
      "cell_type": "code",
      "source": [
        "# defining parameter inside function, for taking user's input\n",
        "\n",
        "def compare_age(student_age: int):\n",
        "  print(\"True\") if sir_zia_age > student_age else print(\"False\")\n",
        "\n",
        "compare_age\n",
        "# answer won't show up b/c of not calling the parameter"
      ],
      "metadata": {
        "colab": {
          "base_uri": "https://localhost:8080/",
          "height": 103
        },
        "id": "TlLp_BEG5T4r",
        "outputId": "8f50c9fb-7814-4a3f-f9b0-67be0cb6dff3"
      },
      "execution_count": 23,
      "outputs": [
        {
          "output_type": "execute_result",
          "data": {
            "text/plain": [
              "<function __main__.compare_age(student_age: int)>"
            ],
            "text/html": [
              "<div style=\"max-width:800px; border: 1px solid var(--colab-border-color);\"><style>\n",
              "      pre.function-repr-contents {\n",
              "        overflow-x: auto;\n",
              "        padding: 8px 12px;\n",
              "        max-height: 500px;\n",
              "      }\n",
              "\n",
              "      pre.function-repr-contents.function-repr-contents-collapsed {\n",
              "        cursor: pointer;\n",
              "        max-height: 100px;\n",
              "      }\n",
              "    </style>\n",
              "    <pre style=\"white-space: initial; background:\n",
              "         var(--colab-secondary-surface-color); padding: 8px 12px;\n",
              "         border-bottom: 1px solid var(--colab-border-color);\"><b>compare_age</b><br/>def compare_age(student_age: int)</pre><pre class=\"function-repr-contents function-repr-contents-collapsed\" style=\"\"><a class=\"filepath\" style=\"display:none\" href=\"#\">/content/&lt;ipython-input-23-c99f09193d30&gt;</a>&lt;no docstring&gt;</pre></div>"
            ]
          },
          "metadata": {},
          "execution_count": 23
        }
      ]
    },
    {
      "cell_type": "code",
      "source": [
        "def compare_age(student_age: int):\n",
        "  print(\"True\") if sir_zia_age > student_age else print(\"False\")\n",
        "\n",
        "compare_age(student_age = 31)"
      ],
      "metadata": {
        "colab": {
          "base_uri": "https://localhost:8080/"
        },
        "id": "p4rCqhLG6c5f",
        "outputId": "bd81312a-4d86-4c7a-b03c-5245e67c86cb"
      },
      "execution_count": 25,
      "outputs": [
        {
          "output_type": "stream",
          "name": "stdout",
          "text": [
            "True\n"
          ]
        }
      ]
    },
    {
      "cell_type": "code",
      "source": [
        "def compare_age(student_age: int, name: str):\n",
        "  print(f\"True, {name} is older than Sir Zia\") if sir_zia_age < student_age else print(\"False\")\n",
        "\n",
        "compare_age(student_age = 31, name = 'Hasnain')"
      ],
      "metadata": {
        "colab": {
          "base_uri": "https://localhost:8080/"
        },
        "id": "eoprWELI6oFd",
        "outputId": "f8dcc5c3-a1db-41eb-8f26-f323a8619b2e"
      },
      "execution_count": 30,
      "outputs": [
        {
          "output_type": "stream",
          "name": "stdout",
          "text": [
            "False\n"
          ]
        }
      ]
    },
    {
      "cell_type": "code",
      "source": [
        "compare_age(81, 'Asif')"
      ],
      "metadata": {
        "colab": {
          "base_uri": "https://localhost:8080/"
        },
        "id": "69U2Ly-N8DNi",
        "outputId": "9c879d9c-e294-4c01-8ed9-55583a508a2f"
      },
      "execution_count": 28,
      "outputs": [
        {
          "output_type": "stream",
          "name": "stdout",
          "text": [
            "True, Asif is older than Sir Zia\n"
          ]
        }
      ]
    },
    {
      "cell_type": "code",
      "source": [
        "# pre-define functions: like print, len, etc\n",
        "# user-define functions:\n",
        "\n",
        "# executing a function requires parameters"
      ],
      "metadata": {
        "id": "91iMxc7P7W5d"
      },
      "execution_count": 29,
      "outputs": []
    },
    {
      "cell_type": "code",
      "source": [
        "# Return function: if [after calling] a value is places inside a variable\n",
        "# and that value is assigned to it, then this is called return variable/ function\n",
        "\n",
        "def compare_age(student_age: int, name: str) -> bool:\n",
        "  result: bool = True if sir_zia_age < student_age else False\n",
        "  return result"
      ],
      "metadata": {
        "id": "E2UAcqop9AFq"
      },
      "execution_count": 34,
      "outputs": []
    },
    {
      "cell_type": "code",
      "source": [
        "comapring_result = compare_age(81, 'Asif')"
      ],
      "metadata": {
        "id": "f49xjJ1TKcu7"
      },
      "execution_count": 33,
      "outputs": []
    },
    {
      "cell_type": "code",
      "source": [
        "# sequence of programming\n",
        "\n",
        "greet: str = 'Welcome, Sir Zia'\n",
        "print(greet)"
      ],
      "metadata": {
        "colab": {
          "base_uri": "https://localhost:8080/"
        },
        "id": "zShFf0_PKjak",
        "outputId": "59a5e702-bca5-4517-ecd4-d69ed2f31895"
      },
      "execution_count": 38,
      "outputs": [
        {
          "output_type": "stream",
          "name": "stdout",
          "text": [
            "Welcome, Sir Zia\n"
          ]
        }
      ]
    },
    {
      "cell_type": "code",
      "source": [
        "# interpreter: that code is run line by line\n",
        "\n",
        "greet: str = 'Welcome, Sir Zia'\n",
        "wdds\n",
        "print(greet)"
      ],
      "metadata": {
        "colab": {
          "base_uri": "https://localhost:8080/",
          "height": 176
        },
        "id": "x5x6_OrYMhFY",
        "outputId": "56addc8c-556f-4ee4-db49-427ec9e4d81c"
      },
      "execution_count": 36,
      "outputs": [
        {
          "output_type": "error",
          "ename": "NameError",
          "evalue": "name 'wdds' is not defined",
          "traceback": [
            "\u001b[0;31m---------------------------------------------------------------------------\u001b[0m",
            "\u001b[0;31mNameError\u001b[0m                                 Traceback (most recent call last)",
            "\u001b[0;32m<ipython-input-36-51ac08ab9e73>\u001b[0m in \u001b[0;36m<cell line: 2>\u001b[0;34m()\u001b[0m\n\u001b[1;32m      1\u001b[0m \u001b[0mgreet\u001b[0m\u001b[0;34m:\u001b[0m \u001b[0mstr\u001b[0m \u001b[0;34m=\u001b[0m \u001b[0;34m'Welcome, Sir Zia'\u001b[0m\u001b[0;34m\u001b[0m\u001b[0;34m\u001b[0m\u001b[0m\n\u001b[0;32m----> 2\u001b[0;31m \u001b[0mwdds\u001b[0m\u001b[0;34m\u001b[0m\u001b[0;34m\u001b[0m\u001b[0m\n\u001b[0m\u001b[1;32m      3\u001b[0m \u001b[0mprint\u001b[0m\u001b[0;34m(\u001b[0m\u001b[0mgreet\u001b[0m\u001b[0;34m)\u001b[0m\u001b[0;34m\u001b[0m\u001b[0;34m\u001b[0m\u001b[0m\n",
            "\u001b[0;31mNameError\u001b[0m: name 'wdds' is not defined"
          ]
        }
      ]
    },
    {
      "cell_type": "markdown",
      "source": [
        "- control flow [of programming]: code is run line by line and it skips a particular code and moves forward\n",
        "- when using if else, why both [if and else] statements can't run\n",
        "- using logical operators [<, >, etc] controls the flow\n",
        "\n",
        "- note: function is not a control flow but building blocks\n",
        "- block building: specific code is places inside a block\n",
        "- which can be used multiple times, considered as a module\n",
        "- module: piece of code which is fit anywhere"
      ],
      "metadata": {
        "id": "T0KhLQUnVPRE"
      }
    },
    {
      "cell_type": "markdown",
      "source": [
        "- writing a function\n",
        "\n",
        "- def is used\n",
        "\n",
        "- funcion_name should be legal [affordable for/ available in programming] not illegal"
      ],
      "metadata": {
        "id": "V7Lub7IOVVVs"
      }
    },
    {
      "cell_type": "code",
      "source": [
        "def greet():\n",
        "  return 'Hello'"
      ],
      "metadata": {
        "id": "ufsKdQfPQ1Tl"
      },
      "execution_count": 40,
      "outputs": []
    },
    {
      "cell_type": "code",
      "source": [
        "greet()"
      ],
      "metadata": {
        "colab": {
          "base_uri": "https://localhost:8080/",
          "height": 35
        },
        "id": "EKsA_LDERhgL",
        "outputId": "988d1154-de62-436a-cdd4-a083e16d3931"
      },
      "execution_count": 41,
      "outputs": [
        {
          "output_type": "execute_result",
          "data": {
            "text/plain": [
              "'Hello'"
            ],
            "application/vnd.google.colaboratory.intrinsic+json": {
              "type": "string"
            }
          },
          "metadata": {},
          "execution_count": 41
        }
      ]
    },
    {
      "cell_type": "code",
      "source": [
        "# function creation and function running are 2 different things\n",
        "# writing the above cell's greet, control flow isn't used"
      ],
      "metadata": {
        "id": "t4B9acRDRQvJ"
      },
      "execution_count": null,
      "outputs": []
    },
    {
      "cell_type": "code",
      "source": [
        "# since building block means that it's reusable, so below is an example\n",
        "\n",
        "output = greet()\n",
        "print(output)"
      ],
      "metadata": {
        "colab": {
          "base_uri": "https://localhost:8080/"
        },
        "id": "tyRCw0emRteF",
        "outputId": "c5735fcb-a9d5-4105-b899-63ee8a729812"
      },
      "execution_count": 42,
      "outputs": [
        {
          "output_type": "stream",
          "name": "stdout",
          "text": [
            "Hello\n"
          ]
        }
      ]
    },
    {
      "cell_type": "code",
      "source": [
        "# writing the above cell's greet, control flow isn't used\n",
        "\n",
        "def greet():\n",
        "  print ('Hello')"
      ],
      "metadata": {
        "id": "1kWjlcAUSPEy"
      },
      "execution_count": 43,
      "outputs": []
    },
    {
      "cell_type": "code",
      "source": [
        "greet()\n",
        "greet()"
      ],
      "metadata": {
        "colab": {
          "base_uri": "https://localhost:8080/"
        },
        "id": "0nTH3O-oSUgM",
        "outputId": "8766bcef-bf2a-4e39-ba2c-ea3eaa1d4858"
      },
      "execution_count": 46,
      "outputs": [
        {
          "output_type": "stream",
          "name": "stdout",
          "text": [
            "Hello\n",
            "Hello\n"
          ]
        }
      ]
    },
    {
      "cell_type": "markdown",
      "source": [
        "return: termination state"
      ],
      "metadata": {
        "id": "iFdsPQJ2VBUN"
      }
    },
    {
      "cell_type": "code",
      "source": [
        "answer = greet()\n",
        "print('2nd print:',answer)"
      ],
      "metadata": {
        "colab": {
          "base_uri": "https://localhost:8080/"
        },
        "id": "CjjKgEoXSXEQ",
        "outputId": "e97839e6-36a2-469d-c558-7acd13c839d0"
      },
      "execution_count": 58,
      "outputs": [
        {
          "output_type": "stream",
          "name": "stdout",
          "text": [
            "2nd print: Hello\n"
          ]
        }
      ]
    },
    {
      "cell_type": "code",
      "source": [
        "def greet():\n",
        "  hello = 'Hello'\n",
        "  return hello"
      ],
      "metadata": {
        "id": "RyNwUy4ZTIKQ"
      },
      "execution_count": 54,
      "outputs": []
    },
    {
      "cell_type": "code",
      "source": [
        "answer = greet()\n",
        "print('2nd print:',answer)"
      ],
      "metadata": {
        "colab": {
          "base_uri": "https://localhost:8080/"
        },
        "id": "P9vYzp5-ULkX",
        "outputId": "178f9051-bd59-40a4-c77b-9e2c1d441549"
      },
      "execution_count": 55,
      "outputs": [
        {
          "output_type": "stream",
          "name": "stdout",
          "text": [
            "2nd print: Hello\n"
          ]
        }
      ]
    },
    {
      "cell_type": "code",
      "source": [
        "# reason for diff in 2nd print's result: return function is placed"
      ],
      "metadata": {
        "id": "ZswRmzV3UYNk"
      },
      "execution_count": 56,
      "outputs": []
    },
    {
      "cell_type": "markdown",
      "source": [
        "Parameters"
      ],
      "metadata": {
        "id": "9xLbgqW_Vz0a"
      }
    },
    {
      "cell_type": "code",
      "source": [
        "def greet():\n",
        "  hello = 'Hello'\n",
        "  return hello"
      ],
      "metadata": {
        "id": "wB6a05SBUs9W"
      },
      "execution_count": 59,
      "outputs": []
    },
    {
      "cell_type": "code",
      "source": [
        "greet()"
      ],
      "metadata": {
        "colab": {
          "base_uri": "https://localhost:8080/",
          "height": 35
        },
        "id": "ygdEKhybWI7l",
        "outputId": "215b0721-f8f0-457e-9668-7612af9bbda5"
      },
      "execution_count": 60,
      "outputs": [
        {
          "output_type": "execute_result",
          "data": {
            "text/plain": [
              "'Hello'"
            ],
            "application/vnd.google.colaboratory.intrinsic+json": {
              "type": "string"
            }
          },
          "metadata": {},
          "execution_count": 60
        }
      ]
    },
    {
      "cell_type": "code",
      "source": [
        "# Task: greet whoever comes\n",
        "\n",
        "def greet(name: str):\n",
        "  hello = f'Hello {name}'\n",
        "  return hello"
      ],
      "metadata": {
        "id": "VVIFungZWL4V"
      },
      "execution_count": 62,
      "outputs": []
    },
    {
      "cell_type": "code",
      "source": [
        "# Passing an Argument\n",
        "\n",
        "val1= greet('Hasnain')\n",
        "print(val1)\n",
        "\n",
        "print(greet('Sir Zia'))\n",
        "print(greet('Sir Qasim'))"
      ],
      "metadata": {
        "colab": {
          "base_uri": "https://localhost:8080/"
        },
        "id": "YSALM_pjWqWu",
        "outputId": "8f0fee58-2582-43f1-ef78-4cdc3fef3cff"
      },
      "execution_count": 69,
      "outputs": [
        {
          "output_type": "stream",
          "name": "stdout",
          "text": [
            "Hello Hasnain\n",
            "Hello Sir Zia\n",
            "Hello Sir Qasim\n"
          ]
        }
      ]
    },
    {
      "cell_type": "markdown",
      "source": [
        "Making an Addition function"
      ],
      "metadata": {
        "id": "7HGRuWMuXiwR"
      }
    },
    {
      "cell_type": "code",
      "source": [
        "def add(x: int, y: int) -> int:\n",
        "  return x + y"
      ],
      "metadata": {
        "id": "Xj1qiTa6W3cu"
      },
      "execution_count": 70,
      "outputs": []
    },
    {
      "cell_type": "code",
      "source": [
        "add(3, 2)"
      ],
      "metadata": {
        "colab": {
          "base_uri": "https://localhost:8080/"
        },
        "id": "ul8bfxuMXuo3",
        "outputId": "0081d29e-8b96-42bc-8230-5fd443e7260b"
      },
      "execution_count": 73,
      "outputs": [
        {
          "output_type": "execute_result",
          "data": {
            "text/plain": [
              "5"
            ]
          },
          "metadata": {},
          "execution_count": 73
        }
      ]
    },
    {
      "cell_type": "code",
      "source": [
        "# note: for loop is also a control flow, which is resusable"
      ],
      "metadata": {
        "id": "pyoYj4ICa3k_"
      },
      "execution_count": 87,
      "outputs": []
    },
    {
      "cell_type": "markdown",
      "source": [
        "Function: Add values of the items bought"
      ],
      "metadata": {
        "id": "-EmTcjvTYDAq"
      }
    },
    {
      "cell_type": "code",
      "source": [
        "def add_items(*nums: int) -> int:\n",
        "\n",
        "# rest parameter [*nums = Variable Positional Arguments] : set all items in a list\n",
        "  print(nums)\n",
        "\n",
        "  return sum(nums)"
      ],
      "metadata": {
        "id": "IQ16bNy1XxR2"
      },
      "execution_count": 92,
      "outputs": []
    },
    {
      "cell_type": "code",
      "source": [
        "add_items(321, 553, 643)"
      ],
      "metadata": {
        "colab": {
          "base_uri": "https://localhost:8080/"
        },
        "id": "RKD_B8j7Ygpo",
        "outputId": "05654523-e716-4309-b6d2-fe73ffcd305f"
      },
      "execution_count": 93,
      "outputs": [
        {
          "output_type": "stream",
          "name": "stdout",
          "text": [
            "(321, 553, 643)\n"
          ]
        },
        {
          "output_type": "execute_result",
          "data": {
            "text/plain": [
              "1517"
            ]
          },
          "metadata": {},
          "execution_count": 93
        }
      ]
    },
    {
      "cell_type": "code",
      "source": [
        "# adding discount\n",
        "\n",
        "def apply_discount(price: int, discount: float):\n",
        "  return price - (price * discount / 100)"
      ],
      "metadata": {
        "id": "-U3vgQjSZP7b"
      },
      "execution_count": 95,
      "outputs": []
    },
    {
      "cell_type": "code",
      "source": [
        "apply_discount(1517, 10)"
      ],
      "metadata": {
        "colab": {
          "base_uri": "https://localhost:8080/"
        },
        "id": "5ga2Hc0gbBRo",
        "outputId": "ee2dfc86-9113-4418-e9d8-7f9e6d6d2269"
      },
      "execution_count": 96,
      "outputs": [
        {
          "output_type": "execute_result",
          "data": {
            "text/plain": [
              "1365.3"
            ]
          },
          "metadata": {},
          "execution_count": 96
        }
      ]
    },
    {
      "cell_type": "code",
      "source": [
        "# in case, by default, discount is 10\n",
        "\n",
        "def apply_discount(price: int, discount: float = 10):\n",
        "  return price - (price * discount / 100)"
      ],
      "metadata": {
        "id": "zAFuoYEdbmdF"
      },
      "execution_count": 97,
      "outputs": []
    },
    {
      "cell_type": "code",
      "source": [
        "apply_discount(1517)"
      ],
      "metadata": {
        "colab": {
          "base_uri": "https://localhost:8080/"
        },
        "id": "Y4SFOgVodmGx",
        "outputId": "aecd67a2-9b89-4781-8cc7-ae57bcb3e56d"
      },
      "execution_count": 100,
      "outputs": [
        {
          "output_type": "execute_result",
          "data": {
            "text/plain": [
              "1365.3"
            ]
          },
          "metadata": {},
          "execution_count": 100
        }
      ]
    },
    {
      "cell_type": "code",
      "source": [
        "# Total Discounted Price\n",
        "\n",
        "total_price = add_items(321, 553, 643)\n",
        "discount_given = 12\n",
        "\n",
        "apply_discount(total_price, discount_given)"
      ],
      "metadata": {
        "colab": {
          "base_uri": "https://localhost:8080/"
        },
        "id": "zD-6oH-wdnna",
        "outputId": "627b7dbc-be9a-4894-8d69-05f1997f1463"
      },
      "execution_count": 101,
      "outputs": [
        {
          "output_type": "stream",
          "name": "stdout",
          "text": [
            "(321, 553, 643)\n"
          ]
        },
        {
          "output_type": "execute_result",
          "data": {
            "text/plain": [
              "1334.96"
            ]
          },
          "metadata": {},
          "execution_count": 101
        }
      ]
    },
    {
      "cell_type": "markdown",
      "source": [
        "Function: apply discount based on price brackets\n",
        "\n",
        "- 10,000 <= 10%\n",
        "- 50,000 <= 30%\n",
        "- 100,000 <= 50%"
      ],
      "metadata": {
        "id": "TajO2pTkpzGO"
      }
    },
    {
      "cell_type": "code",
      "source": [
        "# above text is called Doc string"
      ],
      "metadata": {
        "id": "n_rZ9L7wedAD"
      },
      "execution_count": 102,
      "outputs": []
    },
    {
      "cell_type": "code",
      "source": [
        "def apply_discount(price: int) -> int:\n",
        "\n",
        "  # Brainstorming: if discount = 10000, what percentage of discount is applied?\n",
        "\n",
        "  discount: float = 0\n",
        "  print('Initial discount', discount)\n",
        "  if price <= 10000:\n",
        "    print('Block 1')\n",
        "    discount = 10\n",
        "  elif price <= 50000:\n",
        "    print('Block 2')\n",
        "    discount = 30\n",
        "  elif price <= 100000:\n",
        "    print('Block 3')\n",
        "    discount = 50\n",
        "  else:\n",
        "    print('Not eligible for discount')\n",
        "\n",
        "  print('Final applicable discount', discount)\n",
        "  return price - (price * discount / 100)"
      ],
      "metadata": {
        "id": "0LsH0YZqqLtr"
      },
      "execution_count": 108,
      "outputs": []
    },
    {
      "cell_type": "code",
      "source": [
        "# Total Discounted Price\n",
        "\n",
        "total_price = add_items(321, 553, 643)\n",
        "apply_discount(total_price)"
      ],
      "metadata": {
        "colab": {
          "base_uri": "https://localhost:8080/"
        },
        "id": "WqoAxZUmrI1L",
        "outputId": "90df3009-160d-4794-d0cc-1a2854e12ae0"
      },
      "execution_count": 109,
      "outputs": [
        {
          "output_type": "stream",
          "name": "stdout",
          "text": [
            "(321, 553, 643)\n",
            "Initial discount 0\n",
            "Block 1\n",
            "Final applicable discount 10\n"
          ]
        },
        {
          "output_type": "execute_result",
          "data": {
            "text/plain": [
              "1365.3"
            ]
          },
          "metadata": {},
          "execution_count": 109
        }
      ]
    },
    {
      "cell_type": "markdown",
      "source": [
        "Function: integrate tax"
      ],
      "metadata": {
        "id": "vKZtVMJkthFj"
      }
    },
    {
      "cell_type": "code",
      "source": [
        "def calculate_tax(gross_total: int, tax: float = 17) -> int:\n",
        "  return gross_total + (gross_total * tax / 100)"
      ],
      "metadata": {
        "id": "bzgFRh18sEoZ"
      },
      "execution_count": 111,
      "outputs": []
    },
    {
      "cell_type": "code",
      "source": [
        "calculate_tax(434332)"
      ],
      "metadata": {
        "colab": {
          "base_uri": "https://localhost:8080/"
        },
        "id": "mN0d4Ag8t1iU",
        "outputId": "eed83df4-9786-4d5e-cb34-270ceaf80655"
      },
      "execution_count": 112,
      "outputs": [
        {
          "output_type": "execute_result",
          "data": {
            "text/plain": [
              "508168.44"
            ]
          },
          "metadata": {},
          "execution_count": 112
        }
      ]
    },
    {
      "cell_type": "markdown",
      "source": [
        "Functions used:\n",
        "\n",
        "- Total shopping price\n",
        "- applied discount based on total price\n",
        "- applied GST"
      ],
      "metadata": {
        "id": "D4_rlrhUupQx"
      }
    },
    {
      "cell_type": "code",
      "source": [
        "total_price = add_items(321, 553, 643)\n",
        "print('\\nTotal Price', total_price)\n",
        "\n",
        "gross_total = apply_discount(total_price)\n",
        "print('\\nGross Total', gross_total)\n",
        "\n",
        "net_total = calculate_tax(gross_total)\n",
        "print('\\nNet Total', net_total)"
      ],
      "metadata": {
        "colab": {
          "base_uri": "https://localhost:8080/"
        },
        "id": "BfkZjdtpt8UN",
        "outputId": "8f6b17c8-b723-4a85-e463-f945627e8713"
      },
      "execution_count": 113,
      "outputs": [
        {
          "output_type": "stream",
          "name": "stdout",
          "text": [
            "(321, 553, 643)\n",
            "\n",
            "Total Price 1517\n",
            "Initial discount 0\n",
            "Block 1\n",
            "Final applicable discount 10\n",
            "\n",
            "Gross Total 1365.3\n",
            "\n",
            "Net Total 1597.4009999999998\n"
          ]
        }
      ]
    },
    {
      "cell_type": "markdown",
      "source": [
        "Checkout function"
      ],
      "metadata": {
        "id": "YRbf-zvVvUh6"
      }
    },
    {
      "cell_type": "code",
      "source": [
        "def add_items(*nums: int) -> int:\n",
        "  return sum(nums)\n",
        "\n",
        "# start: additional\n",
        "# def apply_discount(price: int, discount: float = 10):\n",
        "#   return price - (price * discount / 100)\n",
        "\n",
        "# def calculate_tax(gross_total: int, tax: float = 17) -> int:\n",
        "#   return gross_total + (gross_total * tax / 100)\n",
        "# end\n",
        "\n",
        "def checkout(*nums: int) -> int:\n",
        "  total_price = add_items(*nums)\n",
        "\n",
        "  gross_total = apply_discount(total_price)\n",
        "\n",
        "  net_total = calculate_tax(gross_total)\n",
        "  return net_total"
      ],
      "metadata": {
        "id": "hM4M9IlcvIA8"
      },
      "execution_count": 17,
      "outputs": []
    },
    {
      "cell_type": "code",
      "source": [
        "checkout(32232)"
      ],
      "metadata": {
        "colab": {
          "base_uri": "https://localhost:8080/"
        },
        "id": "dCUE9I8Gvwou",
        "outputId": "a0547cbe-9c41-46c9-bfa8-329d977067c9"
      },
      "execution_count": 18,
      "outputs": [
        {
          "output_type": "execute_result",
          "data": {
            "text/plain": [
              "33940.296"
            ]
          },
          "metadata": {},
          "execution_count": 18
        }
      ]
    },
    {
      "cell_type": "code",
      "source": [
        "# resume from: 1.33.30"
      ],
      "metadata": {
        "id": "0nDGzUxm_jTO"
      },
      "execution_count": 11,
      "outputs": []
    },
    {
      "cell_type": "code",
      "source": [],
      "metadata": {
        "id": "lXEILCrVCCOV"
      },
      "execution_count": null,
      "outputs": []
    }
  ]
}