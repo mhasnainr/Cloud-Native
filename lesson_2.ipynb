{
  "nbformat": 4,
  "nbformat_minor": 0,
  "metadata": {
    "colab": {
      "provenance": [],
      "authorship_tag": "ABX9TyMN33lYVc7a5dZ+M7qkekdC",
      "include_colab_link": true
    },
    "kernelspec": {
      "name": "python3",
      "display_name": "Python 3"
    },
    "language_info": {
      "name": "python"
    }
  },
  "cells": [
    {
      "cell_type": "markdown",
      "metadata": {
        "id": "view-in-github",
        "colab_type": "text"
      },
      "source": [
        "<a href=\"https://colab.research.google.com/github/mhasnainr/Cloud-Native/blob/main/lesson_2.ipynb\" target=\"_parent\"><img src=\"https://colab.research.google.com/assets/colab-badge.svg\" alt=\"Open In Colab\"/></a>"
      ]
    },
    {
      "cell_type": "markdown",
      "source": [
        "**Lesson 2 - Repeating tasks with for loops**"
      ],
      "metadata": {
        "id": "Jk-U8lcN-8Gg"
      }
    },
    {
      "cell_type": "code",
      "source": [
        "!curl -o helper_functions.py https://raw.githubusercontent.com/panaversity/learn-cloud-native-modern-ai-python/main/04_natural_language_programming/02_ai_python_for_beginners/course1_basics/Lesson_9/helper_functions.py"
      ],
      "metadata": {
        "colab": {
          "base_uri": "https://localhost:8080/"
        },
        "id": "rDlzSFBy-9Zs",
        "outputId": "8ae8d00f-e127-4b51-b073-72f88e9f818b"
      },
      "execution_count": 4,
      "outputs": [
        {
          "output_type": "stream",
          "name": "stdout",
          "text": [
            "  % Total    % Received % Xferd  Average Speed   Time    Time     Time  Current\n",
            "                                 Dload  Upload   Total   Spent    Left  Speed\n",
            "\r  0     0    0     0    0     0      0      0 --:--:-- --:--:-- --:--:--     0\r100  3944  100  3944    0     0  20246      0 --:--:-- --:--:-- --:--:-- 20225\r100  3944  100  3944    0     0  20230      0 --:--:-- --:--:-- --:--:-- 20225\n"
          ]
        }
      ]
    },
    {
      "cell_type": "code",
      "source": [
        "from helper_functions import print_llm_response, get_llm_response"
      ],
      "metadata": {
        "id": "j6h_Qy7z_V0T"
      },
      "execution_count": 5,
      "outputs": []
    },
    {
      "cell_type": "markdown",
      "source": [
        "From previous lesson"
      ],
      "metadata": {
        "id": "hPYw2KW5_iiF"
      }
    },
    {
      "cell_type": "code",
      "source": [
        "list_of_tasks: list = [\n",
        "    \"Compose a brief email to my boss explaining that I will be late for tomorrow's meeting.\",\n",
        "    \"Write a birthday poem for Otto, celebrating his 28th birthday.\",\n",
        "    \"Write a 300-word review of the movie 'The Arrival'.\"\n",
        "]\n",
        "print(list_of_tasks)"
      ],
      "metadata": {
        "colab": {
          "base_uri": "https://localhost:8080/"
        },
        "id": "bprfIJvu_cBA",
        "outputId": "1d0f9d2a-07bb-4b33-e36c-d8d84f900364"
      },
      "execution_count": 6,
      "outputs": [
        {
          "output_type": "stream",
          "name": "stdout",
          "text": [
            "[\"Compose a brief email to my boss explaining that I will be late for tomorrow's meeting.\", 'Write a birthday poem for Otto, celebrating his 28th birthday.', \"Write a 300-word review of the movie 'The Arrival'.\"]\n"
          ]
        }
      ]
    },
    {
      "cell_type": "code",
      "source": [
        "task = list_of_tasks[0]\n",
        "print_llm_response(task)"
      ],
      "metadata": {
        "colab": {
          "base_uri": "https://localhost:8080/",
          "height": 193
        },
        "id": "jE_LJdgmWF1Q",
        "outputId": "5ad7eaa3-0bfa-440a-859a-0e61d46cd8bb"
      },
      "execution_count": 7,
      "outputs": [
        {
          "output_type": "stream",
          "name": "stdout",
          "text": [
            "Subject: Late to Tomorrow's Meeting\n",
            "\n",
            "Hi [Boss's name],\n",
            "\n",
            "Just letting you know that I will be slightly late to tomorrow's meeting due to [brief, optional reason - e.g., a prior appointment].  I apologize for any inconvenience.\n",
            "\n",
            "Thanks,\n",
            "[Your Name]\n",
            "\n"
          ]
        }
      ]
    },
    {
      "cell_type": "markdown",
      "source": [
        "Iterating through task lists with AI\n",
        "\n",
        "- Iteration: carrying out a work in cycle"
      ],
      "metadata": {
        "id": "0wcSFYP-Wg5i"
      }
    },
    {
      "cell_type": "code",
      "source": [
        "print(list_of_tasks[2], 'New task')"
      ],
      "metadata": {
        "colab": {
          "base_uri": "https://localhost:8080/"
        },
        "id": "h-8MrsFWdBbT",
        "outputId": "ecb8c5ef-7c96-4e41-826c-c3cad8cd7967"
      },
      "execution_count": 10,
      "outputs": [
        {
          "output_type": "stream",
          "name": "stdout",
          "text": [
            "Write a 300-word review of the movie 'The Arrival'. New task\n"
          ]
        }
      ]
    },
    {
      "cell_type": "code",
      "source": [
        "for task in list_of_tasks:\n",
        "    print('New task:', task)"
      ],
      "metadata": {
        "colab": {
          "base_uri": "https://localhost:8080/"
        },
        "id": "qe9od005WMjM",
        "outputId": "30420b34-60b7-48e4-ab67-ebbc521f6c85"
      },
      "execution_count": 13,
      "outputs": [
        {
          "output_type": "stream",
          "name": "stdout",
          "text": [
            "New task: Compose a brief email to my boss explaining that I will be late for tomorrow's meeting.\n",
            "New task: Write a birthday poem for Otto, celebrating his 28th birthday.\n",
            "New task: Write a 300-word review of the movie 'The Arrival'.\n"
          ]
        }
      ]
    },
    {
      "cell_type": "markdown",
      "source": [
        "Understanding of Syntax:\n",
        "\n",
        "for task in list_of_tasks:\n",
        "- for\n",
        "- 'variable_name'\n",
        "- 'in' for sequence\n",
        "- 'list'\n",
        "- ':' block of indentation/ scope of block, where it is starting/ ending, to keep the data inside the loop. like giving same number of spaces in each line after indentation"
      ],
      "metadata": {
        "id": "TIXAe4u0n7SP"
      }
    },
    {
      "cell_type": "code",
      "source": [
        " for task in list_of_tasks:\n",
        "    print('Task Start')\n",
        "    print_llm_response(task)\n",
        "    print('Task done')"
      ],
      "metadata": {
        "colab": {
          "base_uri": "https://localhost:8080/",
          "height": 801
        },
        "id": "QCC5unDRcHTh",
        "outputId": "87514fc7-b1e4-450e-af19-68d054b62103"
      },
      "execution_count": 17,
      "outputs": [
        {
          "output_type": "stream",
          "name": "stdout",
          "text": [
            "Task Start\n",
            "Subject: Late to Tomorrow's Meeting\n",
            "\n",
            "Hi [Boss's name],\n",
            "\n",
            "This email is to let you know that I will be late to tomorrow's meeting. I expect to arrive around [Time].  I apologize for any inconvenience this may cause.\n",
            "\n",
            "Thanks,\n",
            "\n",
            "[Your Name]\n",
            "\n",
            "Task done\n",
            "Task Start\n",
            "Twenty-eight years have spun their thread,\n",
            "A tapestry of moments spread.\n",
            "From childhood dreams to grown-up might,\n",
            "Otto, your life shines ever bright.\n",
            "\n",
            "Through laughter shared and lessons learned,\n",
            "A path of wisdom you've discerned.\n",
            "With strength and grace, you've faced the test,\n",
            "And stood among the very best.\n",
            "\n",
            "So raise a glass, let music play,\n",
            "To celebrate this special day.\n",
            "May joy and happiness abound,\n",
            "And blessings on your life be found.\n",
            "\n",
            "Happy Birthday, Otto, dear,\n",
            "May this year bring you all you hold dear.\n",
            "With love and wishes, warm and true,\n",
            "We celebrate this day with you!\n",
            "\n",
            "Task done\n",
            "Task Start\n",
            "Denis Villeneuve's \"Arrival\" isn't just a science fiction film; it's a profound meditation on time, communication, and the nature of choice.  Far from a typical alien invasion narrative, it focuses on the meticulous process of understanding a seemingly hostile extraterrestrial presence.  Amy Adams delivers a masterclass performance as Louise Banks, a linguist recruited to decipher the cryptic language of the heptapods, colossal, enigmatic beings who have arrived in twelve spaceships positioned globally.\n",
            "\n",
            "The film masterfully builds suspense not through explosive action, but through a slow burn of intellectual curiosity and mounting emotional stakes.  The heptapod's circular script, visualized with breathtaking artistry, becomes a visual representation of their non-linear perception of time, a concept gradually unveiled to both Louise and the audience.  This visual language is as captivating as it is challenging, mirroring the cognitive leaps required to bridge the gap between two vastly different species.\n",
            "\n",
            "Villeneuve's direction is both elegant and emotionally resonant. The film's muted color palette and deliberate pacing enhance the sense of mystery and impending revelation.  The soundtrack, a haunting blend of strings and ambient sounds, complements the film's contemplative atmosphere perfectly.  While some may find the pacing slow, it’s precisely this measured approach that allows the film's central themes to fully resonate.  The film expertly interweaves Louise's present-day struggle with flashbacks of her daughter, creating a poignant and deeply affecting narrative arc that explores the complexities of loss, grief, and the choices we make in the face of the unknown.\n",
            "\n",
            "\"Arrival\" isn't a film for those seeking explosions and laser battles.  Instead, it offers a deeply rewarding intellectual and emotional experience, challenging viewers to consider the nature of communication, the illusion of linear time, and the enduring power of human connection.  It's a film that stays with you long after the credits roll, prompting reflection and prompting a re-evaluation of our perspectives on life, death, and the infinite possibilities of the universe.\n",
            "\n",
            "Task done\n"
          ]
        }
      ]
    },
    {
      "cell_type": "code",
      "source": [
        "for task in list_of_tasks:\n",
        "print_llm_response(task)"
      ],
      "metadata": {
        "colab": {
          "base_uri": "https://localhost:8080/",
          "height": 106
        },
        "id": "Q1m3NbeMcJST",
        "outputId": "f873c82d-422f-4186-8602-5e1a849c02df"
      },
      "execution_count": 18,
      "outputs": [
        {
          "output_type": "error",
          "ename": "IndentationError",
          "evalue": "expected an indented block after 'for' statement on line 1 (<ipython-input-18-7d5e77be2665>, line 2)",
          "traceback": [
            "\u001b[0;36m  File \u001b[0;32m\"<ipython-input-18-7d5e77be2665>\"\u001b[0;36m, line \u001b[0;32m2\u001b[0m\n\u001b[0;31m    print_llm_response(task)\u001b[0m\n\u001b[0m    ^\u001b[0m\n\u001b[0;31mIndentationError\u001b[0m\u001b[0;31m:\u001b[0m expected an indented block after 'for' statement on line 1\n"
          ]
        }
      ]
    },
    {
      "cell_type": "code",
      "source": [
        "for task in list_of_tasks:\n",
        "  print_llm_response(task[0])"
      ],
      "metadata": {
        "colab": {
          "base_uri": "https://localhost:8080/",
          "height": 297
        },
        "id": "fbZxccXtph8Q",
        "outputId": "54c3d81c-8f3d-41d5-ac38-db271b48a60b"
      },
      "execution_count": 20,
      "outputs": [
        {
          "output_type": "stream",
          "name": "stdout",
          "text": [
            "The letter \"C\" can refer to many things depending on the context.  To help me understand what you mean, could you please provide more information or context?  For example:\n",
            "\n",
            "* **Is it a programming language?** (C programming language)\n",
            "* **Is it a musical note?** (C note in music)\n",
            "* **Is it a letter in a word or sentence?** (like in \"cat\" or \"car\")\n",
            "* **Is it a grade?** (C grade in school)\n",
            "* **Is it a vitamin?** (Vitamin C)\n",
            "* **Something else entirely?**\n",
            "\n",
            "Please clarify your request.\n",
            "\n",
            "W\n",
            "\n",
            "W is the 23rd letter of the English alphabet.  Is there anything else I can help you with regarding the letter W?  For example, are you interested in its pronunciation, its use in words, its history, or something else?\n",
            "\n"
          ]
        }
      ]
    },
    {
      "cell_type": "markdown",
      "source": [
        "Iteratively updating AI prompts using lists"
      ],
      "metadata": {
        "id": "2x4pvRaCpv-V"
      }
    },
    {
      "cell_type": "code",
      "source": [
        "#ice cream flavor example\n",
        "ice_cream_flavors: list = [\n",
        "    \"Vanilla\",\n",
        "    \"Chocolate\",\n",
        "    \"Strawberry\",\n",
        "    \"Mint Chocolate Chip\"\n",
        "]"
      ],
      "metadata": {
        "id": "Xv5uNwWBpk5V"
      },
      "execution_count": 21,
      "outputs": []
    },
    {
      "cell_type": "code",
      "source": [
        "for flavor in ice_cream_flavors:\n",
        "    prompt = f\"\"\"For the ice cream flavor listed below,\n",
        "    provide a captivating description that could be used for promotional purposes.\n",
        "\n",
        "    Flavor: {flavor}\n",
        "\n",
        "    \"\"\"\n",
        "    print('Start ...')\n",
        "    print_llm_response(prompt)\n",
        "    print('End ...')"
      ],
      "metadata": {
        "colab": {
          "base_uri": "https://localhost:8080/",
          "height": 1000
        },
        "id": "F7Oj_Dwvp38q",
        "outputId": "24a3cd15-790f-4cd1-c4ca-a961b894d1ab"
      },
      "execution_count": 23,
      "outputs": [
        {
          "output_type": "stream",
          "name": "stdout",
          "text": [
            "Start ...\n",
            "**Option 1 (Classic & Elegant):**\n",
            "\n",
            "> Indulge in the timeless elegance of our Vanilla ice cream.  Made with the finest Madagascar vanilla beans, this creamy, dreamy delight offers a pure, unadulterated taste of perfection.  A classic for a reason.\n",
            "\n",
            "**Option 2 (Warm & Inviting):**\n",
            "\n",
            "> Escape to a world of pure comfort with our Vanilla ice cream.  Rich, creamy, and bursting with the warm, sweet aroma of real vanilla, each spoonful is a moment of pure bliss.  The perfect ending to any day.\n",
            "\n",
            "**Option 3 (Playful & Modern):**\n",
            "\n",
            "> Vanilla?  Think again. Our Vanilla isn't your grandma's vanilla.  This is next-level vanilla – intensely flavorful, unbelievably smooth, and ridiculously addictive.  Prepare for vanilla redefined.\n",
            "\n",
            "**Option 4 (Focus on Origin):**\n",
            "\n",
            "> Discover the exquisite taste of our handcrafted Vanilla ice cream.  Made with sustainably sourced Madagascar vanilla beans, known for their complex and intoxicating aroma, this ice cream is a true testament to quality and flavor.  A taste of paradise in every scoop.\n",
            "\n",
            "**Option 5 (Short & Sweet):**\n",
            "\n",
            "> Simply Vanilla. Simply Perfect.\n",
            "\n",
            "\n",
            "Choose the option that best fits your brand's voice and target audience.\n",
            "\n",
            "End ...\n",
            "Start ...\n",
            "**Option 1 (Classic & Elegant):**\n",
            "\n",
            "> Indulge in the timeless allure of our Chocolate ice cream.  Rich, velvety smooth, and crafted with the finest cocoa beans, each spoonful is a decadent escape.  A symphony of dark chocolate bliss, this is the ultimate chocolate experience.\n",
            "\n",
            "\n",
            "**Option 2 (Playful & Modern):**\n",
            "\n",
            "> Warning: May cause uncontrollable cravings! Our Chocolate ice cream is seriously good.  Seriously rich. Seriously decadent.  Made with real chocolate, it's the perfect dose of pure, unadulterated chocolate happiness.\n",
            "\n",
            "\n",
            "**Option 3 (Descriptive & Sensual):**\n",
            "\n",
            "> Let the aroma of deeply roasted cocoa beans transport you.  Our Chocolate ice cream is a revelation – a smooth, intensely chocolatey experience that melts on your tongue, leaving a lingering warmth and a desire for more.  The ultimate chocolate indulgence.\n",
            "\n",
            "\n",
            "**Option 4 (Focus on Quality):**\n",
            "\n",
            "> Experience the difference of handcrafted quality with our Chocolate ice cream. We use only the finest ethically sourced cocoa to create a flavor profile that is unparalleled.  From the first bite to the last, savor the rich, complex notes of this truly exceptional ice cream.\n",
            "\n",
            "\n",
            "**Option 5 (Short & Sweet):**\n",
            "\n",
            "> Simply the best chocolate ice cream you'll ever taste.  Period.\n",
            "\n",
            "End ...\n",
            "Start ...\n",
            "**Option 1 (Classic & Elegant):**\n",
            "\n",
            "> Indulge in the timeless delight of our Strawberry ice cream.  Made with sun-ripened strawberries, each spoonful bursts with a vibrant, juicy sweetness that will transport you to a sun-drenched strawberry patch.  A creamy, dreamy texture completes this perfect summer treat.\n",
            "\n",
            "\n",
            "**Option 2 (Playful & Energetic):**\n",
            "\n",
            "> Get ready for a strawberry explosion!  Our Strawberry ice cream isn't just a flavor, it's an adventure.  Packed with real strawberries and bursting with bright, tangy flavor, it's the perfect pick-me-up for any day.  Prepare for pure strawberry bliss!\n",
            "\n",
            "\n",
            "**Option 3 (Sophisticated & Descriptive):**\n",
            "\n",
            "> Experience the exquisite taste of our handcrafted Strawberry ice cream.  The delicate sweetness of perfectly ripe strawberries is interwoven with a rich, velvety creaminess, creating a truly unforgettable flavor profile.  A sophisticated treat for the discerning palate.\n",
            "\n",
            "\n",
            "**Option 4 (Short & Sweet):**\n",
            "\n",
            "> Simply Strawberry. Simply Delicious.  Made with real strawberries and pure cream, our Strawberry ice cream is the ultimate summer indulgence.\n",
            "\n",
            "\n",
            "**Option 5 (Focus on Origin/Quality):**\n",
            "\n",
            "> Taste the difference of locally sourced strawberries in every bite. Our Strawberry ice cream is crafted with the finest, freshest berries, resulting in an unparalleled flavor and creamy texture.  Experience the true taste of summer.\n",
            "\n",
            "End ...\n",
            "Start ...\n",
            "**Option 1 (Classic & Elegant):**\n",
            "\n",
            "> Indulge in the timeless elegance of Mint Chocolate Chip.  Cool, refreshing mint ice cream swirled with decadent dark chocolate chips creates a symphony of flavor that's both sophisticated and utterly irresistible.  A perfect escape, scoop after scoop.\n",
            "\n",
            "**Option 2 (Playful & Energetic):**\n",
            "\n",
            "> Get ready for a flavor explosion! Our Mint Chocolate Chip isn't your grandma's ice cream – it's a vibrant burst of minty freshness packed with rich, dark chocolate chips that will leave you wanting more.  The ultimate feel-good treat!\n",
            "\n",
            "**Option 3 (Descriptive & Sensory):**\n",
            "\n",
            "> Imagine: the cool kiss of mint, a whisper of sweetness, and the satisfying crunch of dark chocolate chips melting on your tongue. That's the magic of our Mint Chocolate Chip.  Experience the perfect balance of refreshing coolness and rich chocolatey goodness – a truly unforgettable taste sensation.\n",
            "\n",
            "**Option 4 (Short & Sweet):**\n",
            "\n",
            "> The perfect blend of cool mint and rich chocolate. Our Mint Chocolate Chip is a classic for a reason.\n",
            "\n",
            "\n",
            "Choose the option that best suits your brand's voice and target audience.\n",
            "\n",
            "End ...\n"
          ]
        }
      ]
    },
    {
      "cell_type": "markdown",
      "source": [
        "in the next code, descriptions taken from LLM will be stored in an empty list"
      ],
      "metadata": {
        "id": "Azp3JSX-rmA3"
      }
    },
    {
      "cell_type": "code",
      "source": [
        "#saving results to a list\n",
        "promotional_descriptions = []\n",
        "for flavor in ice_cream_flavors:\n",
        "    prompt = f\"\"\"For the ice cream flavor listed below,\n",
        "    provide a captivating description that could be used for promotional purposes.\n",
        "\n",
        "    Flavor: {flavor}\n",
        "\n",
        "    \"\"\"\n",
        "    description = get_llm_response(prompt)\n",
        "    promotional_descriptions.append(description)"
      ],
      "metadata": {
        "id": "2Rn5r9WSqCQc"
      },
      "execution_count": 24,
      "outputs": []
    },
    {
      "cell_type": "code",
      "source": [
        "print(promotional_descriptions)"
      ],
      "metadata": {
        "colab": {
          "base_uri": "https://localhost:8080/"
        },
        "id": "0Pm2HcforD0F",
        "outputId": "87547f13-9f38-424c-e587-548883d34d0a"
      },
      "execution_count": 27,
      "outputs": [
        {
          "output_type": "stream",
          "name": "stdout",
          "text": [
            "[\"**Option 1 (Classic & Elegant):**\\n\\n> Indulge in the timeless perfection of our Vanilla Bean ice cream.  Made with the finest Madagascar vanilla beans, each spoonful unveils a symphony of rich, creamy sweetness and subtle, intoxicating warmth. A classic for a reason, this is vanilla elevated.\\n\\n\\n**Option 2 (Modern & Playful):**\\n\\n> Forget boring.  Our Vanilla ice cream is anything but.  Bursting with the pure, unadulterated flavor of real vanilla beans, this creamy dream is the ultimate blank canvas for your sweetest cravings.  Simple, sophisticated, and seriously delicious.\\n\\n\\n**Option 3 (Focus on Quality):**\\n\\n> Experience vanilla redefined.  Crafted with sustainably sourced, premium vanilla beans, our Vanilla ice cream delivers an unparalleled depth of flavor.  From the first bite to the last, you'll taste the difference quality makes.  Pure indulgence, simply vanilla.\\n\\n\\n**Option 4 (Short & Sweet):**\\n\\n> The gold standard of ice cream.  Pure, creamy, and undeniably delicious vanilla.\\n\\n\\n**Option 5 (Sensory Focused):**\\n\\n> Imagine: the velvety smooth texture melting on your tongue, the intoxicating aroma of Madagascar vanilla beans filling the air, the pure, sweet bliss that unfolds with each spoonful.  That's our Vanilla ice cream.  Experience the sensation.\\n\", \"**Option 1 (Classic & Rich):**\\n\\n> Indulge in the ultimate chocolate experience. Our decadent Chocolate ice cream is crafted with the finest cocoa beans, delivering a rich, intensely smooth flavor that will transport you to chocolate heaven.  Each spoonful is a moment of pure bliss.\\n\\n\\n**Option 2 (Sophisticated & Descriptive):**\\n\\n> Discover the depth of our artisanal Chocolate ice cream.  Notes of dark, bittersweet chocolate dance on your tongue, complemented by subtle hints of caramel and a creamy texture that melts effortlessly. A truly sophisticated treat for the discerning palate.\\n\\n\\n**Option 3 (Playful & Approachable):**\\n\\n> Warning: May cause uncontrollable cravings! Our Chocolate ice cream is ridiculously rich, unbelievably smooth, and utterly irresistible.  It's the perfect simple pleasure, guaranteed to satisfy your deepest chocolate desires.\\n\\n\\n**Option 4 (Focus on Quality):**\\n\\n> Experience the difference of real chocolate. Made with sustainably sourced cocoa and the freshest cream, our Chocolate ice cream is a testament to quality.  Taste the richness, feel the smoothness, savor the perfection.\\n\\n\\n**Option 5 (Short & Sweet):**\\n\\n> Simply the best Chocolate ice cream you'll ever taste.  Period.\\n\", \"**Option 1 (Classic & Elegant):**\\n\\n> Indulge in the timeless allure of our Strawberry ice cream.  Made with sun-ripened strawberries, each spoonful delivers a burst of juicy sweetness and a delicate, refreshing tang. A perfect balance of fruity bliss, it's a taste of summer that will transport you.\\n\\n**Option 2 (Playful & Energetic):**\\n\\n> Get ready for a strawberry explosion! Our Strawberry ice cream is bursting with the bright, vibrant flavor of freshly picked berries.  It's so ridiculously delicious, you'll be begging for more.  Prepare for strawberry bliss!\\n\\n**Option 3 (Sophisticated & Descriptive):**\\n\\n> Experience the exquisite taste of our Strawberry ice cream.  Hand-crafted with the finest, intensely flavored strawberries, this creamy delight boasts a rich, complex profile.  Notes of sweet strawberry jam mingle with a subtle tartness, creating a truly unforgettable sensory experience.\\n\\n\\n**Option 4 (Short & Sweet):**\\n\\n> Pure strawberry perfection.  Creamy, dreamy, undeniably delicious.\\n\\n\\n**Option 5 (Focus on Sourcing -  adapt as needed):**\\n\\n> Taste the sunshine in every bite! Our Strawberry ice cream is made with locally sourced, organically grown strawberries, ensuring a superior flavor and unmatched freshness.  Experience the difference of real, farm-fresh strawberries.\\n\", \"**Option 1 (Classic & Elegant):**\\n\\n> Indulge in the timeless elegance of our Mint Chocolate Chip.  Cool, refreshing mint ice cream swirled with decadent dark chocolate chips delivers a symphony of flavor that's both sophisticated and utterly irresistible.  A taste of pure bliss.\\n\\n\\n**Option 2 (Playful & Energetic):**\\n\\n> Get your mint on!  Our Mint Chocolate Chip is a flavor explosion – a vibrant mint base packed with rich, chunky chocolate chips that will leave you wanting more.  It's the perfect refreshing treat for any adventure.\\n\\n\\n**Option 3 (Descriptive & Sensory):**\\n\\n> Imagine:  A wave of cool, invigorating mint, kissed by the sweet darkness of rich chocolate chips.  Each spoonful of our Mint Chocolate Chip is a textural delight – the smooth creaminess of the mint contrasting perfectly with the satisfying crunch of the chocolate.  A truly unforgettable experience.\\n\\n\\n**Option 4 (Short & Sweet):**\\n\\n> The ultimate classic.  Cool mint.  Decadent chocolate.  Pure perfection.  Our Mint Chocolate Chip.\\n\\n\\n**Option 5 (Premium & Upscale):**\\n\\n> Experience the unparalleled luxury of our handcrafted Mint Chocolate Chip. We use only the finest ingredients –  premium peppermint oil for an exquisitely refreshing mint flavor, and the richest, darkest chocolate chips for an unforgettable indulgence.  A treat fit for royalty.\\n\"]\n"
          ]
        }
      ]
    },
    {
      "cell_type": "markdown",
      "source": [
        "Extra practice"
      ],
      "metadata": {
        "id": "O_rle7sdrG5n"
      }
    },
    {
      "cell_type": "code",
      "source": [
        "# Fix the following code.\n",
        "# It should print the flavors in\n",
        "# ice_cream_flavors one by one.\n",
        "\n",
        "ice_cream_flavors = [\"Chocolate\", \"Mint Chocolate Chip\"]\n",
        "\n",
        "### EDIT THE FOLLOWING CODE ###\n",
        "for flavor in ice_cream_flavors;\n",
        "    print(ice_cream_flavors)\n",
        "### --------------- ###"
      ],
      "metadata": {
        "colab": {
          "base_uri": "https://localhost:8080/",
          "height": 106
        },
        "id": "halvLiMcrHPY",
        "outputId": "543e533b-0b1b-4b59-bae1-fe7e534ea718"
      },
      "execution_count": 29,
      "outputs": [
        {
          "output_type": "error",
          "ename": "SyntaxError",
          "evalue": "invalid syntax (<ipython-input-29-be0fd0472723>, line 8)",
          "traceback": [
            "\u001b[0;36m  File \u001b[0;32m\"<ipython-input-29-be0fd0472723>\"\u001b[0;36m, line \u001b[0;32m8\u001b[0m\n\u001b[0;31m    for flavor in ice_cream_flavors;\u001b[0m\n\u001b[0m                                   ^\u001b[0m\n\u001b[0;31mSyntaxError\u001b[0m\u001b[0;31m:\u001b[0m invalid syntax\n"
          ]
        }
      ]
    },
    {
      "cell_type": "code",
      "source": [
        "ice_cream_flavors: list = [\"Chocolate\", \"Mint Chocolate Chip\"]\n",
        "\n",
        "for flavor in ice_cream_flavors:\n",
        "    print(ice_cream_flavors)"
      ],
      "metadata": {
        "colab": {
          "base_uri": "https://localhost:8080/"
        },
        "id": "ZC5E8v41smce",
        "outputId": "9aeb5ec8-7f9c-4c0e-dbb6-4e943c5de464"
      },
      "execution_count": 30,
      "outputs": [
        {
          "output_type": "stream",
          "name": "stdout",
          "text": [
            "['Chocolate', 'Mint Chocolate Chip']\n",
            "['Chocolate', 'Mint Chocolate Chip']\n"
          ]
        }
      ]
    },
    {
      "cell_type": "code",
      "source": [
        "# Translate the flavors in ice_cream_flavors to Spanish\n",
        "ice_cream_flavors = [\"Vanilla\", \"Strawberry\"]\n",
        "\n",
        "for flavor in ice_cream_flavors:\n",
        "    ### EDIT THE FOLLOWING CODE ###\n",
        "    #Hint: you only need to add one or two sentences to the prompt\n",
        "    prompt = f\"\"\"For the ice cream flavor listed below,\n",
        "\n",
        "    \"\"\"\n",
        "    ### --------------- ###\n",
        "    print_llm_response(prompt)"
      ],
      "metadata": {
        "colab": {
          "base_uri": "https://localhost:8080/",
          "height": 86
        },
        "id": "siQ70Tucs2xL",
        "outputId": "7286d3eb-1e30-40af-a359-fd1cf2ec4636"
      },
      "execution_count": 31,
      "outputs": [
        {
          "output_type": "stream",
          "name": "stdout",
          "text": [
            "Please provide the ice cream flavor.  I need the flavor name to answer your question.\n",
            "\n",
            "Please provide the ice cream flavor. I need the flavor name to answer your question.\n",
            "\n"
          ]
        }
      ]
    },
    {
      "cell_type": "code",
      "source": [
        "ice_cream_flavors: list = [\"Vanilla\", \"Strawberry\"]\n",
        "\n",
        "for flavor in ice_cream_flavors:\n",
        "    prompt = f\"\"\"For the ice cream flavor listed below,\n",
        "    translate it to Spanish.\n",
        "\n",
        "    Flavor: {flavor}\n",
        "\n",
        "    \"\"\"\n",
        "    ### --------------- ###\n",
        "    print_llm_response(prompt)"
      ],
      "metadata": {
        "colab": {
          "base_uri": "https://localhost:8080/",
          "height": 86
        },
        "id": "SpSgLUHJtIhW",
        "outputId": "42cafc0d-9495-458a-c638-57db3be9952c"
      },
      "execution_count": 32,
      "outputs": [
        {
          "output_type": "stream",
          "name": "stdout",
          "text": [
            "Vainilla\n",
            "\n",
            "Fresa\n",
            "\n"
          ]
        }
      ]
    },
    {
      "cell_type": "code",
      "source": [
        "# Write code to get a list with\n",
        "# words without typos\n",
        "\n",
        "words_with_typos = [\"Aple\", \"Wether\", \"Newpaper\"]\n",
        "words_without_typos = []\n",
        "\n",
        "for word in words_with_typos:\n",
        "    prompt = f\"\"\"Fix the spelling mistake in the following word: {word}\n",
        "    Provide only the word.\n",
        "    \"\"\"\n",
        "    correct_word = get_llm_response(prompt)\n",
        "    ### WRITE CODE HERE  ###\n",
        "    #Hint: Append the correct_word to the words_without_typos list\n",
        "    ### --------------- ###\n",
        "\n",
        "print(words_without_typos)"
      ],
      "metadata": {
        "colab": {
          "base_uri": "https://localhost:8080/",
          "height": 34
        },
        "id": "Td-QtGtstHjt",
        "outputId": "066c24fc-e84b-4113-f5be-3d5c8f3374e8"
      },
      "execution_count": 33,
      "outputs": [
        {
          "output_type": "stream",
          "name": "stdout",
          "text": [
            "[]\n"
          ]
        }
      ]
    },
    {
      "cell_type": "code",
      "source": [
        "words_with_typos = [\"Aple\", \"Wether\", \"Newpaper\"]\n",
        "words_without_typos = []\n",
        "\n",
        "for word in words_with_typos:\n",
        "    prompt = f\"\"\"Fix the spelling mistake in the following word: {word}\n",
        "    Provide only the word.\n",
        "    \"\"\"\n",
        "    correct_word = get_llm_response(prompt)\n",
        "    words_without_typos.append(correct_word)\n",
        "\n",
        "print(words_without_typos)"
      ],
      "metadata": {
        "colab": {
          "base_uri": "https://localhost:8080/",
          "height": 34
        },
        "id": "w_ozIPNTttyj",
        "outputId": "08e1f497-b771-4b1c-e96a-4fe47eeead54"
      },
      "execution_count": 34,
      "outputs": [
        {
          "output_type": "stream",
          "name": "stdout",
          "text": [
            "['Apple\\n', 'Whether\\n', 'Newspaper\\n']\n"
          ]
        }
      ]
    }
  ]
}