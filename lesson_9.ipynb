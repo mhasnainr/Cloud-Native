{
  "nbformat": 4,
  "nbformat_minor": 0,
  "metadata": {
    "colab": {
      "provenance": [],
      "authorship_tag": "ABX9TyMsfMngB4BhBc3D7+HMfOkd",
      "include_colab_link": true
    },
    "kernelspec": {
      "name": "python3",
      "display_name": "Python 3"
    },
    "language_info": {
      "name": "python"
    }
  },
  "cells": [
    {
      "cell_type": "markdown",
      "metadata": {
        "id": "view-in-github",
        "colab_type": "text"
      },
      "source": [
        "<a href=\"https://colab.research.google.com/github/mhasnainr/Cloud-Native/blob/main/lesson_9.ipynb\" target=\"_parent\"><img src=\"https://colab.research.google.com/assets/colab-badge.svg\" alt=\"Open In Colab\"/></a>"
      ]
    },
    {
      "cell_type": "markdown",
      "source": [
        "**L9: Building LLM prompts with variables**"
      ],
      "metadata": {
        "id": "aRbUn5gwjTIg"
      }
    },
    {
      "cell_type": "code",
      "source": [
        "# there are 3 things:\n",
        "\n",
        "# API key: in our case, it is of Gemini [which is an LLM]\n",
        "\n",
        "# Module: in order to use the API key, someone has written code on Python, which is an open-source\n",
        "\n",
        "# Scripting"
      ],
      "metadata": {
        "id": "RK2tkC8-HRf1"
      },
      "execution_count": 17,
      "outputs": []
    },
    {
      "cell_type": "code",
      "source": [
        "# Modular Approach/ Architecture: e.g; if you have to make a car, then you'll buy ready-made tyres"
      ],
      "metadata": {
        "id": "ifQy1PM2TB7Z"
      },
      "execution_count": 18,
      "outputs": []
    },
    {
      "cell_type": "code",
      "source": [
        "# Since Python is a scripting language, so there are 2 ways to write it:\n",
        "\n",
        "# 1- Scripting: means it has single file, containing all the things, i.e; you'll make all things by yourself\n",
        "\n",
        "# 2- Module: in this, when something you have to buy/ borrow, this is called 'import'\n",
        "# for importing, it is necessary that it should exist in your system"
      ],
      "metadata": {
        "id": "qfaoi-EnTKKg"
      },
      "execution_count": 19,
      "outputs": []
    },
    {
      "cell_type": "code",
      "source": [
        "# there are 2 types of interface:\n",
        "\n",
        "# Graphical User Interface [GUI]: e.g; Google Chrome\n",
        "    # explaination: when you vist passport office, the officer who interacts with you, is called an interface\n",
        "    # he's not responsible for issuing the passport\n",
        "\n",
        "# Command Line Interface [CLI]: e.g; command prompt"
      ],
      "metadata": {
        "id": "kykT9JfZTLyU"
      },
      "execution_count": 20,
      "outputs": []
    },
    {
      "cell_type": "code",
      "source": [
        "# since Free Google Colab has no CLi option, so Linux command is used\n",
        "# in Linux, ' !curl ' is used"
      ],
      "metadata": {
        "id": "K1v_m6HwTO8b"
      },
      "execution_count": 21,
      "outputs": []
    },
    {
      "cell_type": "code",
      "source": [
        "# 50:59: continue from here"
      ],
      "metadata": {
        "id": "NLTkTvqaThCi"
      },
      "execution_count": 22,
      "outputs": []
    },
    {
      "cell_type": "code",
      "source": [
        "# first, in 'Secrets' option [on left side], make a variable for API key"
      ],
      "metadata": {
        "id": "vMTBVTWjCotD"
      },
      "execution_count": null,
      "outputs": []
    },
    {
      "cell_type": "code",
      "source": [
        "# copy the following link:\n",
        "\n",
        "# https://raw.githubusercontent.com/panaversity/learn-cloud-native-modern-ai-python/main/04_natural_language_programming/02_ai_python_for_beginners/course1_basics/Lesson_9/helper_functions.py\n",
        "\n",
        "# then first write: ' !curl -o helper_functions.py ', followed by the link you copied"
      ],
      "metadata": {
        "id": "nEKmR2mpAVEA"
      },
      "execution_count": null,
      "outputs": []
    },
    {
      "cell_type": "code",
      "source": [
        "!curl -o helper_functions.py https://raw.githubusercontent.com/panaversity/learn-cloud-native-modern-ai-python/main/04_natural_language_programming/02_ai_python_for_beginners/course1_basics/Lesson_9/helper_functions.py"
      ],
      "metadata": {
        "colab": {
          "base_uri": "https://localhost:8080/"
        },
        "id": "KqbhaOBiyRY2",
        "outputId": "f4e816c2-9eb9-4df1-ff90-91ee1072f4e9"
      },
      "execution_count": null,
      "outputs": [
        {
          "output_type": "stream",
          "name": "stdout",
          "text": [
            "  % Total    % Received % Xferd  Average Speed   Time    Time     Time  Current\n",
            "                                 Dload  Upload   Total   Spent    Left  Speed\n",
            "\r  0     0    0     0    0     0      0      0 --:--:-- --:--:-- --:--:--     0\r100  3944  100  3944    0     0  16285      0 --:--:-- --:--:-- --:--:-- 16297\n"
          ]
        }
      ]
    },
    {
      "cell_type": "code",
      "execution_count": null,
      "metadata": {
        "id": "ZXSYLMVsjLnL"
      },
      "outputs": [],
      "source": [
        "from helper_functions import print_llm_response"
      ]
    },
    {
      "cell_type": "code",
      "source": [
        "print_llm_response(\"What is the capital of Australia?\")"
      ],
      "metadata": {
        "colab": {
          "base_uri": "https://localhost:8080/",
          "height": 52
        },
        "id": "TVkZwNWvxgRW",
        "outputId": "e33378a9-3fb7-4ae7-f30c-848b4e9c4717"
      },
      "execution_count": null,
      "outputs": [
        {
          "output_type": "stream",
          "name": "stdout",
          "text": [
            "Canberra\n",
            "\n"
          ]
        }
      ]
    },
    {
      "cell_type": "code",
      "source": [
        "name = \"Otto Matic\"\n",
        "dog_age = 21/7\n",
        "\n",
        "print_llm_response(f\"\"\"If {name} were a dog, he would be {dog_age} years old.\n",
        "Describe what life stage that would be for a dog and what that might\n",
        "entail in terms of energy level, interests, and behavior.\"\"\")"
      ],
      "metadata": {
        "colab": {
          "base_uri": "https://localhost:8080/",
          "height": 436
        },
        "id": "luTfPOs91scL",
        "outputId": "3646a967-c81e-4cd2-ee3e-1ad62576d34d"
      },
      "execution_count": null,
      "outputs": [
        {
          "output_type": "stream",
          "name": "stdout",
          "text": [
            "If Otto Matic were a dog, at 3.0 years old he'd be squarely in his **adult prime**.  This is roughly equivalent to a young adult human in terms of physical and mental development.\n",
            "\n",
            "**Energy Level:**  He'd likely still have a good amount of energy, though perhaps not the boundless, puppy-like enthusiasm of a younger dog.  His energy would be more focused and sustained than the erratic bursts of a puppy.  He'd enjoy longer walks, more complex games, and might still have a playful streak, but would likely also appreciate periods of calm relaxation.\n",
            "\n",
            "**Interests:**  Depending on his breed and individual personality, his interests might include:\n",
            "\n",
            "* **Playing fetch or other games:**  He'd understand the rules better and be more reliable in returning the ball.\n",
            "* **Exploring:** He'd be confident exploring new environments and engaging with new scents and experiences.\n",
            "* **Socialization:**  He'd likely enjoy interacting with other dogs and people, having developed better social skills than in his puppyhood. He'd also have developed some preferences for particular dogs or people.\n",
            "* **Chewing (though less destructively):** While not as intense as a puppy, he might still engage in chewing, especially on appropriate chew toys.\n",
            "* **Training:** He'd be at an ideal age for learning new tricks and commands, as his attention span and understanding have significantly improved.\n",
            "\n",
            "**Behavior:**  Otto Matic, as a 3-year-old dog, would likely exhibit:\n",
            "\n",
            "* **Increased independence:** He might be more comfortable spending short periods alone.\n",
            "* **Improved obedience:**  If properly trained, he'd likely be more reliable in following commands.\n",
            "* **More predictable behavior:** His moods and energy levels would be less erratic than when he was younger.\n",
            "* **Greater confidence:**  He'd have a more secure sense of himself and his place in his environment.\n",
            "* **Potential for some stubbornness:**  As he matures, he might test boundaries more, asserting his independence.\n",
            "\n",
            "\n",
            "In short, a 3-year-old Otto Matic would be a delightful companion – a well-adjusted, energetic adult dog with a good understanding of his world, ready for adventures and cuddles in equal measure.\n",
            "\n"
          ]
        }
      ]
    },
    {
      "cell_type": "markdown",
      "source": [
        "Variable names restrictions"
      ],
      "metadata": {
        "id": "TR-CGz-C1-OJ"
      }
    },
    {
      "cell_type": "code",
      "source": [
        "driver : str = \"unicorn\"\n",
        "drivers_vehicle : str = \"colorful, asymmetric dinosaur car\"\n",
        "favorite_planet : str = \"Pluto\"\n",
        "\n",
        "print_llm_response(f\"\"\"Write me a 300 word children's story about a {driver} racing\n",
        "a {drivers_vehicle} for the {favorite_planet} champion cup.\"\"\")"
      ],
      "metadata": {
        "colab": {
          "base_uri": "https://localhost:8080/",
          "height": 280
        },
        "id": "1360lup3147O",
        "outputId": "9925c20d-2ef4-4fbe-bebb-3327bc87c61a"
      },
      "execution_count": null,
      "outputs": [
        {
          "output_type": "stream",
          "name": "stdout",
          "text": [
            "Sparkle, a unicorn with a mane like spun moonlight, nervously pawed the starting line.  Beside her, revving its rainbow engine, sat Dino-Zoom, a vibrant, lopsided dinosaur car with three wheels and a tail that wagged excitedly.  Today was the day of the Pluto Champion Cup, the most important race in the galaxy!\n",
            "\n",
            "The announcer, a booming voice from a giant space mushroom, bellowed, \"Racers, ready? Set… GO!\"\n",
            "\n",
            "Sparkle bolted, her silver hooves flashing.  She was fast, her magic shimmering around her as she effortlessly cleared the first asteroid field.  But Dino-Zoom, driven by a cheerful, green-skinned alien named Zorp, wasn’t far behind.  Its mismatched wheels bumped and bounced, but it never slowed.  Zorp honked the horn – a cheerful, chirping sound like a thousand happy crickets.\n",
            "\n",
            "The course twisted through swirling nebulae and past glittering comets. Sparkle used her horn to create a shimmering trail, momentarily confusing the other racers, giving her a slight lead.  But Dino-Zoom, despite its unusual shape, was surprisingly agile.  It weaved through the cosmic obstacles with impressive skill, its paint job leaving a trail of sparkling stardust.\n",
            "\n",
            "Halfway through, Sparkle began to tire.  The race was longer than she’d expected!  Zorp, sensing her exhaustion, slowed Dino-Zoom slightly, offering a friendly wave.  Sparkle felt a surge of gratitude.  This wasn't just a race; it was a friendship challenge.\n",
            "\n",
            "The finish line was a giant, shimmering ring of Pluto’s moon, Charon.  With a final burst of speed and a magical sparkle, Sparkle crossed the line, just a nose ahead of Dino-Zoom.\n",
            "\n",
            "The crowd roared!  Sparkle and Zorp, exhausted but elated, embraced.  They both had won – the Pluto Champion Cup, and a newfound friendship.  The announcer boomed, \"A truly magnificent race!  A tie in our hearts!\"  And so, Sparkle and Dino-Zoom celebrated, their victory sweeter than any prize.\n",
            "\n"
          ]
        }
      ]
    },
    {
      "cell_type": "markdown",
      "source": [
        "Extra practice"
      ],
      "metadata": {
        "id": "l2wJkItG2UBI"
      }
    },
    {
      "cell_type": "code",
      "source": [
        "# Fix this code\n",
        "1favorite-book = \"1001 Ways to Wear a Hat\"\n",
        "\"2002 Ways to Wear a Scarf\" = second_fav_book\n",
        "print(f\"My most favorite book is {1favorite-book}, but I also like {second_fav_book})"
      ],
      "metadata": {
        "colab": {
          "base_uri": "https://localhost:8080/",
          "height": 106
        },
        "id": "XnKHiyn-2Uy8",
        "outputId": "ca75efe4-89b1-4080-ffb3-38f5a04b6ded"
      },
      "execution_count": null,
      "outputs": [
        {
          "output_type": "error",
          "ename": "SyntaxError",
          "evalue": "invalid decimal literal (<ipython-input-9-d1c8f972039d>, line 2)",
          "traceback": [
            "\u001b[0;36m  File \u001b[0;32m\"<ipython-input-9-d1c8f972039d>\"\u001b[0;36m, line \u001b[0;32m2\u001b[0m\n\u001b[0;31m    1favorite-book = \"1001 Ways to Wear a Hat\"\u001b[0m\n\u001b[0m    ^\u001b[0m\n\u001b[0;31mSyntaxError\u001b[0m\u001b[0;31m:\u001b[0m invalid decimal literal\n"
          ]
        }
      ]
    },
    {
      "cell_type": "code",
      "source": [
        "favorite_book1 : str = \"1001 Ways to Wear a Hat\"\n",
        "second_fav_book : str = \"2002 Ways to Wear a Scarf\"\n",
        "print(f\"My most favorite book is {favorite_book1}, but I also like {second_fav_book}\")"
      ],
      "metadata": {
        "colab": {
          "base_uri": "https://localhost:8080/"
        },
        "id": "pCqUJ4soBFLa",
        "outputId": "9c20127c-d00b-420b-e88a-1e7ff7d367aa"
      },
      "execution_count": null,
      "outputs": [
        {
          "output_type": "stream",
          "name": "stdout",
          "text": [
            "My most favorite book is 1001 Ways to Wear a Hat, but I also like 2002 Ways to Wear a Scarf\n"
          ]
        }
      ]
    },
    {
      "cell_type": "code",
      "source": [
        "# Make variables for your favorite game, movie, and food.\n",
        "# Then use print_llm_response to ask the LLM to recommend you\n",
        "# a new song to listen to based on your likes.\n",
        "\n",
        "fav_game : str = 'GTA V'\n",
        "fav_movie : str = 'ABC'\n",
        "fav_food : str = 'Karaahi'\n",
        "\n",
        "print_llm_response(f\"\"\"\n",
        "recommend me\n",
        "a new song to listen to based on {fav_game}, {fav_movie}, and {fav_food}\n",
        "\"\"\")"
      ],
      "metadata": {
        "colab": {
          "base_uri": "https://localhost:8080/",
          "height": 332
        },
        "id": "g2BVpgraBbu_",
        "outputId": "95e33fc8-3395-4f2e-c409-5efcee0346d3"
      },
      "execution_count": null,
      "outputs": [
        {
          "output_type": "stream",
          "name": "stdout",
          "text": [
            "This is a fun challenge!  There's no single song that perfectly blends the vibes of GTA V, ABC (the band), and Karaahi (assuming you mean the Ethiopian stew), but we can try to bridge the gaps.  Let's aim for something with a blend of:\n",
            "\n",
            "* **GTA V:**  A bit of driving energy, maybe some synth elements, possibly a touch of cinematic drama or ironic humor.\n",
            "* **ABC:**  A touch of 80s synth-pop, possibly upbeat and catchy, maybe a little sophisticated.\n",
            "* **Karaahi:**  This is the trickiest.  To capture the essence of Karaahi, we need something warm, possibly with a bit of a spicy edge or a worldly feel.  Think of the vibrant, comforting, and subtly complex nature of the dish.\n",
            "\n",
            "\n",
            "Based on these elements, I'd recommend exploring songs that fit parts of this description. You might enjoy searching for songs using these keywords on music streaming services:\n",
            "\n",
            "* **\"Synthwave with world music influences\"**: This would tap into the GTA V and ABC elements, while hinting at the global feel of Karaahi.\n",
            "* **\"80s inspired synth-pop with a driving beat\"**: This leans heavily on the ABC and GTA V aspects.  Look for artists who blend those styles.\n",
            "* **\"Upbeat instrumental tracks with ethnic instrumentation\"**: This approach attempts to capture the \"spicy edge\" of Karaahi, while maintaining the energy of the other two.\n",
            "\n",
            "\n",
            "\n",
            "Instead of recommending one specific song (as the combination is unconventional), I suggest you use these search terms and explore. You might discover something amazing that fits this unexpected yet intriguing blend!  Let me know if you want to explore a particular subgenre more (e.g., focusing more on the 80s synth or the world music).\n",
            "\n"
          ]
        }
      ]
    }
  ]
}