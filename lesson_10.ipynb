{
  "nbformat": 4,
  "nbformat_minor": 0,
  "metadata": {
    "colab": {
      "provenance": [],
      "authorship_tag": "ABX9TyOMs/zFPszJ8NALq7B9JW/1",
      "include_colab_link": true
    },
    "kernelspec": {
      "name": "python3",
      "display_name": "Python 3"
    },
    "language_info": {
      "name": "python"
    }
  },
  "cells": [
    {
      "cell_type": "markdown",
      "metadata": {
        "id": "view-in-github",
        "colab_type": "text"
      },
      "source": [
        "<a href=\"https://colab.research.google.com/github/mhasnainr/Cloud-Native/blob/main/lesson_10.ipynb\" target=\"_parent\"><img src=\"https://colab.research.google.com/assets/colab-badge.svg\" alt=\"Open In Colab\"/></a>"
      ]
    },
    {
      "cell_type": "markdown",
      "source": [
        "**Lesson 10: Functions - Actions on Data**"
      ],
      "metadata": {
        "id": "RIP5PayzFmR3"
      }
    },
    {
      "cell_type": "markdown",
      "source": [
        "Function: block of code, which can be used multiple times dynamically\n",
        "\n",
        "Action: take decision after receiving certain command\n",
        "\n",
        "Data: that decision will be taken from data, in the form of text, imageg, video, etc"
      ],
      "metadata": {
        "id": "NDWF8OFPOh4E"
      }
    },
    {
      "cell_type": "markdown",
      "source": [
        "Concept of Import [through example]:\n",
        "\n",
        "- blocks are bought from shop, when they were required to place on the wall, they were called/ imported"
      ],
      "metadata": {
        "id": "YlZ4QkC0PdSR"
      }
    },
    {
      "cell_type": "markdown",
      "source": [
        "Important [regarding helper function]:\n",
        "- helper function is using a LLM [ChatGPT/ Gemini, etc]\n",
        "\n",
        "Environment Variable Approach:\n",
        "- using personal API Key for use\n",
        "\n",
        "Credentials: are like a ticket for entrance\n",
        "\n",
        "wild card [ * ]: means to import all things"
      ],
      "metadata": {
        "id": "rb8xBi9HP7Cj"
      }
    },
    {
      "cell_type": "code",
      "source": [
        "!curl -o helper_functions.py https://raw.githubusercontent.com/panaversity/learn-cloud-native-modern-ai-python/main/04_natural_language_programming/02_ai_python_for_beginners/course1_basics/Lesson_9/helper_functions.py"
      ],
      "metadata": {
        "id": "p-KOaaWAJjVy",
        "colab": {
          "base_uri": "https://localhost:8080/"
        },
        "outputId": "b29d0685-01dc-4e9c-bee9-b3cc5743ae3a"
      },
      "execution_count": 1,
      "outputs": [
        {
          "output_type": "stream",
          "name": "stdout",
          "text": [
            "  % Total    % Received % Xferd  Average Speed   Time    Time     Time  Current\n",
            "                                 Dload  Upload   Total   Spent    Left  Speed\n",
            "\r  0     0    0     0    0     0      0      0 --:--:-- --:--:-- --:--:--     0\r100  3944  100  3944    0     0  22712      0 --:--:-- --:--:-- --:--:-- 22797\n"
          ]
        }
      ]
    },
    {
      "cell_type": "code",
      "source": [
        "from helper_functions import *"
      ],
      "metadata": {
        "id": "gBYmSpy--Dc1"
      },
      "execution_count": 2,
      "outputs": []
    },
    {
      "cell_type": "code",
      "source": [
        "print(\"¯\\_(ツ)_/¯\")"
      ],
      "metadata": {
        "colab": {
          "base_uri": "https://localhost:8080/"
        },
        "id": "Snf2l1y--RuD",
        "outputId": "888c1f05-3dea-4200-c253-7a049b15711a"
      },
      "execution_count": 3,
      "outputs": [
        {
          "output_type": "stream",
          "name": "stdout",
          "text": [
            "¯\\_(ツ)_/¯\n"
          ]
        }
      ]
    },
    {
      "cell_type": "code",
      "source": [
        "print_llm_response(\"What is the capital of England?\")"
      ],
      "metadata": {
        "colab": {
          "base_uri": "https://localhost:8080/",
          "height": 52
        },
        "id": "D-HD8aih-bT5",
        "outputId": "2360adf3-71cb-4d6e-ced9-51ae2fb7213f"
      },
      "execution_count": 4,
      "outputs": [
        {
          "output_type": "stream",
          "name": "stdout",
          "text": [
            "London\n",
            "\n"
          ]
        }
      ]
    },
    {
      "cell_type": "code",
      "source": [
        "type(17)"
      ],
      "metadata": {
        "colab": {
          "base_uri": "https://localhost:8080/"
        },
        "id": "2UagPILu-iRt",
        "outputId": "1e62e133-aa0f-465f-a43e-90dc878a6c1b"
      },
      "execution_count": 5,
      "outputs": [
        {
          "output_type": "execute_result",
          "data": {
            "text/plain": [
              "int"
            ]
          },
          "metadata": {},
          "execution_count": 5
        }
      ]
    },
    {
      "cell_type": "markdown",
      "source": [
        "Functions to count, to round, and to do much more"
      ],
      "metadata": {
        "id": "z5ZhvBJX-t3v"
      }
    },
    {
      "cell_type": "code",
      "source": [
        "print( len('Welcome Hasnain!'))"
      ],
      "metadata": {
        "colab": {
          "base_uri": "https://localhost:8080/"
        },
        "id": "TsmNmFBn-r32",
        "outputId": "bc7c58fe-b626-4b39-df3b-a0d8ac916611"
      },
      "execution_count": 6,
      "outputs": [
        {
          "output_type": "stream",
          "name": "stdout",
          "text": [
            "16\n"
          ]
        }
      ]
    },
    {
      "cell_type": "code",
      "source": [
        "print(round(32.6))\n",
        "print(round(32.49))\n",
        "print(round(32.5))\n",
        "print(round(32.51))\n",
        "print(round(32.2))"
      ],
      "metadata": {
        "colab": {
          "base_uri": "https://localhost:8080/"
        },
        "id": "RGpuzb9C-3yx",
        "outputId": "55b7f576-c2df-4464-d9b3-ff17a85bf705"
      },
      "execution_count": 9,
      "outputs": [
        {
          "output_type": "stream",
          "name": "stdout",
          "text": [
            "33\n",
            "32\n",
            "32\n",
            "33\n",
            "32\n"
          ]
        }
      ]
    },
    {
      "cell_type": "code",
      "source": [
        "string_length: int = len(\"Welcome Hasnain!\")\n",
        "print(string_length)\n",
        "print(type(string_length))"
      ],
      "metadata": {
        "colab": {
          "base_uri": "https://localhost:8080/"
        },
        "id": "7yZUQKDo_DeO",
        "outputId": "dbe16651-8c2f-4285-c122-3c6da561a882"
      },
      "execution_count": 26,
      "outputs": [
        {
          "output_type": "stream",
          "name": "stdout",
          "text": [
            "16\n",
            "<class 'int'>\n"
          ]
        }
      ]
    },
    {
      "cell_type": "code",
      "source": [
        "print(round(32.6432/2))"
      ],
      "metadata": {
        "colab": {
          "base_uri": "https://localhost:8080/"
        },
        "id": "U1milX37NZov",
        "outputId": "314c25b3-f7c5-4581-d7fb-df15d16ec31a"
      },
      "execution_count": 21,
      "outputs": [
        {
          "output_type": "stream",
          "name": "stdout",
          "text": [
            "16\n"
          ]
        }
      ]
    },
    {
      "cell_type": "code",
      "source": [
        "print(round(32.6432/2, 2))"
      ],
      "metadata": {
        "colab": {
          "base_uri": "https://localhost:8080/"
        },
        "id": "3cWLGoGdNoKV",
        "outputId": "ab89e21d-b417-4fd4-93fe-caeb42e6ee87"
      },
      "execution_count": 22,
      "outputs": [
        {
          "output_type": "stream",
          "name": "stdout",
          "text": [
            "16.32\n"
          ]
        }
      ]
    },
    {
      "cell_type": "code",
      "source": [
        "# prompt: How can I find the length of a string?\n",
        "\n",
        "# You can find the length of a string using the built-in len() function.\n",
        "string_length: str = len(\"Your String Here\")\n",
        "string_length"
      ],
      "metadata": {
        "colab": {
          "base_uri": "https://localhost:8080/"
        },
        "id": "2z0Adf7G_d5M",
        "outputId": "012306ca-d153-4af5-aab8-e14da6d0426d"
      },
      "execution_count": 23,
      "outputs": [
        {
          "output_type": "execute_result",
          "data": {
            "text/plain": [
              "16"
            ]
          },
          "metadata": {},
          "execution_count": 23
        }
      ]
    },
    {
      "cell_type": "markdown",
      "source": [
        "Using functions in AI programs"
      ],
      "metadata": {
        "id": "LXScU8zQ_o5G"
      }
    },
    {
      "cell_type": "markdown",
      "source": [
        "Difference b/w print_llm_response and get_llm_response:\n",
        "\n",
        "- print_llm_response:\n",
        "LLM response is displayed.\n",
        "Directly displays the LLM's response.\n",
        "It's for when you want to *see* the output immediately.\n",
        "\n",
        "- get_llm_response: string is obtained as a result\n",
        "Returns the LLM's response as a value.\n",
        "You can then use this value in other parts of your program (store it, process it further, etc.).\n",
        "It doesn't print anything itself.\n"
      ],
      "metadata": {
        "id": "x6eCsz3XIWNS"
      }
    },
    {
      "cell_type": "code",
      "source": [
        "name = \"Tommy\"\n",
        "potatoes = 4.75\n",
        "prompt = f\"\"\"Write a couplet about my friend {name} who has about {round(potatoes)} potatoes\"\"\"\n",
        "response = get_llm_response(prompt)\n",
        "print(response)"
      ],
      "metadata": {
        "colab": {
          "base_uri": "https://localhost:8080/",
          "height": 69
        },
        "id": "LCsAzEOE_p40",
        "outputId": "f58fd6ef-9e91-4c31-e1f2-e40955123339"
      },
      "execution_count": 12,
      "outputs": [
        {
          "output_type": "stream",
          "name": "stdout",
          "text": [
            "Five spuds are Tommy's humble store,\n",
            "A potato king, though nothing more.\n",
            "\n"
          ]
        }
      ]
    },
    {
      "cell_type": "markdown",
      "source": [
        "Extra practice"
      ],
      "metadata": {
        "id": "2MHHifjuI-Br"
      }
    },
    {
      "cell_type": "code",
      "source": [
        "# Enter one of your favorite numbers.\n",
        "# Multiply the result by 10 and save it to a variable called 'lucky_number'.\n",
        "# Print a message saying \"Your lucky number is [lucky_number]!\"\n",
        "\n",
        "lucky_number =\n",
        "print(f\"Your lucky number is {}!\")"
      ],
      "metadata": {
        "colab": {
          "base_uri": "https://localhost:8080/",
          "height": 106
        },
        "id": "EPvNX863IQqg",
        "outputId": "b7205ad1-f311-4c69-f005-3a06a626cac0"
      },
      "execution_count": 13,
      "outputs": [
        {
          "output_type": "error",
          "ename": "SyntaxError",
          "evalue": "invalid syntax (<ipython-input-13-875bdac5eea1>, line 5)",
          "traceback": [
            "\u001b[0;36m  File \u001b[0;32m\"<ipython-input-13-875bdac5eea1>\"\u001b[0;36m, line \u001b[0;32m5\u001b[0m\n\u001b[0;31m    lucky_number =\u001b[0m\n\u001b[0m                   ^\u001b[0m\n\u001b[0;31mSyntaxError\u001b[0m\u001b[0;31m:\u001b[0m invalid syntax\n"
          ]
        }
      ]
    },
    {
      "cell_type": "code",
      "source": [
        "fav_num = 1.7\n",
        "result = 10 * fav_num\n",
        "lucky_number = result\n",
        "print(f\"Your lucky number is {round(lucky_number)}!\")"
      ],
      "metadata": {
        "colab": {
          "base_uri": "https://localhost:8080/"
        },
        "id": "WKKx2EafJiFF",
        "outputId": "c00f88d1-f651-41e1-8c5b-4fd2d2457cbd"
      },
      "execution_count": 15,
      "outputs": [
        {
          "output_type": "stream",
          "name": "stdout",
          "text": [
            "Your lucky number is 17!\n"
          ]
        }
      ]
    },
    {
      "cell_type": "code",
      "source": [
        "# Use print_llm_response() to print a poem with the specified number of lines. Use the\n",
        "# prompt variable to save your prompt before calling print_llm_response()\n",
        "\n",
        "number_of_lines =\n",
        "prompt =\n",
        "print_llm_response()"
      ],
      "metadata": {
        "colab": {
          "base_uri": "https://localhost:8080/",
          "height": 106
        },
        "id": "gUQ0iRQrJnua",
        "outputId": "ecda008b-f198-4b47-b1a7-bb809ec686f7"
      },
      "execution_count": 17,
      "outputs": [
        {
          "output_type": "error",
          "ename": "SyntaxError",
          "evalue": "invalid syntax (<ipython-input-17-d67a9daa368e>, line 4)",
          "traceback": [
            "\u001b[0;36m  File \u001b[0;32m\"<ipython-input-17-d67a9daa368e>\"\u001b[0;36m, line \u001b[0;32m4\u001b[0m\n\u001b[0;31m    number_of_lines =\u001b[0m\n\u001b[0m                      ^\u001b[0m\n\u001b[0;31mSyntaxError\u001b[0m\u001b[0;31m:\u001b[0m invalid syntax\n"
          ]
        }
      ]
    },
    {
      "cell_type": "code",
      "source": [
        "number_of_lines = 5\n",
        "prompt = f\"\"\"Write a poem with {number_of_lines} lines\"\"\"\n",
        "print_llm_response(prompt)"
      ],
      "metadata": {
        "colab": {
          "base_uri": "https://localhost:8080/",
          "height": 121
        },
        "id": "WZMI1EHkJ8nt",
        "outputId": "fd0833a4-7600-4099-898e-d722b78a337d"
      },
      "execution_count": 16,
      "outputs": [
        {
          "output_type": "stream",
          "name": "stdout",
          "text": [
            "A silent dawn, a whispered breeze,\n",
            "Across the fields, the tall grass sways,\n",
            "Sun paints the clouds in fiery ease,\n",
            "A robin's song begins the days,\n",
            "And peace descends in golden haze.\n",
            "\n"
          ]
        }
      ]
    },
    {
      "cell_type": "code",
      "source": [
        "# Repeat exercise 2, this time using the function get_llm_response(), then print() to print it.\n",
        "# This function asks the LLM for a response, just like print_llm_response, but does not print it.\n",
        "# You'll need to save the response to\n",
        "# a variable, then print it out separately.\n",
        "\n",
        "number_of_lines =\n",
        "prompt =\n",
        "response =\n",
        "print()"
      ],
      "metadata": {
        "colab": {
          "base_uri": "https://localhost:8080/",
          "height": 106
        },
        "id": "7V1bdvfNKXvC",
        "outputId": "bfdd8505-6f70-4200-e6b5-bc5db1bdf51c"
      },
      "execution_count": 18,
      "outputs": [
        {
          "output_type": "error",
          "ename": "SyntaxError",
          "evalue": "invalid syntax (<ipython-input-18-f77bed96a8d8>, line 6)",
          "traceback": [
            "\u001b[0;36m  File \u001b[0;32m\"<ipython-input-18-f77bed96a8d8>\"\u001b[0;36m, line \u001b[0;32m6\u001b[0m\n\u001b[0;31m    number_of_lines =\u001b[0m\n\u001b[0m                      ^\u001b[0m\n\u001b[0;31mSyntaxError\u001b[0m\u001b[0;31m:\u001b[0m invalid syntax\n"
          ]
        }
      ]
    },
    {
      "cell_type": "code",
      "source": [
        "number_of_lines = 4\n",
        "prompt = f\"\"\"Write a poem of {number_of_lines} lines\"\"\"\n",
        "response = get_llm_response(prompt)\n",
        "print(response)"
      ],
      "metadata": {
        "colab": {
          "base_uri": "https://localhost:8080/",
          "height": 104
        },
        "id": "OikdksIuKeCZ",
        "outputId": "239e118b-e50d-4b9b-dea0-e531afaf3108"
      },
      "execution_count": 19,
      "outputs": [
        {
          "output_type": "stream",
          "name": "stdout",
          "text": [
            "The moon, a pearl in velvet skies,\n",
            "Hangs heavy, watching silent cries.\n",
            "The wind whispers a lonely tune,\n",
            "Beneath the pale, nocturnal moon.\n",
            "\n"
          ]
        }
      ]
    },
    {
      "cell_type": "code",
      "source": [],
      "metadata": {
        "id": "IrjP1mxsLAJx"
      },
      "execution_count": null,
      "outputs": []
    }
  ]
}