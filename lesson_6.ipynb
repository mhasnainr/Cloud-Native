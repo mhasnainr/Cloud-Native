{
  "nbformat": 4,
  "nbformat_minor": 0,
  "metadata": {
    "colab": {
      "provenance": [],
      "authorship_tag": "ABX9TyMAKZaknBH0Z93R2Clve3oK",
      "include_colab_link": true
    },
    "kernelspec": {
      "name": "python3",
      "display_name": "Python 3"
    },
    "language_info": {
      "name": "python"
    }
  },
  "cells": [
    {
      "cell_type": "markdown",
      "metadata": {
        "id": "view-in-github",
        "colab_type": "text"
      },
      "source": [
        "<a href=\"https://colab.research.google.com/github/mhasnainr/Cloud-Native/blob/main/lesson_6.ipynb\" target=\"_parent\"><img src=\"https://colab.research.google.com/assets/colab-badge.svg\" alt=\"Open In Colab\"/></a>"
      ]
    },
    {
      "cell_type": "markdown",
      "source": [
        "**L6: Helping AI make decisions**"
      ],
      "metadata": {
        "id": "wyMsCZC5Vk-i"
      }
    },
    {
      "cell_type": "markdown",
      "source": [
        "Topics:\n",
        "\n",
        "- Dictionary matters\n",
        "- if else"
      ],
      "metadata": {
        "id": "zSnNaAYFxmBd"
      }
    },
    {
      "cell_type": "code",
      "source": [
        "!curl -o helper_functions.py https://raw.githubusercontent.com/panaversity/learn-cloud-native-modern-ai-python/main/04_natural_language_programming/02_ai_python_for_beginners/course1_basics/Lesson_9/helper_functions.py"
      ],
      "metadata": {
        "colab": {
          "base_uri": "https://localhost:8080/"
        },
        "id": "rk9pvqiwVoW7",
        "outputId": "ee8a9867-6b17-4f70-bdf3-829156492d9c"
      },
      "execution_count": 12,
      "outputs": [
        {
          "output_type": "stream",
          "name": "stdout",
          "text": [
            "  % Total    % Received % Xferd  Average Speed   Time    Time     Time  Current\n",
            "                                 Dload  Upload   Total   Spent    Left  Speed\n",
            "100  3944  100  3944    0     0   6545      0 --:--:-- --:--:-- --:--:--  6540\n"
          ]
        }
      ]
    },
    {
      "cell_type": "code",
      "source": [
        "from helper_functions import print_llm_response, get_llm_response"
      ],
      "metadata": {
        "id": "uTKVIiMRVypB"
      },
      "execution_count": 13,
      "outputs": []
    },
    {
      "cell_type": "markdown",
      "source": [
        "Performing tasks depending on their time to completion"
      ],
      "metadata": {
        "id": "SSoGEAeyWLzF"
      }
    },
    {
      "cell_type": "code",
      "source": [
        "task_list: list[dict] = [\n",
        "    {\n",
        "        \"description\": \"Compose a brief email to my boss explaining that I will be late for next week's meeting.\",\n",
        "        \"time_to_complete\": 3\n",
        "    },\n",
        "    {\n",
        "        \"description\": \"Create an outline for a presentation on the benefits of remote work.\",\n",
        "        \"time_to_complete\": 60\n",
        "    },\n",
        "    {\n",
        "        \"description\": \"Write a 300-word review of the movie 'The Arrival'.\",\n",
        "        \"time_to_complete\": 30\n",
        "    },\n",
        "    {\n",
        "        \"description\": \"Create a shopping list for tofu and olive stir fry.\",\n",
        "        \"time_to_complete\": 5\n",
        "    }\n",
        "]"
      ],
      "metadata": {
        "id": "KUdvnR8eV5aL"
      },
      "execution_count": 14,
      "outputs": []
    },
    {
      "cell_type": "code",
      "source": [
        "type(task_list)"
      ],
      "metadata": {
        "colab": {
          "base_uri": "https://localhost:8080/"
        },
        "id": "QmQD-C4fiJde",
        "outputId": "3b00a597-9e19-4955-e81b-0bd48c738b51"
      },
      "execution_count": 3,
      "outputs": [
        {
          "output_type": "execute_result",
          "data": {
            "text/plain": [
              "list"
            ]
          },
          "metadata": {},
          "execution_count": 3
        }
      ]
    },
    {
      "cell_type": "code",
      "source": [
        "task: dict[str, str | int] = task_list[0]\n",
        "print(task)"
      ],
      "metadata": {
        "colab": {
          "base_uri": "https://localhost:8080/"
        },
        "id": "4dIZ2c4SWR3k",
        "outputId": "a6cab8af-ed37-4a98-8c47-32d398b1b082"
      },
      "execution_count": 9,
      "outputs": [
        {
          "output_type": "stream",
          "name": "stdout",
          "text": [
            "{'description': \"Compose a brief email to my boss explaining that I will be late for next week's meeting.\", 'time_to_complete': 3}\n"
          ]
        }
      ]
    },
    {
      "cell_type": "code",
      "source": [
        "# completion time [ in mins ]\n",
        "task[\"time_to_complete\"] <= 5"
      ],
      "metadata": {
        "colab": {
          "base_uri": "https://localhost:8080/"
        },
        "id": "Td0yMDOqiOax",
        "outputId": "9aea73b9-4f2f-455a-9294-eba4ff3a3d18"
      },
      "execution_count": 15,
      "outputs": [
        {
          "output_type": "execute_result",
          "data": {
            "text/plain": [
              "True"
            ]
          },
          "metadata": {},
          "execution_count": 15
        }
      ]
    },
    {
      "cell_type": "code",
      "source": [
        "if task[\"time_to_complete\"] <= 5:\n",
        "    task_to_do = task[\"description\"]\n",
        "    print_llm_response(task_to_do)"
      ],
      "metadata": {
        "colab": {
          "base_uri": "https://localhost:8080/",
          "height": 211
        },
        "id": "T8K0rhp5iYAt",
        "outputId": "72d199a6-8917-4dc2-dafd-120d149e3dc0"
      },
      "execution_count": 16,
      "outputs": [
        {
          "output_type": "stream",
          "name": "stdout",
          "text": [
            "Subject: Late Arrival to Next Week's Meeting\n",
            "\n",
            "Hi [Boss's name],\n",
            "\n",
            "Just wanted to let you know that I will be slightly late to next week's meeting on [Date] due to [Brief, polite reason - e.g., a prior appointment, a necessary errand].  I apologize for any inconvenience.\n",
            "\n",
            "Thanks,\n",
            "\n",
            "[Your Name]\n",
            "\n"
          ]
        }
      ]
    },
    {
      "cell_type": "code",
      "source": [
        "# if time is less than 1\n",
        "\n",
        "if task[\"time_to_complete\"] <= 1:\n",
        "    task_to_do = task[\"description\"]\n",
        "    print_llm_response(task_to_do)\n",
        "\n",
        "# nothing will show up, b/c condition doesn't meet"
      ],
      "metadata": {
        "id": "_Xe6IhsQkb4V"
      },
      "execution_count": 22,
      "outputs": []
    },
    {
      "cell_type": "code",
      "source": [
        "task = task_list[1]\n",
        "if task[\"time_to_complete\"] <= 5:\n",
        "    task_to_do = task[\"description\"]\n",
        "    print_llm_response(task_to_do)"
      ],
      "metadata": {
        "id": "1ufIZ0gui1Zn"
      },
      "execution_count": 21,
      "outputs": []
    },
    {
      "cell_type": "code",
      "source": [
        "task[\"time_to_complete\"] <= 5"
      ],
      "metadata": {
        "colab": {
          "base_uri": "https://localhost:8080/"
        },
        "id": "eVp_MGPNi28y",
        "outputId": "810dcce9-87a0-4846-8b6d-fec6927aae05"
      },
      "execution_count": 23,
      "outputs": [
        {
          "output_type": "execute_result",
          "data": {
            "text/plain": [
              "False"
            ]
          },
          "metadata": {},
          "execution_count": 23
        }
      ]
    },
    {
      "cell_type": "code",
      "source": [
        "task[\"time_to_complete\"]"
      ],
      "metadata": {
        "colab": {
          "base_uri": "https://localhost:8080/"
        },
        "id": "8UP3PEBklofh",
        "outputId": "b43cf2a0-8e38-4976-f790-292fb9364935"
      },
      "execution_count": 27,
      "outputs": [
        {
          "output_type": "execute_result",
          "data": {
            "text/plain": [
              "5"
            ]
          },
          "metadata": {},
          "execution_count": 27
        }
      ]
    },
    {
      "cell_type": "code",
      "source": [
        "task = task_list[2]\n",
        "if task[\"time_to_complete\"] <= 5:\n",
        "    task_to_do = task[\"description\"]\n",
        "    print_llm_response(task_to_do)"
      ],
      "metadata": {
        "id": "DsyFP4lei4rL"
      },
      "execution_count": 24,
      "outputs": []
    },
    {
      "cell_type": "code",
      "source": [
        "task = task_list[3]\n",
        "if task[\"time_to_complete\"] <= 5:\n",
        "    task_to_do = task[\"description\"]\n",
        "    print_llm_response(task_to_do)"
      ],
      "metadata": {
        "colab": {
          "base_uri": "https://localhost:8080/",
          "height": 659
        },
        "id": "thbp3CKXi7ZO",
        "outputId": "93fbef72-d26d-4cbc-80bc-14d9156e527f"
      },
      "execution_count": 25,
      "outputs": [
        {
          "output_type": "stream",
          "name": "stdout",
          "text": [
            "## Tofu & Olive Stir-Fry Shopping List:\n",
            "\n",
            "**Produce:**\n",
            "\n",
            "* Firm or extra-firm tofu (1 block)\n",
            "* Kalamata olives (1 cup, pitted or unpitted depending on preference)\n",
            "* Bell pepper (1, any color - red, yellow, or orange are good choices)\n",
            "* Onion (1 medium)\n",
            "* Garlic (2-3 cloves)\n",
            "* Ginger (1 thumb-sized piece, optional)\n",
            "* Green onions (1 bunch, for garnish)\n",
            "\n",
            "\n",
            "**Pantry:**\n",
            "\n",
            "* Olive oil (or other cooking oil)\n",
            "* Soy sauce (or tamari for gluten-free)\n",
            "* Rice vinegar\n",
            "* Honey or maple syrup (for sweetness, optional)\n",
            "* Sesame oil (optional, for flavor)\n",
            "* Cornstarch (or arrowroot powder for gluten-free) - for thickening the sauce (optional)\n",
            "* Dried chili flakes (optional, for spice)\n",
            "* Salt\n",
            "* Black pepper\n",
            "\n",
            "\n",
            "**Optional additions:**\n",
            "\n",
            "* Broccoli florets\n",
            "* Mushrooms (shiitake or cremini)\n",
            "* Snow peas or sugar snap peas\n",
            "* Zucchini\n",
            "* Cooked rice or quinoa (to serve with the stir-fry)\n",
            "\n",
            "\n",
            "**Note:**  Quantities can be adjusted based on the number of servings you need.\n",
            "\n"
          ]
        }
      ]
    },
    {
      "cell_type": "markdown",
      "source": [
        "Looping through the task list"
      ],
      "metadata": {
        "id": "zOMINZQoi8gj"
      }
    },
    {
      "cell_type": "code",
      "source": [
        "# Assign Tasks: list[dict]\n",
        "\n",
        "for task in task_list:\n",
        "    print(\"\"\"task[\"time_to_complete\"]\"\"\", task[\"time_to_complete\"])\n",
        "    if task[\"time_to_complete\"] <= 5:\n",
        "        task_to_do = task[\"description\"]\n",
        "        print_llm_response(task_to_do)"
      ],
      "metadata": {
        "colab": {
          "base_uri": "https://localhost:8080/",
          "height": 939
        },
        "id": "6dHix1VUi-lT",
        "outputId": "79c6e343-f917-48f2-8bca-5b7d2ebd8524"
      },
      "execution_count": 30,
      "outputs": [
        {
          "output_type": "stream",
          "name": "stdout",
          "text": [
            "task[\"time_to_complete\"] 3\n",
            "Subject: Late arrival to next week's meeting\n",
            "\n",
            "Hi [Boss's name],\n",
            "\n",
            "Just wanted to let you know that I will be slightly late to next week's meeting due to [brief, optional explanation - e.g., a prior appointment].  I apologize for any inconvenience.\n",
            "\n",
            "Thanks,\n",
            "\n",
            "[Your name]\n",
            "\n",
            "task[\"time_to_complete\"] 60\n",
            "task[\"time_to_complete\"] 30\n",
            "task[\"time_to_complete\"] 5\n",
            "## Tofu & Olive Stir-Fry Shopping List:\n",
            "\n",
            "**Produce:**\n",
            "\n",
            "* Firm or extra-firm tofu (1 block)\n",
            "* Olives (1 can, Kalamata or Castelvetrano recommended)\n",
            "* Onion (1)\n",
            "* Garlic (2-3 cloves)\n",
            "* Bell pepper (1, any color)\n",
            "* Broccoli florets (1 head or bag)\n",
            "* Spinach (1 bag, optional)\n",
            "* Fresh ginger (1 thumb-sized piece, optional)\n",
            "* Green onions (1 bunch, for garnish, optional)\n",
            "\n",
            "\n",
            "**Pantry:**\n",
            "\n",
            "* Soy sauce (or tamari for gluten-free)\n",
            "* Olive oil\n",
            "* Sesame oil (optional, for extra flavor)\n",
            "* Rice vinegar (optional, for acidity)\n",
            "* Honey or maple syrup (optional, for sweetness)\n",
            "* Cornstarch (or arrowroot powder) - for thickening sauce (optional)\n",
            "* Red pepper flakes (optional, for spice)\n",
            "* Black pepper\n",
            "* Salt\n",
            "\n",
            "\n",
            "**Optional additions:**\n",
            "\n",
            "* Mushrooms (shiitake, cremini, or button)\n",
            "* Snow peas\n",
            "* Carrots\n",
            "* Cooked rice or quinoa (to serve with)\n",
            "\n",
            "\n",
            "**Note:**  Quantities are estimates and can be adjusted based on your preferences and the number of servings you need.\n",
            "\n"
          ]
        }
      ]
    },
    {
      "cell_type": "markdown",
      "source": [
        "if-else blocks"
      ],
      "metadata": {
        "id": "DGTX8u1VjEmT"
      }
    },
    {
      "cell_type": "code",
      "source": [
        "for task in task_list:\n",
        "    if task[\"time_to_complete\"] <= 5:\n",
        "        task_to_do = task[\"description\"]\n",
        "        print_llm_response(task_to_do)\n",
        "    else:\n",
        "        print(f\"\\n\\n\\nTo complete later: {task['time_to_complete']} time to complete.\")"
      ],
      "metadata": {
        "colab": {
          "base_uri": "https://localhost:8080/",
          "height": 991
        },
        "id": "nelvGORRjFAk",
        "outputId": "d7abbf8c-9ea6-474b-cfde-e996e2701862"
      },
      "execution_count": 32,
      "outputs": [
        {
          "output_type": "stream",
          "name": "stdout",
          "text": [
            "Subject: Late arrival to next week's meeting\n",
            "\n",
            "Hi [Boss's name],\n",
            "\n",
            "Just letting you know that I will be slightly late to next week's meeting due to [brief, optional explanation - e.g., a prior appointment].  I apologize for any inconvenience.\n",
            "\n",
            "Thanks,\n",
            "\n",
            "[Your name]\n",
            "\n",
            "\n",
            "\n",
            "\n",
            "To complete later: 60 time to complete.\n",
            "\n",
            "\n",
            "\n",
            "To complete later: 30 time to complete.\n",
            "## Tofu & Olive Stir-Fry Shopping List:\n",
            "\n",
            "**Produce:**\n",
            "\n",
            "* Firm or extra-firm tofu (1 block)\n",
            "* Kalamata olives (1 can or jar, about 1 cup)\n",
            "* Red bell pepper (1)\n",
            "* Green bell pepper (1)\n",
            "* Onion (1)\n",
            "* Garlic (1 head or a pre-minced jar)\n",
            "* Fresh ginger (1 thumb-sized piece, optional)\n",
            "* Green onions (1 bunch, for garnish, optional)\n",
            "\n",
            "\n",
            "**Pantry:**\n",
            "\n",
            "* Olive oil\n",
            "* Soy sauce (or tamari for gluten-free)\n",
            "* Rice vinegar\n",
            "* Honey or maple syrup (optional, for sweetness)\n",
            "* Sesame oil (optional, for flavor)\n",
            "* Cornstarch or arrowroot powder (for thickening the sauce, optional)\n",
            "* Dried red pepper flakes (optional, for spice)\n",
            "* Cooked rice (or noodles) for serving\n",
            "\n",
            "\n",
            "**Optional additions:**\n",
            "\n",
            "* Mushrooms (cremini, shiitake, etc.)\n",
            "* Broccoli florets\n",
            "* Snow peas\n",
            "* Cherry tomatoes\n",
            "* Cashews or other nuts for garnish\n",
            "\n",
            "\n",
            "**Note:**  Quantities are approximate and can be adjusted based on the number of servings.\n",
            "\n"
          ]
        }
      ]
    },
    {
      "cell_type": "markdown",
      "source": [
        "Saving tasks for later using lists"
      ],
      "metadata": {
        "id": "QuPn8wJzvf2z"
      }
    },
    {
      "cell_type": "code",
      "source": [
        "tasks_for_later = []\n",
        "\n",
        "for task in task_list:\n",
        "    if task[\"time_to_complete\"] <= 5:\n",
        "        task_to_do = task[\"description\"]\n",
        "        print_llm_response(task_to_do)\n",
        "    else:\n",
        "        tasks_for_later.append(task)"
      ],
      "metadata": {
        "colab": {
          "base_uri": "https://localhost:8080/",
          "height": 818
        },
        "id": "2mkg_cntvgLb",
        "outputId": "538d208a-f4b3-4acd-d5fe-4bb1f3c1dff1"
      },
      "execution_count": 33,
      "outputs": [
        {
          "output_type": "stream",
          "name": "stdout",
          "text": [
            "Subject: Late to Meeting Next Week - [Your Name]\n",
            "\n",
            "Hi [Boss's Name],\n",
            "\n",
            "This email is to let you know that I will be slightly late to next week's meeting on [Date] at [Time]. I expect to arrive by [Time you expect to arrive].  My apologies for any inconvenience.\n",
            "\n",
            "Thanks,\n",
            "\n",
            "[Your Name]\n",
            "\n",
            "## Tofu & Olive Stir-Fry Shopping List:\n",
            "\n",
            "**Produce:**\n",
            "\n",
            "* Firm or extra-firm tofu (1 block)\n",
            "* Green olives (1 can, pitted or unpitted - your preference)\n",
            "* Bell peppers (1-2, any color or mix)\n",
            "* Onion (1 medium)\n",
            "* Garlic (1 bulb or pre-minced jar)\n",
            "* Ginger (1 knob, about 1 inch - optional, but adds great flavor)\n",
            "* Green onions/scallions (1 bunch, for garnish - optional)\n",
            "\n",
            "**Pantry:**\n",
            "\n",
            "* Soy sauce (or tamari for gluten-free)\n",
            "* Olive oil (or other cooking oil)\n",
            "* Sesame oil (optional, for flavor)\n",
            "* Honey or maple syrup (or other sweetener, optional)\n",
            "* Cornstarch (or arrowroot powder for gluten-free) - for thickening sauce (optional)\n",
            "* Black pepper\n",
            "* Red pepper flakes (optional, for spice)\n",
            "\n",
            "\n",
            "**Optional additions:**\n",
            "\n",
            "* Broccoli florets\n",
            "* Mushrooms (shiitake, cremini, etc.)\n",
            "* Snow peas\n",
            "* Zucchini\n",
            "* Cherry tomatoes\n",
            "* Sesame seeds (for garnish)\n",
            "\n",
            "\n",
            "**Note:**  Quantities are approximate and can be adjusted based on your needs and preferences.  Check your pantry before heading to the store!\n",
            "\n"
          ]
        }
      ]
    },
    {
      "cell_type": "code",
      "source": [
        "print(len(task_list))\n",
        "print(len(tasks_for_later))"
      ],
      "metadata": {
        "colab": {
          "base_uri": "https://localhost:8080/"
        },
        "id": "abxUL22tvjd2",
        "outputId": "323e2c33-7eb1-4378-acde-bda5b39486aa"
      },
      "execution_count": 36,
      "outputs": [
        {
          "output_type": "stream",
          "name": "stdout",
          "text": [
            "4\n",
            "2\n"
          ]
        }
      ]
    },
    {
      "cell_type": "markdown",
      "source": [
        "Extra practice"
      ],
      "metadata": {
        "id": "r28WhtMBvnPh"
      }
    },
    {
      "cell_type": "code",
      "source": [
        "# Modify this code to complete the task\n",
        "# if it takes more than 15 minutes\n",
        "\n",
        "task = task_list[2]\n",
        "\n",
        "### EDIT THE FOLLOWING CODE ###\n",
        "if task[\"time_to_complete\"]: #Modify this line\n",
        "    task_to_do = task[\"description\"]\n",
        "    print_llm_response(task_to_do)\n",
        "### --------------- ###"
      ],
      "metadata": {
        "id": "L5HZYi-5vnkW"
      },
      "execution_count": null,
      "outputs": []
    },
    {
      "cell_type": "code",
      "source": [
        "# Fix the code here by only using indentation.\n",
        "# It should print a message if the \"Chocolate\" ice cream flavor\n",
        "# is located in the ice_cream_flavors list.\n",
        "\n",
        "ice_cream_flavors = [\n",
        "    \"Vanilla\", \"Strawberry\", \"Mint Chocolate Chip\",\n",
        "    \"Cookies and Cream\", \"Rocky Road\", \"Butter Pecan\",\n",
        "    \"Pistachio\", \"Salted Caramel\", \"Chocolate\",\n",
        "    \"Mango\"\n",
        "]\n",
        "\n",
        "### EDIT THE FOLLOWING CODE ###\n",
        "#Hint: Recall that the code within for loops\n",
        "# and if statements is indented. The convention\n",
        "# in Python is to add four spaces for indented code.\n",
        "for flavor in ice_cream_flavors:\n",
        "if flavor == \"Chocolate\":\n",
        "print(f\"The list of flavors contains {flavor}, Andrew's favorite.\")\n",
        "### --------------- ###"
      ],
      "metadata": {
        "id": "Vv_XilGNwtvw"
      },
      "execution_count": null,
      "outputs": []
    },
    {
      "cell_type": "code",
      "source": [
        "# Add variables to the f-string to provide the\n",
        "# task description as well as the time to complete\n",
        "# for the tasks that are left for later.\n",
        "\n",
        "for task in task_list:\n",
        "    if task[\"time_to_complete\"] <= 5:\n",
        "        task_to_do = task[\"description\"]\n",
        "        print_llm_response(task_to_do)\n",
        "    else:\n",
        "        ### EDIT THE FOLLOWING CODE ###\n",
        "        # Hint: To add a variable in an f-string\n",
        "        # you need to use the following syntax: {variable_name}.\n",
        "        print(f\"To complete later:\")\n",
        "        ### ---------------  ###"
      ],
      "metadata": {
        "id": "lOxYs54mwxHp"
      },
      "execution_count": null,
      "outputs": []
    }
  ]
}