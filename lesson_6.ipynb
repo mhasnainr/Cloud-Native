{
  "nbformat": 4,
  "nbformat_minor": 0,
  "metadata": {
    "colab": {
      "provenance": [],
      "authorship_tag": "ABX9TyO4ts7JWeP35+jyfeXINbNO",
      "include_colab_link": true
    },
    "kernelspec": {
      "name": "python3",
      "display_name": "Python 3"
    },
    "language_info": {
      "name": "python"
    }
  },
  "cells": [
    {
      "cell_type": "markdown",
      "metadata": {
        "id": "view-in-github",
        "colab_type": "text"
      },
      "source": [
        "<a href=\"https://colab.research.google.com/github/mhasnainr/Cloud-Native/blob/main/lesson_6.ipynb\" target=\"_parent\"><img src=\"https://colab.research.google.com/assets/colab-badge.svg\" alt=\"Open In Colab\"/></a>"
      ]
    },
    {
      "cell_type": "code",
      "execution_count": 1,
      "metadata": {
        "id": "gSS2P6mC6c2Y"
      },
      "outputs": [],
      "source": [
        "# Topic: Data in Python"
      ]
    },
    {
      "cell_type": "code",
      "source": [
        "# - Strings"
      ],
      "metadata": {
        "id": "qi7uvYYW66ot"
      },
      "execution_count": 2,
      "outputs": []
    },
    {
      "cell_type": "code",
      "source": [
        "print('Hello, World')"
      ],
      "metadata": {
        "colab": {
          "base_uri": "https://localhost:8080/"
        },
        "id": "jN0LI-Gv6_6V",
        "outputId": "15528755-de49-45dd-b219-7e80d38717f3"
      },
      "execution_count": 3,
      "outputs": [
        {
          "output_type": "stream",
          "name": "stdout",
          "text": [
            "Hello, World\n"
          ]
        }
      ]
    },
    {
      "cell_type": "code",
      "source": [
        "print('My favorite drink is Earl Grey tea.')"
      ],
      "metadata": {
        "colab": {
          "base_uri": "https://localhost:8080/"
        },
        "id": "i_DLGUjB7jcQ",
        "outputId": "e8f368d2-21d5-4626-959e-1668f1526c6a"
      },
      "execution_count": 4,
      "outputs": [
        {
          "output_type": "stream",
          "name": "stdout",
          "text": [
            "My favorite drink is Earl Grey tea.\n"
          ]
        }
      ]
    },
    {
      "cell_type": "code",
      "source": [
        "print('\\_ツ)_/¯')"
      ],
      "metadata": {
        "colab": {
          "base_uri": "https://localhost:8080/"
        },
        "id": "lBcULMbs7pWZ",
        "outputId": "32a771f7-80de-4037-f6a6-5758631657dc"
      },
      "execution_count": 5,
      "outputs": [
        {
          "output_type": "stream",
          "name": "stdout",
          "text": [
            "\\_ツ)_/¯\n"
          ]
        }
      ]
    },
    {
      "cell_type": "code",
      "source": [
        "print('23.4')"
      ],
      "metadata": {
        "colab": {
          "base_uri": "https://localhost:8080/"
        },
        "id": "EeqttiTK7xqT",
        "outputId": "e1fb8387-a211-4f76-a267-98115d02ac7e"
      },
      "execution_count": 6,
      "outputs": [
        {
          "output_type": "stream",
          "name": "stdout",
          "text": [
            "23.4\n"
          ]
        }
      ]
    },
    {
      "cell_type": "code",
      "source": [
        "# Multiline Strings\n",
        "# you have to use triple inverted commas for multiline strings"
      ],
      "metadata": {
        "id": "0SMFoj8E71A4"
      },
      "execution_count": 11,
      "outputs": []
    },
    {
      "cell_type": "code",
      "source": [
        "print(\"\"\"Welcome\n",
        "to Lesson 6 of Modern Python \"\"\")"
      ],
      "metadata": {
        "colab": {
          "base_uri": "https://localhost:8080/"
        },
        "id": "dDCfogcI76dv",
        "outputId": "0068c54a-02de-4c4a-cf1f-0502d7e4e64b"
      },
      "execution_count": 9,
      "outputs": [
        {
          "output_type": "stream",
          "name": "stdout",
          "text": [
            "Welcome\n",
            "to Lesson 6 of Modern Python \n"
          ]
        }
      ]
    },
    {
      "cell_type": "code",
      "source": [
        "print('''Welcome\n",
        "to Cloud Native's class ''')"
      ],
      "metadata": {
        "colab": {
          "base_uri": "https://localhost:8080/"
        },
        "id": "H_7mbF3O8V5A",
        "outputId": "451a9b71-344c-4e80-bd76-6c9d0ec9f2a6"
      },
      "execution_count": 10,
      "outputs": [
        {
          "output_type": "stream",
          "name": "stdout",
          "text": [
            "Welcome\n",
            "to Cloud Native's class \n"
          ]
        }
      ]
    },
    {
      "cell_type": "code",
      "source": [
        "# type() function\n",
        "# it checks the type written inside the curly brackets"
      ],
      "metadata": {
        "id": "sFZ_481w8glC"
      },
      "execution_count": 13,
      "outputs": []
    },
    {
      "cell_type": "code",
      "source": [
        "type('Hello, World')"
      ],
      "metadata": {
        "colab": {
          "base_uri": "https://localhost:8080/"
        },
        "id": "4UI0LLyI8ssA",
        "outputId": "702e4afa-6952-4130-fe66-aee7641a01e3"
      },
      "execution_count": 15,
      "outputs": [
        {
          "output_type": "execute_result",
          "data": {
            "text/plain": [
              "str"
            ]
          },
          "metadata": {},
          "execution_count": 15
        }
      ]
    },
    {
      "cell_type": "code",
      "source": [
        "type('23.5')"
      ],
      "metadata": {
        "colab": {
          "base_uri": "https://localhost:8080/"
        },
        "id": "7rx3RpTV88Rc",
        "outputId": "cef391f3-06bb-4a98-865d-aeae8e947007"
      },
      "execution_count": 16,
      "outputs": [
        {
          "output_type": "execute_result",
          "data": {
            "text/plain": [
              "str"
            ]
          },
          "metadata": {},
          "execution_count": 16
        }
      ]
    },
    {
      "cell_type": "code",
      "source": [
        "type(32.4)"
      ],
      "metadata": {
        "colab": {
          "base_uri": "https://localhost:8080/"
        },
        "id": "lqfNTZEg9ARN",
        "outputId": "c38c8668-e13a-47b7-ba3f-b6b09485004e"
      },
      "execution_count": 17,
      "outputs": [
        {
          "output_type": "execute_result",
          "data": {
            "text/plain": [
              "float"
            ]
          },
          "metadata": {},
          "execution_count": 17
        }
      ]
    },
    {
      "cell_type": "code",
      "source": [
        "type(433)"
      ],
      "metadata": {
        "colab": {
          "base_uri": "https://localhost:8080/"
        },
        "id": "movDbYBa9CKu",
        "outputId": "370beb1c-1d51-49e2-acc0-c6d1ece56dcc"
      },
      "execution_count": 18,
      "outputs": [
        {
          "output_type": "execute_result",
          "data": {
            "text/plain": [
              "int"
            ]
          },
          "metadata": {},
          "execution_count": 18
        }
      ]
    },
    {
      "cell_type": "code",
      "source": [
        "# Python as a calculator\n",
        "\n",
        "# Python Operators Precedence Rule - PEMDAS\n",
        "# P – Parentheses.\n",
        "# E – Exponentiation.\n",
        "# M – Multiplication.\n",
        "# D – Division.\n",
        "# A – Addition.\n",
        "# S – Subtraction.\n",
        "\n",
        "# note: Both PEMDAS & BODMAS, are same"
      ],
      "metadata": {
        "id": "McxgK6nO9EQO"
      },
      "execution_count": 20,
      "outputs": []
    },
    {
      "cell_type": "code",
      "source": [
        "# prompt: print(28+35+43+50+65+70+68+66+75+80+95)\n",
        "# show every step in comment\n",
        "\n",
        "# 28 + 35 = 63\n",
        "# 63 + 43 = 106\n",
        "# 106 + 50 = 156\n",
        "# 156 + 65 = 221\n",
        "# 221 + 70 = 291\n",
        "# 291 + 68 = 359\n",
        "# 359 + 66 = 425\n",
        "# 425 + 75 = 500\n",
        "# 500 + 80 = 580\n",
        "# 580 + 95 = 675\n",
        "print(28+35+43+50+65+70+68+66+75+80+95)\n"
      ],
      "metadata": {
        "colab": {
          "base_uri": "https://localhost:8080/"
        },
        "id": "mDCJQUbI9NgC",
        "outputId": "de9faa1a-185b-4cc0-ea22-00ccfd93a5ac"
      },
      "execution_count": 21,
      "outputs": [
        {
          "output_type": "stream",
          "name": "stdout",
          "text": [
            "675\n"
          ]
        }
      ]
    },
    {
      "cell_type": "code",
      "source": [
        "# prompt: How do I compute 1.05 to the power of 10 and explain like 5 years old?\n",
        "\n",
        "# Imagine you have $1 and you get 5% more every year, for 10 years.\n",
        "# 1.05 is like saying you have 1 whole dollar plus an extra 5 cents.\n",
        "# 1.05 to the power of 10 means you multiply 1.05 by itself 10 times.\n",
        "\n",
        "result = 1.05**10\n",
        "print(result)"
      ],
      "metadata": {
        "colab": {
          "base_uri": "https://localhost:8080/"
        },
        "id": "9URjYJvo__zf",
        "outputId": "58916e55-1e39-4d5d-8594-d27ef17e51ca"
      },
      "execution_count": 24,
      "outputs": [
        {
          "output_type": "stream",
          "name": "stdout",
          "text": [
            "1.628894626777442\n"
          ]
        }
      ]
    },
    {
      "cell_type": "code",
      "source": [
        "# Order of operations"
      ],
      "metadata": {
        "id": "4myeSohgAOMq"
      },
      "execution_count": 25,
      "outputs": []
    },
    {
      "cell_type": "code",
      "source": [
        "# prompt: solve the following using PEMDAS Python along with an explaination:\n",
        "# print(75 - 32 * 5 / 9)\n",
        "\n",
        "# Following PEMDAS (Parentheses, Exponents, Multiplication and Division, Addition and Subtraction)\n",
        "# 1. Multiplication: 32 * 5 = 160\n",
        "# 2. Division: 160 / 9 = 17.777...\n",
        "# 3. Subtraction: 75 - 17.777... = 57.222...\n",
        "\n",
        "print(75 - 32 * 5 / 9) # Output: 57.22222222222223"
      ],
      "metadata": {
        "colab": {
          "base_uri": "https://localhost:8080/"
        },
        "id": "dqu_HJ56DNyG",
        "outputId": "e6035c5f-cd6d-48ae-a003-26a95c9552f3"
      },
      "execution_count": 28,
      "outputs": [
        {
          "output_type": "stream",
          "name": "stdout",
          "text": [
            "57.22222222222222\n"
          ]
        }
      ]
    },
    {
      "cell_type": "code",
      "source": [
        "print((75 - 32) * 5 / 9)"
      ],
      "metadata": {
        "colab": {
          "base_uri": "https://localhost:8080/"
        },
        "id": "iYUlVf6nBHTI",
        "outputId": "7f5b6640-c886-442e-88d9-7fa3a52c51b4"
      },
      "execution_count": 27,
      "outputs": [
        {
          "output_type": "stream",
          "name": "stdout",
          "text": [
            "23.88888888888889\n"
          ]
        }
      ]
    },
    {
      "cell_type": "code",
      "source": [
        "# Fix the error in the following code\n",
        "print(There are 366 days in a leap year\")"
      ],
      "metadata": {
        "colab": {
          "base_uri": "https://localhost:8080/",
          "height": 106
        },
        "id": "6ST45QzeBMGT",
        "outputId": "e4867f4b-4d17-4bc7-a18f-934e2f91e979"
      },
      "execution_count": 29,
      "outputs": [
        {
          "output_type": "error",
          "ename": "SyntaxError",
          "evalue": "unterminated string literal (detected at line 2) (<ipython-input-29-723ad8b306ac>, line 2)",
          "traceback": [
            "\u001b[0;36m  File \u001b[0;32m\"<ipython-input-29-723ad8b306ac>\"\u001b[0;36m, line \u001b[0;32m2\u001b[0m\n\u001b[0;31m    print(There are 366 days in a leap year\")\u001b[0m\n\u001b[0m                                           ^\u001b[0m\n\u001b[0;31mSyntaxError\u001b[0m\u001b[0;31m:\u001b[0m unterminated string literal (detected at line 2)\n"
          ]
        }
      ]
    },
    {
      "cell_type": "code",
      "source": [
        "print(\"There are 366 days in a leap year\")"
      ],
      "metadata": {
        "colab": {
          "base_uri": "https://localhost:8080/"
        },
        "id": "yI_t-qMaDndM",
        "outputId": "6a832e35-c5f2-4365-a22f-2c582850c9ce"
      },
      "execution_count": 30,
      "outputs": [
        {
          "output_type": "stream",
          "name": "stdout",
          "text": [
            "There are 366 days in a leap year\n"
          ]
        }
      ]
    },
    {
      "cell_type": "code",
      "source": [
        "# Fix the error in the following code\n",
        "print(\"There are 366\n",
        "days in a leap year\")"
      ],
      "metadata": {
        "colab": {
          "base_uri": "https://localhost:8080/",
          "height": 106
        },
        "id": "K2aJN61hDrhU",
        "outputId": "21f1d4a5-5041-4edf-fab8-803fcedc68e1"
      },
      "execution_count": 31,
      "outputs": [
        {
          "output_type": "error",
          "ename": "SyntaxError",
          "evalue": "unterminated string literal (detected at line 2) (<ipython-input-31-297ba75dab80>, line 2)",
          "traceback": [
            "\u001b[0;36m  File \u001b[0;32m\"<ipython-input-31-297ba75dab80>\"\u001b[0;36m, line \u001b[0;32m2\u001b[0m\n\u001b[0;31m    print(\"There are 366\u001b[0m\n\u001b[0m          ^\u001b[0m\n\u001b[0;31mSyntaxError\u001b[0m\u001b[0;31m:\u001b[0m unterminated string literal (detected at line 2)\n"
          ]
        }
      ]
    },
    {
      "cell_type": "code",
      "source": [
        "print(\"\"\"There are 366\n",
        "days in a leap year\"\"\")"
      ],
      "metadata": {
        "colab": {
          "base_uri": "https://localhost:8080/"
        },
        "id": "I3AsCcpTDwuX",
        "outputId": "1a240b83-f965-4be4-dc19-da2a8a2f69b0"
      },
      "execution_count": 32,
      "outputs": [
        {
          "output_type": "stream",
          "name": "stdout",
          "text": [
            "There are 366 \n",
            "days in a leap year\n"
          ]
        }
      ]
    },
    {
      "cell_type": "code",
      "source": [
        "# Write code to convert 6 feet to meters\n",
        "# note: A foot was defined as exactly 0.3048 meters in 1959\n",
        "print(.3048 * 6)"
      ],
      "metadata": {
        "colab": {
          "base_uri": "https://localhost:8080/"
        },
        "id": "c9zYOrB4D1FH",
        "outputId": "3a5fc048-0a1c-45de-ff57-e17c55dbeb54"
      },
      "execution_count": 33,
      "outputs": [
        {
          "output_type": "stream",
          "name": "stdout",
          "text": [
            "1.8288000000000002\n"
          ]
        }
      ]
    }
  ]
}