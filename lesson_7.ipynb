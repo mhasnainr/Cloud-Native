{
  "nbformat": 4,
  "nbformat_minor": 0,
  "metadata": {
    "colab": {
      "provenance": [],
      "authorship_tag": "ABX9TyOKcjZ1qREMVVV205rv01M7",
      "include_colab_link": true
    },
    "kernelspec": {
      "name": "python3",
      "display_name": "Python 3"
    },
    "language_info": {
      "name": "python"
    }
  },
  "cells": [
    {
      "cell_type": "markdown",
      "metadata": {
        "id": "view-in-github",
        "colab_type": "text"
      },
      "source": [
        "<a href=\"https://colab.research.google.com/github/mhasnainr/Cloud-Native/blob/main/lesson_7.ipynb\" target=\"_parent\"><img src=\"https://colab.research.google.com/assets/colab-badge.svg\" alt=\"Open In Colab\"/></a>"
      ]
    },
    {
      "cell_type": "markdown",
      "source": [
        "**Lesson 7: Displaying text and calculations together**"
      ],
      "metadata": {
        "id": "MfQQr8JDV5uT"
      }
    },
    {
      "cell_type": "code",
      "execution_count": 1,
      "metadata": {
        "id": "CDowygFVTHhb"
      },
      "outputs": [],
      "source": [
        "# float division"
      ]
    },
    {
      "cell_type": "code",
      "source": [
        "print(12 / 4)\n",
        "print(12 // 4)"
      ],
      "metadata": {
        "colab": {
          "base_uri": "https://localhost:8080/"
        },
        "id": "w6ra0ufpVWRz",
        "outputId": "90da1a01-46a2-449c-b8f5-72481c5a7018"
      },
      "execution_count": 2,
      "outputs": [
        {
          "output_type": "stream",
          "name": "stdout",
          "text": [
            "3.0\n",
            "3\n"
          ]
        }
      ]
    },
    {
      "cell_type": "markdown",
      "source": [
        "Mixing strings with computations or data: f-Strings"
      ],
      "metadata": {
        "id": "P8NgbK8ZWOsI"
      }
    },
    {
      "cell_type": "code",
      "source": [
        "print(((75 - 32) * 5 / 9))"
      ],
      "metadata": {
        "colab": {
          "base_uri": "https://localhost:8080/"
        },
        "id": "oPnbhJSnWKUR",
        "outputId": "43c2f648-59bc-41e5-bb85-468dec831366"
      },
      "execution_count": 4,
      "outputs": [
        {
          "output_type": "stream",
          "name": "stdout",
          "text": [
            "23.88888888888889\n"
          ]
        }
      ]
    },
    {
      "cell_type": "code",
      "source": [
        "print(\"The temperature 75F in degrees Celsius is ((75 - 32) * 5 / 9)C\")"
      ],
      "metadata": {
        "colab": {
          "base_uri": "https://localhost:8080/"
        },
        "id": "C7qhwLaDWUgB",
        "outputId": "2cb9fe5d-827a-4e7f-9944-a4f3d44741c6"
      },
      "execution_count": 5,
      "outputs": [
        {
          "output_type": "stream",
          "name": "stdout",
          "text": [
            "The temperature 75F in degrees Celsius is ((75 - 32) * 5 / 9)C\n"
          ]
        }
      ]
    },
    {
      "cell_type": "code",
      "source": [
        "print(f\"The temperature 75F in degrees celsius is {(75 - 32) * 5 / 9}C\")"
      ],
      "metadata": {
        "colab": {
          "base_uri": "https://localhost:8080/"
        },
        "id": "9_F5HfEYWa8o",
        "outputId": "d6113535-7a5a-4020-880a-482ad37cd20f"
      },
      "execution_count": 6,
      "outputs": [
        {
          "output_type": "stream",
          "name": "stdout",
          "text": [
            "The temperature 75F in degrees celsius is 23.88888888888889C\n"
          ]
        }
      ]
    },
    {
      "cell_type": "markdown",
      "source": [
        "Determining how data is displayed in f-strings"
      ],
      "metadata": {
        "id": "6PWsGfoNWoSg"
      }
    },
    {
      "cell_type": "code",
      "source": [
        "print(\"Isabel is 28 years old.\")"
      ],
      "metadata": {
        "colab": {
          "base_uri": "https://localhost:8080/"
        },
        "id": "4q9iHxchWeRl",
        "outputId": "6860fae5-b0aa-4690-b3aa-fd4dcb854bf1"
      },
      "execution_count": 7,
      "outputs": [
        {
          "output_type": "stream",
          "name": "stdout",
          "text": [
            "Isabel is 28 years old.\n"
          ]
        }
      ]
    },
    {
      "cell_type": "code",
      "source": [
        "print(\"Isabel is 28/7 dog years old.\")"
      ],
      "metadata": {
        "colab": {
          "base_uri": "https://localhost:8080/"
        },
        "id": "IwkIkHQLWrVa",
        "outputId": "962fb70c-a0f6-4609-86f0-a1fbf2ebefab"
      },
      "execution_count": 8,
      "outputs": [
        {
          "output_type": "stream",
          "name": "stdout",
          "text": [
            "Isabel is 28/7 dog years old.\n"
          ]
        }
      ]
    },
    {
      "cell_type": "code",
      "source": [
        "print(f\"Isabel is {28/7} dog years old.\")"
      ],
      "metadata": {
        "colab": {
          "base_uri": "https://localhost:8080/"
        },
        "id": "PtDky6mEWyCf",
        "outputId": "264aa68e-9ba6-4f65-d32a-08b46abbbfc0"
      },
      "execution_count": 9,
      "outputs": [
        {
          "output_type": "stream",
          "name": "stdout",
          "text": [
            "Isabel is 4.0 dog years old.\n"
          ]
        }
      ]
    },
    {
      "cell_type": "code",
      "source": [
        "# prompt: print the answer without any characters after the decimal place: print(f\"Isabel's dog age is {28/7}.\")\n",
        "\n",
        "print(f\"Isabel's dog age is {int(28/7)}.\")\n"
      ],
      "metadata": {
        "colab": {
          "base_uri": "https://localhost:8080/"
        },
        "id": "Dwh1LwDqW1uV",
        "outputId": "5e0e05a8-4b16-43c8-eb78-479d2160402e"
      },
      "execution_count": 10,
      "outputs": [
        {
          "output_type": "stream",
          "name": "stdout",
          "text": [
            "Isabel's dog age is 4.\n"
          ]
        }
      ]
    },
    {
      "cell_type": "code",
      "source": [
        "# OR"
      ],
      "metadata": {
        "id": "CFMl-PwqXMMz"
      },
      "execution_count": 11,
      "outputs": []
    },
    {
      "cell_type": "code",
      "source": [
        "print(f\"Isabel is {28/7:.0f} dog years old.\")"
      ],
      "metadata": {
        "colab": {
          "base_uri": "https://localhost:8080/"
        },
        "id": "dO_uXxazXPaf",
        "outputId": "d2d1f5b7-cc37-45f6-97c0-c25232ecc25d"
      },
      "execution_count": 12,
      "outputs": [
        {
          "output_type": "stream",
          "name": "stdout",
          "text": [
            "Isabel is 4 dog years old.\n"
          ]
        }
      ]
    },
    {
      "cell_type": "code",
      "source": [
        "print(f\"Isabel is {28/7:.2f} dog years old.\")"
      ],
      "metadata": {
        "colab": {
          "base_uri": "https://localhost:8080/"
        },
        "id": "DzpqiMBDXUCO",
        "outputId": "a7b9961f-080b-4742-ce5f-59e12205b776"
      },
      "execution_count": 13,
      "outputs": [
        {
          "output_type": "stream",
          "name": "stdout",
          "text": [
            "Isabel is 4.00 dog years old.\n"
          ]
        }
      ]
    },
    {
      "cell_type": "code",
      "source": [
        "# \" :.2f \" shows number of decimals required"
      ],
      "metadata": {
        "id": "w-GJ5WsuXdOZ"
      },
      "execution_count": 14,
      "outputs": []
    },
    {
      "cell_type": "markdown",
      "source": [
        "Multi-line f-strings"
      ],
      "metadata": {
        "id": "Vg6R0D0aXwh8"
      }
    },
    {
      "cell_type": "code",
      "source": [
        "print(f\"\"\"\n",
        "    Most countries use the metric system for recipe measurement,\n",
        "    but American bakers use a different system. For example, they use\n",
        "    fluid ounces to measure liquids instead of milliliters (ml).\n",
        "\n",
        "    So you need to convert recipe units to your local measuring system!\n",
        "\n",
        "    For example, 8 fluid ounces of milk is {8 * 29.5735} ml.\n",
        "    And 100ml of water is {100 / 29.5735} fluid ounces.\n",
        "\"\"\")"
      ],
      "metadata": {
        "colab": {
          "base_uri": "https://localhost:8080/"
        },
        "id": "Znh8PM27XrUY",
        "outputId": "832e2544-211b-4ed0-9c81-460c6f94aefa"
      },
      "execution_count": 15,
      "outputs": [
        {
          "output_type": "stream",
          "name": "stdout",
          "text": [
            "\n",
            "    Most countries use the metric system for recipe measurement, \n",
            "    but American bakers use a different system. For example, they use \n",
            "    fluid ounces to measure liquids instead of milliliters (ml).\n",
            "    \n",
            "    So you need to convert recipe units to your local measuring system!\n",
            "    \n",
            "    For example, 8 fluid ounces of milk is 236.588 ml.\n",
            "    And 100ml of water is 3.381405650328842 fluid ounces.\n",
            "\n"
          ]
        }
      ]
    },
    {
      "cell_type": "markdown",
      "source": [
        "Extra practice"
      ],
      "metadata": {
        "id": "qgnyTmxMX76D"
      }
    },
    {
      "cell_type": "code",
      "source": [
        "# Modify the code to print your age\n",
        "print(f\"I am {48/2} years old.\")\n",
        "print(f\"I am {48//2} years old.\")"
      ],
      "metadata": {
        "colab": {
          "base_uri": "https://localhost:8080/"
        },
        "id": "kTZxydS2X8gy",
        "outputId": "67067ec1-53f4-47b6-faa2-804a54653e40"
      },
      "execution_count": 17,
      "outputs": [
        {
          "output_type": "stream",
          "name": "stdout",
          "text": [
            "I am 24.0 years old.\n",
            "I am 24 years old.\n"
          ]
        }
      ]
    },
    {
      "cell_type": "code",
      "source": [
        "# Fix this code\n",
        "print(f\"There are {365/7 weeks in a year\")"
      ],
      "metadata": {
        "colab": {
          "base_uri": "https://localhost:8080/",
          "height": 106
        },
        "id": "Bf8KmKcUYCx1",
        "outputId": "7f00619b-a260-409e-daa1-d6b09b4b12a5"
      },
      "execution_count": 18,
      "outputs": [
        {
          "output_type": "error",
          "ename": "SyntaxError",
          "evalue": "f-string: expecting '}' (<ipython-input-18-03fef3b3a50b>, line 2)",
          "traceback": [
            "\u001b[0;36m  File \u001b[0;32m\"<ipython-input-18-03fef3b3a50b>\"\u001b[0;36m, line \u001b[0;32m2\u001b[0m\n\u001b[0;31m    print(f\"There are {365/7 weeks in a year\")\u001b[0m\n\u001b[0m                                             ^\u001b[0m\n\u001b[0;31mSyntaxError\u001b[0m\u001b[0;31m:\u001b[0m f-string: expecting '}'\n"
          ]
        }
      ]
    },
    {
      "cell_type": "code",
      "source": [
        "print(f\"There are {365//7} weeks in a year\")"
      ],
      "metadata": {
        "colab": {
          "base_uri": "https://localhost:8080/"
        },
        "id": "hM38hcczYMnm",
        "outputId": "002e83f6-fbdd-4e24-fa1c-d8f8ecaa5aa7"
      },
      "execution_count": 20,
      "outputs": [
        {
          "output_type": "stream",
          "name": "stdout",
          "text": [
            "There are 52 weeks in a year\n"
          ]
        }
      ]
    },
    {
      "cell_type": "code",
      "source": [
        "# Complete the code\n",
        "print(f\"The area of a square with side 5 cm is {} cm squared.\")"
      ],
      "metadata": {
        "colab": {
          "base_uri": "https://localhost:8080/",
          "height": 106
        },
        "id": "Hj42MZC-YWcL",
        "outputId": "115bf0d0-c15e-4b4e-83af-20e989dbe2cb"
      },
      "execution_count": 21,
      "outputs": [
        {
          "output_type": "error",
          "ename": "SyntaxError",
          "evalue": "f-string: empty expression not allowed (<ipython-input-21-cdf959e605b8>, line 2)",
          "traceback": [
            "\u001b[0;36m  File \u001b[0;32m\"<ipython-input-21-cdf959e605b8>\"\u001b[0;36m, line \u001b[0;32m2\u001b[0m\n\u001b[0;31m    print(f\"The area of a square with side 5 cm is {} cm squared.\")\u001b[0m\n\u001b[0m                                                                  ^\u001b[0m\n\u001b[0;31mSyntaxError\u001b[0m\u001b[0;31m:\u001b[0m f-string: empty expression not allowed\n"
          ]
        }
      ]
    },
    {
      "cell_type": "code",
      "source": [
        "print(f\"The area of a square with side 5 cm is {5 * 5} cm squared.\")"
      ],
      "metadata": {
        "colab": {
          "base_uri": "https://localhost:8080/"
        },
        "id": "ymP7WqDhYcWF",
        "outputId": "d226ef05-44b3-4ca3-85be-1c4c15521e7a"
      },
      "execution_count": 22,
      "outputs": [
        {
          "output_type": "stream",
          "name": "stdout",
          "text": [
            "The area of a square with side 5 cm is 25 cm squared.\n"
          ]
        }
      ]
    },
    {
      "cell_type": "code",
      "source": [
        "# Modify the code to display one decimal place\n",
        "print(f\"The house was a good size: 1200 square feet, or {1200 * 0.092903} meters squared!\")"
      ],
      "metadata": {
        "colab": {
          "base_uri": "https://localhost:8080/"
        },
        "id": "jI01OXuqYg3C",
        "outputId": "e3f886ba-0557-4314-b4e9-51a0326b2d17"
      },
      "execution_count": 23,
      "outputs": [
        {
          "output_type": "stream",
          "name": "stdout",
          "text": [
            "The house was a good size: 1200 square feet, or 111.4836 meters squared!\n"
          ]
        }
      ]
    },
    {
      "cell_type": "code",
      "source": [
        "print(f\"The house was a good size: 1200 square feet, or {1200 * 0.092903:.1f} meters squared!\")"
      ],
      "metadata": {
        "colab": {
          "base_uri": "https://localhost:8080/"
        },
        "id": "QLq3FyAAYkhM",
        "outputId": "49abbd9b-514a-49a7-c28e-40b9452a8210"
      },
      "execution_count": 24,
      "outputs": [
        {
          "output_type": "stream",
          "name": "stdout",
          "text": [
            "The house was a good size: 1200 square feet, or 111.5 meters squared!\n"
          ]
        }
      ]
    },
    {
      "cell_type": "code",
      "source": [],
      "metadata": {
        "id": "CAwwwZgkYtkm"
      },
      "execution_count": null,
      "outputs": []
    }
  ]
}