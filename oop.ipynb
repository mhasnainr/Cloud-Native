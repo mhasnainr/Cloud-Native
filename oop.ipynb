{
  "nbformat": 4,
  "nbformat_minor": 0,
  "metadata": {
    "colab": {
      "provenance": [],
      "authorship_tag": "ABX9TyOcD5+FwJgeDHzwQfttKZHt",
      "include_colab_link": true
    },
    "kernelspec": {
      "name": "python3",
      "display_name": "Python 3"
    },
    "language_info": {
      "name": "python"
    }
  },
  "cells": [
    {
      "cell_type": "markdown",
      "metadata": {
        "id": "view-in-github",
        "colab_type": "text"
      },
      "source": [
        "<a href=\"https://colab.research.google.com/github/mhasnainr/Cloud-Native/blob/main/oop.ipynb\" target=\"_parent\"><img src=\"https://colab.research.google.com/assets/colab-badge.svg\" alt=\"Open In Colab\"/></a>"
      ]
    },
    {
      "cell_type": "markdown",
      "source": [
        "**Object Oriented Programming [OOP] in Python**"
      ],
      "metadata": {
        "id": "Q4qoLueXyQZR"
      }
    },
    {
      "cell_type": "markdown",
      "source": [
        "Paradigm of moving towards OOP?\n",
        "\n",
        "1- Linear Programming: for each type of work, each line of code was required to be written, which was complex\n",
        "\n",
        "2- Procedure Programming: Structures were made in order to remove the complexity of code/ work. Structures contained functions, if/else, for, etc.\n",
        "\n",
        "In real-world, functional programming also becomes difficult when thinking is executed based on real-scenarios\n",
        "\n",
        "3- OOP:"
      ],
      "metadata": {
        "id": "Eg-HAsLK-q1s"
      }
    },
    {
      "cell_type": "markdown",
      "source": [
        "What is an Object?\n",
        "\n",
        "- everything which has any name is called an object\n",
        "- any real-world example, like: mobile\n",
        "\n",
        "Features of Object:\n",
        "\n",
        "1- Method: performing an action\n",
        "\n",
        "E.g;\n",
        "Qasim is an object. Actions performed by Qasim are called Methods. Similarly a mobile, car, etc\n",
        "\n",
        "2- Attribute/ Properties: doesn't performs an action, but a value is stored in it, temporarily or permanently\n",
        "\n",
        "E.g:\n",
        "Currently, there are 3 objects [Sir (Zia, Qasim, Ameen)] with name properties which are different from one another, similary their qualifications, background, etc, all are different\n",
        "\n",
        "In real-world scenario, classification of different objects with different properties was executed by scientists\n",
        "\n",
        "Same type of objects are placed in a single class, like:\n",
        "Mammal class -> Human class -> Male class -> Sir Qasim\n",
        "\n",
        "Objects belonging from same class will have same methods and properties. Since it was difficult to memorise methods and propertise of each one of them, so after classification, scientists introduced the concept of 'Class'\n",
        "\n",
        "Classes like teachers and students have the same properties. single change in any of the class, will cause changes in rest of the classes as well\n",
        "\n",
        "E.g of Meta: every public user [class] will have admin user as well. If a new feature [like live streaming] is been introduced, then automatically that feature is made available to all the public users irrespective of their type of account\n",
        "\n",
        "E.g Methods of student class includes:\n",
        "- he has a register, portal,, can sumbit fee, can submit assignments, etc"
      ],
      "metadata": {
        "id": "yzYEBwOe-BMS"
      }
    },
    {
      "cell_type": "code",
      "source": [
        "# class example\n",
        "\n",
        "human_junaid: dict[str, str] = {'name':'Sir Junaid', 'eyes_color': 'brown', 'face_expression': 'ewe'}\n",
        "\n",
        "human_qasim: dict[str, str] = {'name':'Qasim', 'eyes_color': 'brown', 'face_expression': 'happy'}\n",
        "\n",
        "class Human:\n",
        "    def __init__(self, name: str, eyes_color: str, face_expression: str) -> None: # this method is called constructor\n",
        "      self.name = name\n",
        "      self.eyes_color = eyes_color\n",
        "      self.face_expression = face_expression\n",
        "\n",
        "sir_qasim = Human('Sir Qasim', 'Black', 'Happy')\n",
        "print(sir_qasim.name)\n",
        "print(sir_qasim.eyes_color)\n",
        "print(sir_qasim.face_expression)\n"
      ],
      "metadata": {
        "id": "6ZlgaRjrySRb",
        "colab": {
          "base_uri": "https://localhost:8080/"
        },
        "outputId": "97109abb-d501-499a-80ac-7fbd3211359f"
      },
      "execution_count": 5,
      "outputs": [
        {
          "output_type": "stream",
          "name": "stdout",
          "text": [
            "Sir Qasim\n",
            "Black\n",
            "Happy\n"
          ]
        }
      ]
    },
    {
      "cell_type": "code",
      "source": [
        "# Breakdown of last cell\n",
        "\n",
        "\n",
        "\n",
        "# human_junaid: dict[str, str] = {'name':'Sir Junaid', 'eyes_color': 'brown', 'face_expression': 'ewe'}\n",
        "# human_qasim: dict[str, str] = {'name':'Qasim', 'eyes_color': 'brown', 'face_expression': 'happy'}\n",
        "\n",
        "# objects of junaid and qasim are made, containing all of his properties [name, eyes color, etc]\n",
        "\n",
        "\n",
        "# 'blue print' can be made using keyword of class\n",
        "# blue print will allow us to make the object.\n",
        "# this will help us in equalling the object's pattern, which means its properties will be fixed\n",
        "# whenver about a human is asked, this will include his name, eyes color, etc\n",
        "# this will help us in not repeating of properties\n",
        "# if someone forgets to write an of the property in the future\n",
        "# blue print will cover it by making an object when it's called\n",
        "\n",
        "# syntax for writing a class:\n",
        "\n",
        "# class Human:\n",
        "    # def __init__(self, name: str, eyes_color: str, face_expression: str) -> None:\n",
        "\n",
        "# class First_letter_in_uppercase, followed by an indentation [:] to write blocks\n",
        "# block's first order function is called constructor function\n",
        "# constructor function: the mechanism provided by Python for making an object\n",
        "# schema/ structure of construction: name with string, eye_colr with string, etc\n",
        "# this is also called data definition\n",
        "\n",
        "# fixed schema: when you know the structure before writing it\n",
        "# free schema: when you come to know the structure at run-time\n",
        "\n",
        "# in this case, it is free schema\n",
        "\n",
        "# in the case of class, object's construction [__init__] is required set by Python\n",
        "# it is given some parameters, upon which its value is defined\n",
        "# 'self' is by default the first parameter.\n",
        "# self: class creates its context, which means that self is the block of this class\n",
        "# then multiple parameters along with their compulsory values [str, int, etc] can be given if they [values] are not optional\n",
        "\n",
        "# since class has 2 things: methods and attributes\n",
        "# attribute: whenever a parameter is added in a class, it is required to define it with an attribute\n",
        "# below is the defining of properties of class\n",
        "\n",
        "#       self.name = name\n",
        "#       self.eyes_color = eyes_color\n",
        "#       self.face_expression = face_expression\n",
        "\n",
        "# the name 'variable' is used normally [for name, eye_color, etc], but 'property' is called inside a class\n",
        "# 'self.name' is an attribute\n",
        "# in ' = name ', name is a value, where 'Junaid' can also be written as hard-coded, but that's not a good way\n",
        "\n",
        "\n",
        "# sir_qasim = Human('Sir Qasim', 'Black', 'Happy')\n",
        "# positional arguments [sir qasim, black, etc] are given above, which starts after self parameter\n",
        "# reason for writing 'self.': to let it know that we have to create context in this 'Human' class with this 'eye_color, etc' name\n",
        "\n",
        "# print(sir_qasim): this will provide details and location about the object\n",
        "\n",
        "\n",
        "# below will provide assigned values\n",
        "\n",
        "# print(sir_qasim.eyes_color)\n",
        "# print(sir_qasim.face_expression)\n",
        "\n",
        "\n",
        "# now if below is written for another person, it will provide his values\n",
        "# sir_junaid = Human('Sir Junaid', 'Brown', 'Happy')\n",
        "# print(sir_junaid.eyes_color) # Brown\n",
        "\n",
        "# print(type(sir_junaid)) # <class '__main__.Human'>\n",
        "# this calling is called 'stence': whenever anything is created from class [Human], like you are stence of your parents\n",
        "\n",
        "# data type of Human is given to sir qasim, b/c it is created from it\n",
        "# sir_qasim:Human = Human('Sir Qasim', 'Black', 'Happy')\n",
        "# object is made from Human\n",
        "\n",
        "# print(type(Human)) # <class 'type'>"
      ],
      "metadata": {
        "id": "r__K730cUZzH"
      },
      "execution_count": 15,
      "outputs": []
    },
    {
      "cell_type": "code",
      "source": [
        "# continue from : 42:43"
      ],
      "metadata": {
        "id": "WXGfR4iJSoTR"
      },
      "execution_count": 16,
      "outputs": []
    }
  ]
}