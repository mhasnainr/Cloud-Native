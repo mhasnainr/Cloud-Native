{
  "nbformat": 4,
  "nbformat_minor": 0,
  "metadata": {
    "colab": {
      "provenance": [],
      "authorship_tag": "ABX9TyO2Kjqhigi3/GSfspnZsyVb",
      "include_colab_link": true
    },
    "kernelspec": {
      "name": "python3",
      "display_name": "Python 3"
    },
    "language_info": {
      "name": "python"
    }
  },
  "cells": [
    {
      "cell_type": "markdown",
      "metadata": {
        "id": "view-in-github",
        "colab_type": "text"
      },
      "source": [
        "<a href=\"https://colab.research.google.com/github/mhasnainr/Cloud-Native/blob/main/oop.ipynb\" target=\"_parent\"><img src=\"https://colab.research.google.com/assets/colab-badge.svg\" alt=\"Open In Colab\"/></a>"
      ]
    },
    {
      "cell_type": "markdown",
      "source": [
        "**Object Oriented Programming [OOP] in Python**"
      ],
      "metadata": {
        "id": "Q4qoLueXyQZR"
      }
    },
    {
      "cell_type": "markdown",
      "source": [
        "Paradigm of moving towards OOP?\n",
        "\n",
        "1- Linear Programming: for each type of work, each line of code was required to be written, which was complex\n",
        "\n",
        "2- Procedure Programming: Structures were made in order to remove the complexity of code/ work. Structures contained functions, if/else, for, etc.\n",
        "\n",
        "In real-world, functional programming also becomes difficult when thinking is executed based on real-scenarios\n",
        "\n",
        "3- OOP:"
      ],
      "metadata": {
        "id": "Eg-HAsLK-q1s"
      }
    },
    {
      "cell_type": "markdown",
      "source": [
        "What is an Object?\n",
        "\n",
        "- everything which has any name is called an object\n",
        "- any real-world example, like: mobile\n",
        "\n",
        "Features of Object:\n",
        "\n",
        "1- Method: performing an action\n",
        "\n",
        "E.g;\n",
        "Qasim is an object. Actions performed by Qasim are called Methods. Similarly a mobile, car, etc\n",
        "\n",
        "2- Attribute/ Properties: doesn't performs an action, but a value is stored in it, temporarily or permanently\n",
        "\n",
        "E.g:\n",
        "Currently, there are 3 objects [Sir (Zia, Qasim, Ameen)] with name properties which are different from one another, similary their qualifications, background, etc, all are different\n",
        "\n",
        "In real-world scenario, classification of different objects with different properties was executed by scientists\n",
        "\n",
        "Same type of objects are placed in a single class, like:\n",
        "Mammal class -> Human class -> Male class -> Sir Qasim\n",
        "\n",
        "Objects belonging from same class will have same methods and properties. Since it was difficult to memorise methods and propertise of each one of them, so after classification, scientists introduced the concept of 'Class'\n",
        "\n",
        "Classes like teachers and students have the same properties. single change in any of the class, will cause changes in rest of the classes as well\n",
        "\n",
        "E.g of Meta: every public user [class] will have admin user as well. If a new feature [like live streaming] is been introduced, then automatically that feature is made available to all the public users irrespective of their type of account\n",
        "\n",
        "E.g Methods of student class includes:\n",
        "- he has a register, portal,, can sumbit fee, can submit assignments, etc"
      ],
      "metadata": {
        "id": "yzYEBwOe-BMS"
      }
    },
    {
      "cell_type": "code",
      "source": [
        "# class example\n",
        "\n",
        "human_junaid: dict[str, str] = {'name':'Sir Junaid', 'eyes_color': 'brown', 'face_expression': 'ewe'}\n",
        "\n",
        "human_qasim: dict[str, str] = {'name':'Qasim', 'eyes_color': 'brown', 'face_expression': 'happy'}\n",
        "\n",
        "class Human:\n",
        "    def __init__(self, name: str, eyes_color: str, face_expression: str) -> None: # this method is called constructor\n",
        "      self.name = name\n",
        "      self.eyes_color = eyes_color\n",
        "      self.face_expression = face_expression\n",
        "\n",
        "sir_qasim = Human('Sir Qasim', 'Black', 'Happy')\n",
        "print(sir_qasim.name)\n",
        "print(sir_qasim.eyes_color)\n",
        "print(sir_qasim.face_expression)\n"
      ],
      "metadata": {
        "id": "6ZlgaRjrySRb",
        "colab": {
          "base_uri": "https://localhost:8080/"
        },
        "outputId": "f18d6351-3920-43c1-e4bf-d9add5d9435c"
      },
      "execution_count": 1,
      "outputs": [
        {
          "output_type": "stream",
          "name": "stdout",
          "text": [
            "Sir Qasim\n",
            "Black\n",
            "Happy\n"
          ]
        }
      ]
    },
    {
      "cell_type": "code",
      "source": [
        "# Breakdown of last cell\n",
        "\n",
        "\n",
        "\n",
        "# human_junaid: dict[str, str] = {'name':'Sir Junaid', 'eyes_color': 'brown', 'face_expression': 'ewe'}\n",
        "# human_qasim: dict[str, str] = {'name':'Qasim', 'eyes_color': 'brown', 'face_expression': 'happy'}\n",
        "\n",
        "# objects of junaid and qasim are made, containing all of his properties [name, eyes color, etc]\n",
        "\n",
        "\n",
        "# 'blue print' can be made using keyword of class\n",
        "# blue print will allow us to make the object.\n",
        "# this will help us in equalling the object's pattern, which means its properties will be fixed\n",
        "# whenver about a human is asked, this will include his name, eyes color, etc\n",
        "# this will help us in not repeating of properties\n",
        "# if someone forgets to write an of the property in the future\n",
        "# blue print will cover it by making an object when it's called\n",
        "\n",
        "# syntax for writing a class:\n",
        "\n",
        "# class Human:\n",
        "    # def __init__(self, name: str, eyes_color: str, face_expression: str) -> None:\n",
        "\n",
        "# class First_letter_in_uppercase, followed by an indentation [:] to write blocks\n",
        "# block's first order function is called constructor function\n",
        "# constructor function: the mechanism provided by Python for making an object\n",
        "# schema/ structure of construction: name with string, eye_colr with string, etc\n",
        "# this is also called data definition\n",
        "\n",
        "# fixed schema: when you know the structure before writing it\n",
        "# free schema: when you come to know the structure at run-time\n",
        "\n",
        "# in this case, it is free schema\n",
        "\n",
        "# in the case of class, object's construction [__init__] is required set by Python\n",
        "# it is given some parameters, upon which its value is defined\n",
        "# 'self' is by default the first parameter.\n",
        "# self: class creates its context, which means that self is the block of this class\n",
        "# then multiple parameters along with their compulsory values [str, int, etc] can be given if they [values] are not optional\n",
        "\n",
        "# since class has 2 things: methods and attributes\n",
        "# attribute: whenever a parameter is added in a class, it is required to define it with an attribute\n",
        "# below is the defining of properties of class\n",
        "\n",
        "#       self.name = name\n",
        "#       self.eyes_color = eyes_color\n",
        "#       self.face_expression = face_expression\n",
        "\n",
        "# the name 'variable' is used normally [for name, eye_color, etc], but 'property' is called inside a class\n",
        "# 'self.name' is an attribute\n",
        "# in ' = name ', name is a value, where 'Junaid' can also be written as hard-coded, but that's not a good way\n",
        "\n",
        "\n",
        "# sir_qasim = Human('Sir Qasim', 'Black', 'Happy')\n",
        "# positional arguments [sir qasim, black, etc] are given above, which starts after self parameter\n",
        "# reason for writing 'self.': to let it know that we have to create context in this 'Human' class with this 'eye_color, etc' name\n",
        "\n",
        "# print(sir_qasim): this will provide details and location about the object\n",
        "\n",
        "\n",
        "# below will provide assigned values\n",
        "\n",
        "# print(sir_qasim.eyes_color)\n",
        "# print(sir_qasim.face_expression)\n",
        "\n",
        "\n",
        "# now if below is written for another person, it will provide his values\n",
        "# sir_junaid = Human('Sir Junaid', 'Brown', 'Happy')\n",
        "# print(sir_junaid.eyes_color) # Brown\n",
        "\n",
        "# print(type(sir_junaid)) # <class '__main__.Human'>\n",
        "# this calling is called 'stence': whenever anything is created from class [Human], like you are stence of your parents\n",
        "\n",
        "# data type of Human is given to sir qasim, b/c it is created from it\n",
        "# sir_qasim:Human = Human('Sir Qasim', 'Black', 'Happy')\n",
        "# object is made from Human\n",
        "\n",
        "# print(type(Human)) # <class 'type'>"
      ],
      "metadata": {
        "id": "r__K730cUZzH"
      },
      "execution_count": null,
      "outputs": []
    },
    {
      "cell_type": "code",
      "source": [
        "# example\n",
        "\n",
        "# a toy animal is made with the help of drawing\n",
        "# so drawing is class, which helped in making a toy animal [object]"
      ],
      "metadata": {
        "id": "WXGfR4iJSoTR"
      },
      "execution_count": 1,
      "outputs": []
    },
    {
      "cell_type": "code",
      "source": [
        "# mehods can also be made inside a class\n",
        "\n",
        "class Animal:\n",
        "\n",
        "  # construction with diff parameters\n",
        "    def __init__(self, name, sound):\n",
        "        self.name = name  # Every animal has a name\n",
        "        self.sound = sound  # Every animal has a sound\n",
        "        self.hugs_given = 0\n",
        "\n",
        "\n",
        "  # functions made, which are named 'methods'\n",
        "    def give_hug(self):\n",
        "        self.hugs_given += 1\n",
        "        return \"❤️ *squeeze*\"\n",
        "\n",
        "    def make_sound(self):\n",
        "        print(f\"{self.name} goes {self.sound}\")"
      ],
      "metadata": {
        "id": "NqTDUfeaQWyl"
      },
      "execution_count": 8,
      "outputs": []
    },
    {
      "cell_type": "code",
      "source": [
        "# note:\n",
        "# Variable used in Python is controlled by Python\n",
        "# but in above example of animal's class, variables used are controlled by the class itself"
      ],
      "metadata": {
        "id": "rxy1CroNRI2F"
      },
      "execution_count": 9,
      "outputs": []
    },
    {
      "cell_type": "code",
      "source": [
        "class Human:\n",
        "  def __init__(self):\n",
        "      self.name = 'my name'\n",
        "      self.eyes_color = 'blue'\n",
        "      self.face_expression = 'moderate'\n",
        "\n",
        "sir_qasim: Human = Human()\n",
        "print(sir_qasim.name)"
      ],
      "metadata": {
        "colab": {
          "base_uri": "https://localhost:8080/"
        },
        "id": "tm5aCZSRSS1B",
        "outputId": "eeaa6cec-50b8-4800-bb1b-a4a3a0842d21"
      },
      "execution_count": 7,
      "outputs": [
        {
          "output_type": "stream",
          "name": "stdout",
          "text": [
            "my name\n"
          ]
        }
      ]
    },
    {
      "cell_type": "code",
      "source": [
        "class Human:\n",
        "  def __init__(self, name: str, eyes_color: str):\n",
        "      self.name: str = name\n",
        "      self.eyes_color: str = eyes_color\n",
        "      self.face_expression: str = 'moderate'\n",
        "  def walk(self):\n",
        "      print(f'{self.name} is walking')\n",
        "\n",
        "sir_zia = Human('Sir Zia', 'brown')\n",
        "print(sir_zia.eyes_color)\n",
        "print(sir_zia.walk)"
      ],
      "metadata": {
        "colab": {
          "base_uri": "https://localhost:8080/"
        },
        "id": "5gYGbc9VSoW3",
        "outputId": "413653ca-34d0-4539-95e9-4a17beefad38"
      },
      "execution_count": 21,
      "outputs": [
        {
          "output_type": "stream",
          "name": "stdout",
          "text": [
            "brown\n",
            "<bound method Human.walk of <__main__.Human object at 0x7d0120066150>>\n"
          ]
        }
      ]
    },
    {
      "cell_type": "code",
      "source": [
        "print(sir_zia.walk())"
      ],
      "metadata": {
        "colab": {
          "base_uri": "https://localhost:8080/"
        },
        "id": "nLid-vfjTdv3",
        "outputId": "37cbe2c2-9e14-400f-b14f-70816b133d2b"
      },
      "execution_count": 19,
      "outputs": [
        {
          "output_type": "stream",
          "name": "stdout",
          "text": [
            "Sir Zia is walking\n",
            "None\n"
          ]
        }
      ]
    },
    {
      "cell_type": "code",
      "source": [
        "# note: self is compulsory for defining a method\n",
        "\n",
        "class Human:\n",
        "  def __init__(self, name: str, eyes_color: str):\n",
        "      self.name: str = name\n",
        "      self.eyes_color: str = eyes_color\n",
        "      self.face_expression: str = 'moderate'\n",
        "\n",
        "  def walk(self):\n",
        "      print(f'{self.name} is walking')\n",
        "\n",
        "  def eat(self, food: str):\n",
        "      print(f'{self.name} is eating {food}')\n",
        "\n",
        "\n",
        "sir_zia = Human('Sir Zia', 'brown')\n",
        "print(sir_zia.eat('Pizza'))"
      ],
      "metadata": {
        "colab": {
          "base_uri": "https://localhost:8080/"
        },
        "id": "d-jzTv4KXaC-",
        "outputId": "15b4ee75-6e19-4473-83eb-6844642af42e"
      },
      "execution_count": 31,
      "outputs": [
        {
          "output_type": "stream",
          "name": "stdout",
          "text": [
            "Sir Zia is eating Pizza\n",
            "None\n"
          ]
        }
      ]
    },
    {
      "cell_type": "code",
      "source": [
        "# in Python, everything is an object\n",
        "# below, an object is made containing both the methods and attributes\n",
        "\n",
        "print(sir_zia)"
      ],
      "metadata": {
        "colab": {
          "base_uri": "https://localhost:8080/"
        },
        "id": "AjFgAHnfYhEP",
        "outputId": "d051d621-0520-45e7-d0c5-efd864745a21"
      },
      "execution_count": 28,
      "outputs": [
        {
          "output_type": "stream",
          "name": "stdout",
          "text": [
            "<__main__.Human object at 0x7d012009c990>\n"
          ]
        }
      ]
    },
    {
      "cell_type": "code",
      "source": [
        "user_name = 'sir qasim'\n",
        "print(user_name.upper())"
      ],
      "metadata": {
        "colab": {
          "base_uri": "https://localhost:8080/"
        },
        "id": "FrEfoPwUZHej",
        "outputId": "94a47421-4513-4ddf-caf0-3857b1e3f5fc"
      },
      "execution_count": 29,
      "outputs": [
        {
          "output_type": "stream",
          "name": "stdout",
          "text": [
            "SIR QASIM\n"
          ]
        }
      ]
    },
    {
      "cell_type": "code",
      "source": [
        "# __repr__: magical function for classes\n",
        "\n",
        "\n",
        "class Human:\n",
        "  def __init__(self, name: str, eyes_color: str):\n",
        "      self.name: str = name\n",
        "      self.eyes_color: str = eyes_color\n",
        "      self.face_expression: str = 'moderate'\n",
        "\n",
        "  def walk(self):\n",
        "      print(f'{self.name} is walking')\n",
        "\n",
        "  def eat(self, food: str):\n",
        "      print(f'{self.name} is eating {food}')\n",
        "\n",
        "  def __repr__(self):\n",
        "      return f'{self.name} is a Human'\n",
        "\n",
        "\n",
        "sir_zia = Human('Sir Zia', 'brown')"
      ],
      "metadata": {
        "id": "IjpnXRB3aTut"
      },
      "execution_count": 41,
      "outputs": []
    },
    {
      "cell_type": "code",
      "source": [
        "print(sir_zia)"
      ],
      "metadata": {
        "colab": {
          "base_uri": "https://localhost:8080/"
        },
        "id": "L1a7tgzybLa7",
        "outputId": "19471a20-ada0-462d-9d23-a9ae0cca40a3"
      },
      "execution_count": 42,
      "outputs": [
        {
          "output_type": "stream",
          "name": "stdout",
          "text": [
            "Sir Zia is a Human\n"
          ]
        }
      ]
    },
    {
      "cell_type": "markdown",
      "source": [
        "## Core Concpts of OOP\n",
        "\n",
        "**Class**: A blueprint for creating objects with shared attributes and methods.\n",
        "\n",
        "**Object**: An instance of a class, representing a real-world entity.\n",
        "\n",
        "**Inheritance**: A mechanism for creating new classes (child classes) from existing ones (parent classes), inheriting their properties and behaviors.\n",
        "\n",
        "**Encapsulation**: Bundling data (attributes) and methods that operate on that data within a class, hiding internal details and providing controlled access.\n",
        "\n",
        "**Polymorphism**: The ability of objects of different classes to respond to the same method call in their own specific way.\n",
        "\n",
        "**Abstraction**: Simplifying complex systems by showing only essential features while hiding unnecessary details."
      ],
      "metadata": {
        "id": "vE4rJEWscL1n"
      }
    },
    {
      "cell_type": "code",
      "source": [],
      "metadata": {
        "id": "4JqCS79FbN8u"
      },
      "execution_count": null,
      "outputs": []
    }
  ]
}