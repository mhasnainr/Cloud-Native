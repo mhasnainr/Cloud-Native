{
  "nbformat": 4,
  "nbformat_minor": 0,
  "metadata": {
    "colab": {
      "provenance": [],
      "authorship_tag": "ABX9TyPDqSFyPy0Rd+R+58hFJdla",
      "include_colab_link": true
    },
    "kernelspec": {
      "name": "python3",
      "display_name": "Python 3"
    },
    "language_info": {
      "name": "python"
    }
  },
  "cells": [
    {
      "cell_type": "markdown",
      "metadata": {
        "id": "view-in-github",
        "colab_type": "text"
      },
      "source": [
        "<a href=\"https://colab.research.google.com/github/mhasnainr/Cloud-Native/blob/main/oop.ipynb\" target=\"_parent\"><img src=\"https://colab.research.google.com/assets/colab-badge.svg\" alt=\"Open In Colab\"/></a>"
      ]
    },
    {
      "cell_type": "markdown",
      "source": [
        "**Object Oriented Programming [OOP] in Python**"
      ],
      "metadata": {
        "id": "Q4qoLueXyQZR"
      }
    },
    {
      "cell_type": "markdown",
      "source": [
        "Paradigm of moving towards OOP?\n",
        "\n",
        "1- Linear Programming: for each type of work, each line of code was required to be written, which was complex\n",
        "\n",
        "2- Procedure Programming: Structures were made in order to remove the complexity of code/ work. Structures contained functions, if/else, for, etc.\n",
        "\n",
        "In real-world, functional programming also becomes difficult when thinking is executed based on real-scenarios\n",
        "\n",
        "3- OOP:"
      ],
      "metadata": {
        "id": "Eg-HAsLK-q1s"
      }
    },
    {
      "cell_type": "markdown",
      "source": [
        "What is an Object?\n",
        "\n",
        "- everything which has any name is called an object\n",
        "- any real-world example, like: mobile\n",
        "\n",
        "Features of Object:\n",
        "\n",
        "1- Method: performing an action\n",
        "\n",
        "E.g;\n",
        "Qasim is an object. Actions performed by Qasim are called Methods. Similarly a mobile, car, etc\n",
        "\n",
        "2- Attribute/ Properties: doesn't performs an action, but a value is stored in it, temporarily or permanently\n",
        "\n",
        "E.g:\n",
        "Currently, there are 3 objects [Sir (Zia, Qasim, Ameen)] with name properties which are different from one another, similary their qualifications, background, etc, all are different\n",
        "\n",
        "In real-world scenario, classification of different objects with different properties was executed by scientists\n",
        "\n",
        "Same type of objects are placed in a single class, like:\n",
        "Human class -> Male class -> Sir Qasim\n",
        "\n",
        "Objects belonging from same class will have same methods and properties. Since it was difficult to memorise methods and propertise of each one of them, so after classification, scientists introduced the concept of 'Class'"
      ],
      "metadata": {
        "id": "yzYEBwOe-BMS"
      }
    },
    {
      "cell_type": "code",
      "source": [],
      "metadata": {
        "id": "6ZlgaRjrySRb"
      },
      "execution_count": null,
      "outputs": []
    }
  ]
}